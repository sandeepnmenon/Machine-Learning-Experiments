{
 "cells": [
  {
   "cell_type": "code",
   "execution_count": 1,
   "id": "6924c662",
   "metadata": {},
   "outputs": [],
   "source": [
    "import numpy as np\n",
    "import os\n",
    "import math\n",
    "import matplotlib.pyplot as plt\n",
    "%matplotlib inline"
   ]
  },
  {
   "cell_type": "markdown",
   "id": "3aa22b31",
   "metadata": {},
   "source": [
    "# Notes\n",
    "1. Neural networks are just mathematical expressions.\n",
    "2. Backpropagation is essentially applying the chain rule of calculus from the resulting value of an expression to get the derivative of the result w.r.t each of the variables in the expression.\n",
    "3. In a NN, the expression is a function that takes the input data and weights of the neural network, and gives the prediction in terms of the loss function. We then do backpropagation (partial derivative of each of the weights of the NN w.r.t to the loss function) to get the gradient change direction and magnitude of the loss function as each weight variable changes. Using this information, we minimize the loss.\n",
    "4. Backpropagation is general. We use it in a NN to get the gradients.\n",
    "5. In a big neural network, all the weights are represented as tensors/arrays, but the math is the same. Because they are in these arrays, we can apply backpropagation to each of those values by taking advantage of the parallelism provided by GPUs.\n"
   ]
  },
  {
   "cell_type": "code",
   "execution_count": 2,
   "id": "9e41e355",
   "metadata": {},
   "outputs": [],
   "source": [
    "def f(x):\n",
    "    return 3*x**2 - 2*x - 1"
   ]
  },
  {
   "cell_type": "code",
   "execution_count": 3,
   "id": "a9f53a12",
   "metadata": {},
   "outputs": [
    {
     "data": {
      "text/plain": [
       "[<matplotlib.lines.Line2D at 0x7ffa44a7c340>]"
      ]
     },
     "execution_count": 3,
     "metadata": {},
     "output_type": "execute_result"
    },
    {
     "data": {
      "image/png": "[encoded data removed]",
      "text/plain": [
       "<Figure size 640x480 with 1 Axes>"
      ]
     },
     "metadata": {},
     "output_type": "display_data"
    }
   ],
   "source": [
    "xs = np.arange(-5,5,0.25)\n",
    "ys = f(xs)\n",
    "plt.plot(xs,ys)"
   ]
  },
  {
   "cell_type": "code",
   "execution_count": 4,
   "id": "bfb93adf",
   "metadata": {},
   "outputs": [
    {
     "data": {
      "text/plain": [
       "16.00300000000132"
      ]
     },
     "execution_count": 4,
     "metadata": {},
     "output_type": "execute_result"
    }
   ],
   "source": [
    "# Derivative of f(x)\n",
    "h = 0.001\n",
    "x=3\n",
    "dh = (f(x+h)-f(x))/h\n",
    "dh"
   ]
  },
  {
   "cell_type": "code",
   "execution_count": 5,
   "id": "9cfb7d1f",
   "metadata": {},
   "outputs": [],
   "source": [
    "# Another f(x)\n",
    "def f(a,b,c):\n",
    "    return a*b+c\n"
   ]
  },
  {
   "cell_type": "code",
   "execution_count": 6,
   "id": "3ba4b3e4",
   "metadata": {},
   "outputs": [
    {
     "name": "stdout",
     "output_type": "stream",
     "text": [
      "y:  4\n",
      "dya:  -3.000000000064062\n",
      "dyb:  2.0000000000131024\n"
     ]
    }
   ],
   "source": [
    "h = 0.00001\n",
    "a = 2\n",
    "b = -3\n",
    "c = 10\n",
    "\n",
    "y = f(a,b,c)\n",
    "print(\"y: \", y)\n",
    "\n",
    "#dy/da\n",
    "dya = (f(a+h,b,c) - f(a,b,c))/h\n",
    "print(\"dya: \", dya)\n",
    "\n",
    "#dy/db\n",
    "dyb = (f(a,b+h,c) - f(a,b,c))/h\n",
    "print(\"dyb: \", dyb)\n"
   ]
  },
  {
   "cell_type": "markdown",
   "id": "6c8ec942",
   "metadata": {},
   "source": [
    "## For Neural networks, the expressions are massive. So we need a data structure to store those expressions and evaluate their derivates"
   ]
  },
  {
   "cell_type": "code",
   "execution_count": 7,
   "id": "75c6cae4",
   "metadata": {},
   "outputs": [],
   "source": [
    "class Value:\n",
    "    def __init__(self, data, _children=(), _op='', label=''):\n",
    "        self.data = data\n",
    "        self._prev = _children\n",
    "        self._op = _op\n",
    "        self.label = label\n",
    "        \n",
    "    def __repr__(self):\n",
    "        return f\"Value(data={self.data}, label={self.label})\"\n",
    "        \n",
    "    def __add__(self, other):\n",
    "        return Value(self.data + other.data, (self, other), '+')\n",
    "    \n",
    "    def __sub__(self, other):\n",
    "        return Value(self.data - other.data, (self, other), '-')\n",
    "    \n",
    "    def __mul__(self, other):\n",
    "        return Value(self.data * other.data, (self, other), '*')\n",
    "\n",
    "    def __div__(self, other):\n",
    "        return Value(self.data / other.data, (self, other), '/')\n",
    "    \n",
    "    def __pow__(self, other):\n",
    "        return Value(self.data ** other.data, (self, other), '**')\n",
    "    "
   ]
  },
  {
   "cell_type": "code",
   "execution_count": 8,
   "id": "04da90bd",
   "metadata": {},
   "outputs": [
    {
     "data": {
      "text/plain": [
       "(Value(data=4, label=y),\n",
       " (Value(data=-6, label=e), Value(data=10, label=c)),\n",
       " '+',\n",
       " (Value(data=2, label=a), Value(data=-3, label=b)),\n",
       " '*')"
      ]
     },
     "execution_count": 8,
     "metadata": {},
     "output_type": "execute_result"
    }
   ],
   "source": [
    "# Representing same above expression in the Value DS\n",
    "a = Value(2, label='a')\n",
    "b = Value(-3, label='b')\n",
    "c = Value(10, label='c')\n",
    "\n",
    "e = a*b; e.label='e'\n",
    "y = e + c # Equivalent to a.__mul__(b).__add__(c)\n",
    "y.label = 'y'\n",
    "y, y._prev, y._op, y._prev[0]._prev, y._prev[0]._op"
   ]
  },
  {
   "cell_type": "code",
   "execution_count": 167,
   "id": "5019b68c",
   "metadata": {},
   "outputs": [
    {
     "data": {
      "image/svg+xml": "<?xml version=\"1.0\" encoding=\"UTF-8\" standalone=\"no\"?>\n<!DOCTYPE svg PUBLIC \"-//W3C//DTD SVG 1.1//EN\"\n \"http://www.w3.org/Graphics/SVG/1.1/DTD/svg11.dtd\">\n<!-- Generated by graphviz version 2.50.0 (0)\n -->\n<!-- Pages: 1 -->\n<svg width=\"472pt\" height=\"153pt\"\n viewBox=\"0.00 0.00 472.00 153.00\" xmlns=\"http://www.w3.org/2000/svg\" xmlns:xlink=\"http://www.w3.org/1999/xlink\">\n<g id=\"graph0\" class=\"graph\" transform=\"scale(1 1) rotate(0) translate(4 149)\">\n<polygon fill=\"white\" stroke=\"transparent\" points=\"-4,4 -4,-149 468,-149 468,4 -4,4\"/>\n<!-- 140712861197840 -->\n<g id=\"node1\" class=\"node\">\n<title>140712861197840</title>\n<polygon fill=\"none\" stroke=\"black\" points=\"2.5,-98.5 2.5,-144.5 68.5,-144.5 68.5,-98.5 2.5,-98.5\"/>\n<text text-anchor=\"middle\" x=\"35.5\" y=\"-129.3\" font-family=\"Times,serif\" font-size=\"14.00\">a</text>\n<polyline fill=\"none\" stroke=\"black\" points=\"2.5,-121.5 68.5,-121.5 \"/>\n<text text-anchor=\"middle\" x=\"35.5\" y=\"-106.3\" font-family=\"Times,serif\" font-size=\"14.00\">data: 2</text>\n</g>\n<!-- 140712861198704* -->\n<g id=\"node6\" class=\"node\">\n<title>140712861198704*</title>\n<ellipse fill=\"none\" stroke=\"black\" cx=\"134\" cy=\"-88.5\" rx=\"27\" ry=\"18\"/>\n<text text-anchor=\"middle\" x=\"134\" y=\"-84.8\" font-family=\"Times,serif\" font-size=\"14.00\">*</text>\n</g>\n<!-- 140712861197840&#45;&gt;140712861198704* -->\n<g id=\"edge5\" class=\"edge\">\n<title>140712861197840&#45;&gt;140712861198704*</title>\n<path fill=\"none\" stroke=\"black\" d=\"M68.63,-110.51C78.67,-107.08 89.75,-103.29 99.85,-99.84\"/>\n<polygon fill=\"black\" stroke=\"black\" points=\"101.22,-103.07 109.55,-96.52 98.96,-96.44 101.22,-103.07\"/>\n</g>\n<!-- 140712861198656 -->\n<g id=\"node2\" class=\"node\">\n<title>140712861198656</title>\n<polygon fill=\"none\" stroke=\"black\" points=\"197,-0.5 197,-46.5 272,-46.5 272,-0.5 197,-0.5\"/>\n<text text-anchor=\"middle\" x=\"234.5\" y=\"-31.3\" font-family=\"Times,serif\" font-size=\"14.00\">c</text>\n<polyline fill=\"none\" stroke=\"black\" points=\"197,-23.5 272,-23.5 \"/>\n<text text-anchor=\"middle\" x=\"234.5\" y=\"-8.3\" font-family=\"Times,serif\" font-size=\"14.00\">data: 10</text>\n</g>\n<!-- 140712861199712+ -->\n<g id=\"node4\" class=\"node\">\n<title>140712861199712+</title>\n<ellipse fill=\"none\" stroke=\"black\" cx=\"335\" cy=\"-55.5\" rx=\"27\" ry=\"18\"/>\n<text text-anchor=\"middle\" x=\"335\" y=\"-51.8\" font-family=\"Times,serif\" font-size=\"14.00\">+</text>\n</g>\n<!-- 140712861198656&#45;&gt;140712861199712+ -->\n<g id=\"edge6\" class=\"edge\">\n<title>140712861198656&#45;&gt;140712861199712+</title>\n<path fill=\"none\" stroke=\"black\" d=\"M272.18,-35.42C281.58,-38.47 291.63,-41.74 300.84,-44.73\"/>\n<polygon fill=\"black\" stroke=\"black\" points=\"299.84,-48.08 310.43,-47.84 302,-41.43 299.84,-48.08\"/>\n</g>\n<!-- 140712861199712 -->\n<g id=\"node3\" class=\"node\">\n<title>140712861199712</title>\n<polygon fill=\"none\" stroke=\"black\" points=\"398,-32.5 398,-78.5 464,-78.5 464,-32.5 398,-32.5\"/>\n<text text-anchor=\"middle\" x=\"431\" y=\"-63.3\" font-family=\"Times,serif\" font-size=\"14.00\">y</text>\n<polyline fill=\"none\" stroke=\"black\" points=\"398,-55.5 464,-55.5 \"/>\n<text text-anchor=\"middle\" x=\"431\" y=\"-40.3\" font-family=\"Times,serif\" font-size=\"14.00\">data: 4</text>\n</g>\n<!-- 140712861199712+&#45;&gt;140712861199712 -->\n<g id=\"edge1\" class=\"edge\">\n<title>140712861199712+&#45;&gt;140712861199712</title>\n<path fill=\"none\" stroke=\"black\" d=\"M362.18,-55.5C370.15,-55.5 379.11,-55.5 387.85,-55.5\"/>\n<polygon fill=\"black\" stroke=\"black\" points=\"387.93,-59 397.93,-55.5 387.93,-52 387.93,-59\"/>\n</g>\n<!-- 140712861198704 -->\n<g id=\"node5\" class=\"node\">\n<title>140712861198704</title>\n<polygon fill=\"none\" stroke=\"black\" points=\"199,-65.5 199,-111.5 270,-111.5 270,-65.5 199,-65.5\"/>\n<text text-anchor=\"middle\" x=\"234.5\" y=\"-96.3\" font-family=\"Times,serif\" font-size=\"14.00\">e</text>\n<polyline fill=\"none\" stroke=\"black\" points=\"199,-88.5 270,-88.5 \"/>\n<text text-anchor=\"middle\" x=\"234.5\" y=\"-73.3\" font-family=\"Times,serif\" font-size=\"14.00\">data: &#45;6</text>\n</g>\n<!-- 140712861198704&#45;&gt;140712861199712+ -->\n<g id=\"edge3\" class=\"edge\">\n<title>140712861198704&#45;&gt;140712861199712+</title>\n<path fill=\"none\" stroke=\"black\" d=\"M270.23,-76.87C280.09,-73.56 290.81,-69.97 300.6,-66.69\"/>\n<polygon fill=\"black\" stroke=\"black\" points=\"302.01,-69.91 310.38,-63.41 299.79,-63.27 302.01,-69.91\"/>\n</g>\n<!-- 140712861198704*&#45;&gt;140712861198704 -->\n<g id=\"edge2\" class=\"edge\">\n<title>140712861198704*&#45;&gt;140712861198704</title>\n<path fill=\"none\" stroke=\"black\" d=\"M161.14,-88.5C169.59,-88.5 179.22,-88.5 188.64,-88.5\"/>\n<polygon fill=\"black\" stroke=\"black\" points=\"188.7,-92 198.7,-88.5 188.7,-85 188.7,-92\"/>\n</g>\n<!-- 140712861199280 -->\n<g id=\"node7\" class=\"node\">\n<title>140712861199280</title>\n<polygon fill=\"none\" stroke=\"black\" points=\"0,-33.5 0,-79.5 71,-79.5 71,-33.5 0,-33.5\"/>\n<text text-anchor=\"middle\" x=\"35.5\" y=\"-64.3\" font-family=\"Times,serif\" font-size=\"14.00\">b</text>\n<polyline fill=\"none\" stroke=\"black\" points=\"0,-56.5 71,-56.5 \"/>\n<text text-anchor=\"middle\" x=\"35.5\" y=\"-41.3\" font-family=\"Times,serif\" font-size=\"14.00\">data: &#45;3</text>\n</g>\n<!-- 140712861199280&#45;&gt;140712861198704* -->\n<g id=\"edge4\" class=\"edge\">\n<title>140712861199280&#45;&gt;140712861198704*</title>\n<path fill=\"none\" stroke=\"black\" d=\"M71.07,-67.96C80.44,-71.07 90.56,-74.43 99.86,-77.51\"/>\n<polygon fill=\"black\" stroke=\"black\" points=\"98.94,-80.89 109.54,-80.72 101.15,-74.25 98.94,-80.89\"/>\n</g>\n</g>\n</svg>\n",
      "text/plain": [
       "<graphviz.graphs.Digraph at 0x7ffa446c0ca0>"
      ]
     },
     "execution_count": 167,
     "metadata": {},
     "output_type": "execute_result"
    }
   ],
   "source": [
    "# Representing this expression as a graph\n",
    "\n",
    "from graphviz import Digraph\n",
    "\n",
    "def build(vertex, nodes, edges):\n",
    "    if vertex not in nodes:\n",
    "        nodes.add(vertex)\n",
    "        for child in vertex._prev:\n",
    "            edges.add((child, vertex))\n",
    "            build(child, nodes, edges)\n",
    "\n",
    "\n",
    "def trace(root):\n",
    "    # builds a set of all nodes and edges in a graph\n",
    "    nodes, edges = set(), set()\n",
    "    build(root, nodes, edges)\n",
    "    \n",
    "    return nodes, edges\n",
    "    \n",
    "\n",
    "def draw_graph(root):\n",
    "    graph = Digraph(format='svg', graph_attr={'rankdir': 'LR'})\n",
    "    nodes, edges = trace(root)\n",
    "    \n",
    "    for node in nodes:\n",
    "        uid = str(id(node))\n",
    "        \n",
    "        if hasattr(node, \"grad\"):\n",
    "            graph.node(name=uid, label = f\"{node.label} | data: {node.data} | grad: {node.grad}\", shape='record')\n",
    "        else:\n",
    "            graph.node(name=uid, label = f\"{node.label} | data: {node.data}\", shape='record')\n",
    "            \n",
    "        if node._op:\n",
    "            graph.node(name = uid + node._op, label = node._op)\n",
    "            graph.edge(uid+node._op, uid)\n",
    "        \n",
    "    for node1, node2 in edges:\n",
    "        graph.edge(str(id(node1)), str(id(node2)) + node2._op)\n",
    "        \n",
    "    return graph\n",
    "\n",
    "        \n",
    "draw_graph(y)"
   ]
  },
  {
   "cell_type": "code",
   "execution_count": 12,
   "id": "ffb00313",
   "metadata": {},
   "outputs": [
    {
     "data": {
      "text/plain": [
       "Value(data=-8, label=L)"
      ]
     },
     "execution_count": 12,
     "metadata": {},
     "output_type": "execute_result"
    }
   ],
   "source": [
    "# Representing another expression in the Value DS\n",
    "a = Value(2, label='a')\n",
    "b = Value(-3, label='b')\n",
    "c = Value(10, label='c')\n",
    "\n",
    "e = a*b; e.label='e'\n",
    "d = e + c; d.label = 'd'\n",
    "f = Value(-2, label='f')\n",
    "L = f*d; L.label='L'\n",
    "L"
   ]
  },
  {
   "cell_type": "code",
   "execution_count": 13,
   "id": "7ff30d53",
   "metadata": {},
   "outputs": [
    {
     "data": {
      "image/svg+xml": "<?xml version=\"1.0\" encoding=\"UTF-8\" standalone=\"no\"?>\n<!DOCTYPE svg PUBLIC \"-//W3C//DTD SVG 1.1//EN\"\n \"http://www.w3.org/Graphics/SVG/1.1/DTD/svg11.dtd\">\n<!-- Generated by graphviz version 2.50.0 (0)\n -->\n<!-- Pages: 1 -->\n<svg width=\"674pt\" height=\"153pt\"\n viewBox=\"0.00 0.00 674.00 153.00\" xmlns=\"http://www.w3.org/2000/svg\" xmlns:xlink=\"http://www.w3.org/1999/xlink\">\n<g id=\"graph0\" class=\"graph\" transform=\"scale(1 1) rotate(0) translate(4 149)\">\n<polygon fill=\"white\" stroke=\"transparent\" points=\"-4,4 -4,-149 670,-149 670,4 -4,4\"/>\n<!-- 140712861313632 -->\n<g id=\"node1\" class=\"node\">\n<title>140712861313632</title>\n<polygon fill=\"none\" stroke=\"black\" points=\"197,-98.5 197,-144.5 272,-144.5 272,-98.5 197,-98.5\"/>\n<text text-anchor=\"middle\" x=\"234.5\" y=\"-129.3\" font-family=\"Times,serif\" font-size=\"14.00\">c</text>\n<polyline fill=\"none\" stroke=\"black\" points=\"197,-121.5 272,-121.5 \"/>\n<text text-anchor=\"middle\" x=\"234.5\" y=\"-106.3\" font-family=\"Times,serif\" font-size=\"14.00\">data: 10</text>\n</g>\n<!-- 140712861311472+ -->\n<g id=\"node10\" class=\"node\">\n<title>140712861311472+</title>\n<ellipse fill=\"none\" stroke=\"black\" cx=\"335\" cy=\"-88.5\" rx=\"27\" ry=\"18\"/>\n<text text-anchor=\"middle\" x=\"335\" y=\"-84.8\" font-family=\"Times,serif\" font-size=\"14.00\">+</text>\n</g>\n<!-- 140712861313632&#45;&gt;140712861311472+ -->\n<g id=\"edge9\" class=\"edge\">\n<title>140712861313632&#45;&gt;140712861311472+</title>\n<path fill=\"none\" stroke=\"black\" d=\"M272.18,-109.21C281.58,-106.06 291.63,-102.69 300.84,-99.61\"/>\n<polygon fill=\"black\" stroke=\"black\" points=\"302.06,-102.89 310.43,-96.4 299.84,-96.25 302.06,-102.89\"/>\n</g>\n<!-- 140712861314688 -->\n<g id=\"node2\" class=\"node\">\n<title>140712861314688</title>\n<polygon fill=\"none\" stroke=\"black\" points=\"199,-33.5 199,-79.5 270,-79.5 270,-33.5 199,-33.5\"/>\n<text text-anchor=\"middle\" x=\"234.5\" y=\"-64.3\" font-family=\"Times,serif\" font-size=\"14.00\">e</text>\n<polyline fill=\"none\" stroke=\"black\" points=\"199,-56.5 270,-56.5 \"/>\n<text text-anchor=\"middle\" x=\"234.5\" y=\"-41.3\" font-family=\"Times,serif\" font-size=\"14.00\">data: &#45;6</text>\n</g>\n<!-- 140712861314688&#45;&gt;140712861311472+ -->\n<g id=\"edge7\" class=\"edge\">\n<title>140712861314688&#45;&gt;140712861311472+</title>\n<path fill=\"none\" stroke=\"black\" d=\"M270.23,-67.78C280.09,-70.99 290.81,-74.47 300.6,-77.65\"/>\n<polygon fill=\"black\" stroke=\"black\" points=\"299.79,-81.07 310.38,-80.83 301.95,-74.41 299.79,-81.07\"/>\n</g>\n<!-- 140712861314688* -->\n<g id=\"node3\" class=\"node\">\n<title>140712861314688*</title>\n<ellipse fill=\"none\" stroke=\"black\" cx=\"134\" cy=\"-56.5\" rx=\"27\" ry=\"18\"/>\n<text text-anchor=\"middle\" x=\"134\" y=\"-52.8\" font-family=\"Times,serif\" font-size=\"14.00\">*</text>\n</g>\n<!-- 140712861314688*&#45;&gt;140712861314688 -->\n<g id=\"edge1\" class=\"edge\">\n<title>140712861314688*&#45;&gt;140712861314688</title>\n<path fill=\"none\" stroke=\"black\" d=\"M161.14,-56.5C169.59,-56.5 179.22,-56.5 188.64,-56.5\"/>\n<polygon fill=\"black\" stroke=\"black\" points=\"188.7,-60 198.7,-56.5 188.7,-53 188.7,-60\"/>\n</g>\n<!-- 140712861314784 -->\n<g id=\"node4\" class=\"node\">\n<title>140712861314784</title>\n<polygon fill=\"none\" stroke=\"black\" points=\"2.5,-66.5 2.5,-112.5 68.5,-112.5 68.5,-66.5 2.5,-66.5\"/>\n<text text-anchor=\"middle\" x=\"35.5\" y=\"-97.3\" font-family=\"Times,serif\" font-size=\"14.00\">a</text>\n<polyline fill=\"none\" stroke=\"black\" points=\"2.5,-89.5 68.5,-89.5 \"/>\n<text text-anchor=\"middle\" x=\"35.5\" y=\"-74.3\" font-family=\"Times,serif\" font-size=\"14.00\">data: 2</text>\n</g>\n<!-- 140712861314784&#45;&gt;140712861314688* -->\n<g id=\"edge6\" class=\"edge\">\n<title>140712861314784&#45;&gt;140712861314688*</title>\n<path fill=\"none\" stroke=\"black\" d=\"M68.63,-78.51C78.67,-75.08 89.75,-71.29 99.85,-67.84\"/>\n<polygon fill=\"black\" stroke=\"black\" points=\"101.22,-71.07 109.55,-64.52 98.96,-64.44 101.22,-71.07\"/>\n</g>\n<!-- 140712861313296 -->\n<g id=\"node5\" class=\"node\">\n<title>140712861313296</title>\n<polygon fill=\"none\" stroke=\"black\" points=\"595,-32.5 595,-78.5 666,-78.5 666,-32.5 595,-32.5\"/>\n<text text-anchor=\"middle\" x=\"630.5\" y=\"-63.3\" font-family=\"Times,serif\" font-size=\"14.00\">L</text>\n<polyline fill=\"none\" stroke=\"black\" points=\"595,-55.5 666,-55.5 \"/>\n<text text-anchor=\"middle\" x=\"630.5\" y=\"-40.3\" font-family=\"Times,serif\" font-size=\"14.00\">data: &#45;8</text>\n</g>\n<!-- 140712861313296* -->\n<g id=\"node6\" class=\"node\">\n<title>140712861313296*</title>\n<ellipse fill=\"none\" stroke=\"black\" cx=\"532\" cy=\"-55.5\" rx=\"27\" ry=\"18\"/>\n<text text-anchor=\"middle\" x=\"532\" y=\"-51.8\" font-family=\"Times,serif\" font-size=\"14.00\">*</text>\n</g>\n<!-- 140712861313296*&#45;&gt;140712861313296 -->\n<g id=\"edge2\" class=\"edge\">\n<title>140712861313296*&#45;&gt;140712861313296</title>\n<path fill=\"none\" stroke=\"black\" d=\"M559.11,-55.5C566.98,-55.5 575.84,-55.5 584.56,-55.5\"/>\n<polygon fill=\"black\" stroke=\"black\" points=\"584.66,-59 594.66,-55.5 584.66,-52 584.66,-59\"/>\n</g>\n<!-- 140712861312432 -->\n<g id=\"node7\" class=\"node\">\n<title>140712861312432</title>\n<polygon fill=\"none\" stroke=\"black\" points=\"0,-1.5 0,-47.5 71,-47.5 71,-1.5 0,-1.5\"/>\n<text text-anchor=\"middle\" x=\"35.5\" y=\"-32.3\" font-family=\"Times,serif\" font-size=\"14.00\">b</text>\n<polyline fill=\"none\" stroke=\"black\" points=\"0,-24.5 71,-24.5 \"/>\n<text text-anchor=\"middle\" x=\"35.5\" y=\"-9.3\" font-family=\"Times,serif\" font-size=\"14.00\">data: &#45;3</text>\n</g>\n<!-- 140712861312432&#45;&gt;140712861314688* -->\n<g id=\"edge5\" class=\"edge\">\n<title>140712861312432&#45;&gt;140712861314688*</title>\n<path fill=\"none\" stroke=\"black\" d=\"M71.07,-35.96C80.44,-39.07 90.56,-42.43 99.86,-45.51\"/>\n<polygon fill=\"black\" stroke=\"black\" points=\"98.94,-48.89 109.54,-48.72 101.15,-42.25 98.94,-48.89\"/>\n</g>\n<!-- 140712861312960 -->\n<g id=\"node8\" class=\"node\">\n<title>140712861312960</title>\n<polygon fill=\"none\" stroke=\"black\" points=\"398,-0.5 398,-46.5 469,-46.5 469,-0.5 398,-0.5\"/>\n<text text-anchor=\"middle\" x=\"433.5\" y=\"-31.3\" font-family=\"Times,serif\" font-size=\"14.00\">f</text>\n<polyline fill=\"none\" stroke=\"black\" points=\"398,-23.5 469,-23.5 \"/>\n<text text-anchor=\"middle\" x=\"433.5\" y=\"-8.3\" font-family=\"Times,serif\" font-size=\"14.00\">data: &#45;2</text>\n</g>\n<!-- 140712861312960&#45;&gt;140712861313296* -->\n<g id=\"edge8\" class=\"edge\">\n<title>140712861312960&#45;&gt;140712861313296*</title>\n<path fill=\"none\" stroke=\"black\" d=\"M469.07,-34.96C478.44,-38.07 488.56,-41.43 497.86,-44.51\"/>\n<polygon fill=\"black\" stroke=\"black\" points=\"496.94,-47.89 507.54,-47.72 499.15,-41.25 496.94,-47.89\"/>\n</g>\n<!-- 140712861311472 -->\n<g id=\"node9\" class=\"node\">\n<title>140712861311472</title>\n<polygon fill=\"none\" stroke=\"black\" points=\"400.5,-65.5 400.5,-111.5 466.5,-111.5 466.5,-65.5 400.5,-65.5\"/>\n<text text-anchor=\"middle\" x=\"433.5\" y=\"-96.3\" font-family=\"Times,serif\" font-size=\"14.00\">d</text>\n<polyline fill=\"none\" stroke=\"black\" points=\"400.5,-88.5 466.5,-88.5 \"/>\n<text text-anchor=\"middle\" x=\"433.5\" y=\"-73.3\" font-family=\"Times,serif\" font-size=\"14.00\">data: 4</text>\n</g>\n<!-- 140712861311472&#45;&gt;140712861313296* -->\n<g id=\"edge4\" class=\"edge\">\n<title>140712861311472&#45;&gt;140712861313296*</title>\n<path fill=\"none\" stroke=\"black\" d=\"M466.63,-77.51C476.67,-74.08 487.75,-70.29 497.85,-66.84\"/>\n<polygon fill=\"black\" stroke=\"black\" points=\"499.22,-70.07 507.55,-63.52 496.96,-63.44 499.22,-70.07\"/>\n</g>\n<!-- 140712861311472+&#45;&gt;140712861311472 -->\n<g id=\"edge3\" class=\"edge\">\n<title>140712861311472+&#45;&gt;140712861311472</title>\n<path fill=\"none\" stroke=\"black\" d=\"M362.11,-88.5C370.72,-88.5 380.53,-88.5 390.04,-88.5\"/>\n<polygon fill=\"black\" stroke=\"black\" points=\"390.16,-92 400.16,-88.5 390.16,-85 390.16,-92\"/>\n</g>\n</g>\n</svg>\n",
      "text/plain": [
       "<graphviz.graphs.Digraph at 0x7ffa441d2970>"
      ]
     },
     "execution_count": 13,
     "metadata": {},
     "output_type": "execute_result"
    }
   ],
   "source": [
    "draw_graph(L)"
   ]
  },
  {
   "cell_type": "markdown",
   "id": "1aacdcbe",
   "metadata": {},
   "source": [
    "## Now we need to calculate the derivative of L w.r.t each node for every node\n",
    "### Eg dL/df, dL/de etc.\n",
    "\n",
    "These nodes will eventually represent the weights of the neural network. So by doing backpropagation we know how the change in each of these weights is affecting the loss function. We can use this information to minimize the loss.\n",
    "So essentially we need d(output)/d(weights) for all weights\n",
    "We usually dont take derivative of the input because inputs are usually fixed and weights are trained"
   ]
  },
  {
   "cell_type": "code",
   "execution_count": 41,
   "id": "739535bf",
   "metadata": {},
   "outputs": [
    {
     "data": {
      "text/plain": [
       "False"
      ]
     },
     "execution_count": 41,
     "metadata": {},
     "output_type": "execute_result"
    }
   ],
   "source": [
    "np.isscalar(f)"
   ]
  },
  {
   "cell_type": "code",
   "execution_count": 30,
   "id": "8eacea8d",
   "metadata": {},
   "outputs": [],
   "source": [
    "# Rewriting Value with gradient calculation\n",
    "import numpy as np\n",
    "class Value:\n",
    "    def __init__(self, data, _children=(), _op='', label=''):\n",
    "        self.data = data\n",
    "        self._prev = _children\n",
    "        self.grad = 0.0\n",
    "        self._op = _op\n",
    "        self.label = label\n",
    "        \n",
    "    def __repr__(self):\n",
    "        return f\"Value(data={self.data}, label={self.label})\"\n",
    "        \n",
    "    def __add__(self, other):\n",
    "        if np.isscalar(other):\n",
    "            return Value(self.data + other, (self, other), '+')\n",
    "        else:\n",
    "            return Value(self.data + other.data, (self, other), '+')\n",
    "    \n",
    "    def __sub__(self, other):\n",
    "        return Value(self.data - other.data, (self, other), '-')\n",
    "    \n",
    "    def __mul__(self, other):\n",
    "        return Value(self.data * other.data, (self, other), '*')\n",
    "\n",
    "    def __truediv__(self, other):\n",
    "        if np.isscalar(other):\n",
    "            return Value(self.data / other, (self, other), '/')\n",
    "        else:\n",
    "            return Value(self.data / other.data, (self, other), '/')\n",
    "    \n",
    "    def __pow__(self, other):\n",
    "        return Value(self.data ** other.data, (self, other), '**')\n",
    "\n",
    "    def tanh(self):\n",
    "        n = self.data\n",
    "        tanh_value = (math.exp(2*n)-1)/(math.exp(2*n)+1)\n",
    "        return Value(tanh_value, (self,), 'tanh')\n",
    "    "
   ]
  },
  {
   "cell_type": "code",
   "execution_count": 26,
   "id": "abb27b1c",
   "metadata": {},
   "outputs": [
    {
     "data": {
      "image/svg+xml": "<?xml version=\"1.0\" encoding=\"UTF-8\" standalone=\"no\"?>\n<!DOCTYPE svg PUBLIC \"-//W3C//DTD SVG 1.1//EN\"\n \"http://www.w3.org/Graphics/SVG/1.1/DTD/svg11.dtd\">\n<!-- Generated by graphviz version 2.50.0 (0)\n -->\n<!-- Pages: 1 -->\n<svg width=\"710pt\" height=\"254pt\"\n viewBox=\"0.00 0.00 710.00 254.00\" xmlns=\"http://www.w3.org/2000/svg\" xmlns:xlink=\"http://www.w3.org/1999/xlink\">\n<g id=\"graph0\" class=\"graph\" transform=\"scale(1 1) rotate(0) translate(4 250)\">\n<polygon fill=\"white\" stroke=\"transparent\" points=\"-4,4 -4,-250 706,-250 706,4 -4,4\"/>\n<!-- 140711151276144 -->\n<g id=\"node1\" class=\"node\">\n<title>140711151276144</title>\n<polygon fill=\"none\" stroke=\"black\" points=\"0,-176.5 0,-245.5 81,-245.5 81,-176.5 0,-176.5\"/>\n<text text-anchor=\"middle\" x=\"40.5\" y=\"-230.3\" font-family=\"Times,serif\" font-size=\"14.00\">a</text>\n<polyline fill=\"none\" stroke=\"black\" points=\"0,-222.5 81,-222.5 \"/>\n<text text-anchor=\"middle\" x=\"40.5\" y=\"-207.3\" font-family=\"Times,serif\" font-size=\"14.00\">data: 2</text>\n<polyline fill=\"none\" stroke=\"black\" points=\"0,-199.5 81,-199.5 \"/>\n<text text-anchor=\"middle\" x=\"40.5\" y=\"-184.3\" font-family=\"Times,serif\" font-size=\"14.00\">grad: 0.0</text>\n</g>\n<!-- 140711151278928* -->\n<g id=\"node8\" class=\"node\">\n<title>140711151278928*</title>\n<ellipse fill=\"none\" stroke=\"black\" cx=\"144\" cy=\"-167\" rx=\"27\" ry=\"18\"/>\n<text text-anchor=\"middle\" x=\"144\" y=\"-163.3\" font-family=\"Times,serif\" font-size=\"14.00\">*</text>\n</g>\n<!-- 140711151276144&#45;&gt;140711151278928* -->\n<g id=\"edge9\" class=\"edge\">\n<title>140711151276144&#45;&gt;140711151278928*</title>\n<path fill=\"none\" stroke=\"black\" d=\"M81.03,-193.86C91.22,-189.45 102.04,-184.76 111.74,-180.55\"/>\n<polygon fill=\"black\" stroke=\"black\" points=\"113.22,-183.72 121,-176.54 110.44,-177.3 113.22,-183.72\"/>\n</g>\n<!-- 140711151278832 -->\n<g id=\"node2\" class=\"node\">\n<title>140711151278832</title>\n<polygon fill=\"none\" stroke=\"black\" points=\"621,-44.5 621,-113.5 702,-113.5 702,-44.5 621,-44.5\"/>\n<text text-anchor=\"middle\" x=\"661.5\" y=\"-98.3\" font-family=\"Times,serif\" font-size=\"14.00\">L</text>\n<polyline fill=\"none\" stroke=\"black\" points=\"621,-90.5 702,-90.5 \"/>\n<text text-anchor=\"middle\" x=\"661.5\" y=\"-75.3\" font-family=\"Times,serif\" font-size=\"14.00\">data: &#45;8</text>\n<polyline fill=\"none\" stroke=\"black\" points=\"621,-67.5 702,-67.5 \"/>\n<text text-anchor=\"middle\" x=\"661.5\" y=\"-52.3\" font-family=\"Times,serif\" font-size=\"14.00\">grad: 0.0</text>\n</g>\n<!-- 140711151278832* -->\n<g id=\"node3\" class=\"node\">\n<title>140711151278832*</title>\n<ellipse fill=\"none\" stroke=\"black\" cx=\"558\" cy=\"-79\" rx=\"27\" ry=\"18\"/>\n<text text-anchor=\"middle\" x=\"558\" y=\"-75.3\" font-family=\"Times,serif\" font-size=\"14.00\">*</text>\n</g>\n<!-- 140711151278832*&#45;&gt;140711151278832 -->\n<g id=\"edge1\" class=\"edge\">\n<title>140711151278832*&#45;&gt;140711151278832</title>\n<path fill=\"none\" stroke=\"black\" d=\"M585.14,-79C592.91,-79 601.69,-79 610.45,-79\"/>\n<polygon fill=\"black\" stroke=\"black\" points=\"610.65,-82.5 620.65,-79 610.65,-75.5 610.65,-82.5\"/>\n</g>\n<!-- 140713270324480 -->\n<g id=\"node4\" class=\"node\">\n<title>140713270324480</title>\n<polygon fill=\"none\" stroke=\"black\" points=\"414,-0.5 414,-69.5 495,-69.5 495,-0.5 414,-0.5\"/>\n<text text-anchor=\"middle\" x=\"454.5\" y=\"-54.3\" font-family=\"Times,serif\" font-size=\"14.00\">f</text>\n<polyline fill=\"none\" stroke=\"black\" points=\"414,-46.5 495,-46.5 \"/>\n<text text-anchor=\"middle\" x=\"454.5\" y=\"-31.3\" font-family=\"Times,serif\" font-size=\"14.00\">data: &#45;2</text>\n<polyline fill=\"none\" stroke=\"black\" points=\"414,-23.5 495,-23.5 \"/>\n<text text-anchor=\"middle\" x=\"454.5\" y=\"-8.3\" font-family=\"Times,serif\" font-size=\"14.00\">grad: 0.0</text>\n</g>\n<!-- 140713270324480&#45;&gt;140711151278832* -->\n<g id=\"edge5\" class=\"edge\">\n<title>140713270324480&#45;&gt;140711151278832*</title>\n<path fill=\"none\" stroke=\"black\" d=\"M495.03,-52.14C505.22,-56.55 516.04,-61.24 525.74,-65.45\"/>\n<polygon fill=\"black\" stroke=\"black\" points=\"524.44,-68.7 535,-69.46 527.22,-62.28 524.44,-68.7\"/>\n</g>\n<!-- 140711151277344 -->\n<g id=\"node5\" class=\"node\">\n<title>140711151277344</title>\n<polygon fill=\"none\" stroke=\"black\" points=\"0,-88.5 0,-157.5 81,-157.5 81,-88.5 0,-88.5\"/>\n<text text-anchor=\"middle\" x=\"40.5\" y=\"-142.3\" font-family=\"Times,serif\" font-size=\"14.00\">b</text>\n<polyline fill=\"none\" stroke=\"black\" points=\"0,-134.5 81,-134.5 \"/>\n<text text-anchor=\"middle\" x=\"40.5\" y=\"-119.3\" font-family=\"Times,serif\" font-size=\"14.00\">data: &#45;3</text>\n<polyline fill=\"none\" stroke=\"black\" points=\"0,-111.5 81,-111.5 \"/>\n<text text-anchor=\"middle\" x=\"40.5\" y=\"-96.3\" font-family=\"Times,serif\" font-size=\"14.00\">grad: 0.0</text>\n</g>\n<!-- 140711151277344&#45;&gt;140711151278928* -->\n<g id=\"edge7\" class=\"edge\">\n<title>140711151277344&#45;&gt;140711151278928*</title>\n<path fill=\"none\" stroke=\"black\" d=\"M81.03,-140.14C91.22,-144.55 102.04,-149.24 111.74,-153.45\"/>\n<polygon fill=\"black\" stroke=\"black\" points=\"110.44,-156.7 121,-157.46 113.22,-150.28 110.44,-156.7\"/>\n</g>\n<!-- 140711151279408 -->\n<g id=\"node6\" class=\"node\">\n<title>140711151279408</title>\n<polygon fill=\"none\" stroke=\"black\" points=\"207,-44.5 207,-113.5 288,-113.5 288,-44.5 207,-44.5\"/>\n<text text-anchor=\"middle\" x=\"247.5\" y=\"-98.3\" font-family=\"Times,serif\" font-size=\"14.00\">c</text>\n<polyline fill=\"none\" stroke=\"black\" points=\"207,-90.5 288,-90.5 \"/>\n<text text-anchor=\"middle\" x=\"247.5\" y=\"-75.3\" font-family=\"Times,serif\" font-size=\"14.00\">data: 10</text>\n<polyline fill=\"none\" stroke=\"black\" points=\"207,-67.5 288,-67.5 \"/>\n<text text-anchor=\"middle\" x=\"247.5\" y=\"-52.3\" font-family=\"Times,serif\" font-size=\"14.00\">grad: 0.0</text>\n</g>\n<!-- 140713270324144+ -->\n<g id=\"node10\" class=\"node\">\n<title>140713270324144+</title>\n<ellipse fill=\"none\" stroke=\"black\" cx=\"351\" cy=\"-123\" rx=\"27\" ry=\"18\"/>\n<text text-anchor=\"middle\" x=\"351\" y=\"-119.3\" font-family=\"Times,serif\" font-size=\"14.00\">+</text>\n</g>\n<!-- 140711151279408&#45;&gt;140713270324144+ -->\n<g id=\"edge8\" class=\"edge\">\n<title>140711151279408&#45;&gt;140713270324144+</title>\n<path fill=\"none\" stroke=\"black\" d=\"M288.03,-96.14C298.22,-100.55 309.04,-105.24 318.74,-109.45\"/>\n<polygon fill=\"black\" stroke=\"black\" points=\"317.44,-112.7 328,-113.46 320.22,-106.28 317.44,-112.7\"/>\n</g>\n<!-- 140711151278928 -->\n<g id=\"node7\" class=\"node\">\n<title>140711151278928</title>\n<polygon fill=\"none\" stroke=\"black\" points=\"207,-132.5 207,-201.5 288,-201.5 288,-132.5 207,-132.5\"/>\n<text text-anchor=\"middle\" x=\"247.5\" y=\"-186.3\" font-family=\"Times,serif\" font-size=\"14.00\">e</text>\n<polyline fill=\"none\" stroke=\"black\" points=\"207,-178.5 288,-178.5 \"/>\n<text text-anchor=\"middle\" x=\"247.5\" y=\"-163.3\" font-family=\"Times,serif\" font-size=\"14.00\">data: &#45;6</text>\n<polyline fill=\"none\" stroke=\"black\" points=\"207,-155.5 288,-155.5 \"/>\n<text text-anchor=\"middle\" x=\"247.5\" y=\"-140.3\" font-family=\"Times,serif\" font-size=\"14.00\">grad: 0.0</text>\n</g>\n<!-- 140711151278928&#45;&gt;140713270324144+ -->\n<g id=\"edge4\" class=\"edge\">\n<title>140711151278928&#45;&gt;140713270324144+</title>\n<path fill=\"none\" stroke=\"black\" d=\"M288.03,-149.86C298.22,-145.45 309.04,-140.76 318.74,-136.55\"/>\n<polygon fill=\"black\" stroke=\"black\" points=\"320.22,-139.72 328,-132.54 317.44,-133.3 320.22,-139.72\"/>\n</g>\n<!-- 140711151278928*&#45;&gt;140711151278928 -->\n<g id=\"edge2\" class=\"edge\">\n<title>140711151278928*&#45;&gt;140711151278928</title>\n<path fill=\"none\" stroke=\"black\" d=\"M171.14,-167C178.91,-167 187.69,-167 196.45,-167\"/>\n<polygon fill=\"black\" stroke=\"black\" points=\"196.65,-170.5 206.65,-167 196.65,-163.5 196.65,-170.5\"/>\n</g>\n<!-- 140713270324144 -->\n<g id=\"node9\" class=\"node\">\n<title>140713270324144</title>\n<polygon fill=\"none\" stroke=\"black\" points=\"414,-88.5 414,-157.5 495,-157.5 495,-88.5 414,-88.5\"/>\n<text text-anchor=\"middle\" x=\"454.5\" y=\"-142.3\" font-family=\"Times,serif\" font-size=\"14.00\">d</text>\n<polyline fill=\"none\" stroke=\"black\" points=\"414,-134.5 495,-134.5 \"/>\n<text text-anchor=\"middle\" x=\"454.5\" y=\"-119.3\" font-family=\"Times,serif\" font-size=\"14.00\">data: 4</text>\n<polyline fill=\"none\" stroke=\"black\" points=\"414,-111.5 495,-111.5 \"/>\n<text text-anchor=\"middle\" x=\"454.5\" y=\"-96.3\" font-family=\"Times,serif\" font-size=\"14.00\">grad: 0.0</text>\n</g>\n<!-- 140713270324144&#45;&gt;140711151278832* -->\n<g id=\"edge6\" class=\"edge\">\n<title>140713270324144&#45;&gt;140711151278832*</title>\n<path fill=\"none\" stroke=\"black\" d=\"M495.03,-105.86C505.22,-101.45 516.04,-96.76 525.74,-92.55\"/>\n<polygon fill=\"black\" stroke=\"black\" points=\"527.22,-95.72 535,-88.54 524.44,-89.3 527.22,-95.72\"/>\n</g>\n<!-- 140713270324144+&#45;&gt;140713270324144 -->\n<g id=\"edge3\" class=\"edge\">\n<title>140713270324144+&#45;&gt;140713270324144</title>\n<path fill=\"none\" stroke=\"black\" d=\"M378.14,-123C385.91,-123 394.69,-123 403.45,-123\"/>\n<polygon fill=\"black\" stroke=\"black\" points=\"403.65,-126.5 413.65,-123 403.65,-119.5 403.65,-126.5\"/>\n</g>\n</g>\n</svg>\n",
      "text/plain": [
       "<graphviz.graphs.Digraph at 0x7ffa441d2640>"
      ]
     },
     "execution_count": 26,
     "metadata": {},
     "output_type": "execute_result"
    }
   ],
   "source": [
    "# Representing another expression in the Value DS\n",
    "a = Value(2, label='a')\n",
    "b = Value(-3, label='b')\n",
    "c = Value(10, label='c')\n",
    "\n",
    "e = a*b; e.label='e'\n",
    "d = e + c; d.label = 'd'\n",
    "f = Value(-2, label='f')\n",
    "L = f*d; L.label='L'\n",
    "draw_graph(L)"
   ]
  },
  {
   "cell_type": "code",
   "execution_count": 22,
   "id": "9ac70c6e",
   "metadata": {},
   "outputs": [
    {
     "data": {
      "text/plain": [
       "Value(data=6.000000000128124, label=)"
      ]
     },
     "execution_count": 22,
     "metadata": {},
     "output_type": "execute_result"
    }
   ],
   "source": [
    "# Numerical gradient calculationg of each variable w.r.t L\n",
    "h=0.00001\n",
    "\n",
    "a = Value(2, label='a')\n",
    "b = Value(-3, label='b')\n",
    "c = Value(10, label='c')\n",
    "\n",
    "e = a*b; e.label='e'\n",
    "d = e + c; d.label = 'd'\n",
    "f = Value(-2, label='f')\n",
    "L1 = f*d; L.label='L1'\n",
    "\n",
    "a = Value(2, label='a')\n",
    "a = a + h \n",
    "b = Value(-3, label='b')\n",
    "c = Value(10, label='c')\n",
    "# c = c+h\n",
    "e = a*b; e.label='e'\n",
    "# e=e+h\n",
    "d = e + c; d.label = 'd'\n",
    "f = Value(-2, label='f')\n",
    "\n",
    "L2 = f*d; L.label='L2'\n",
    "\n",
    "(L2-L1)/h"
   ]
  },
  {
   "cell_type": "code",
   "execution_count": 27,
   "id": "a50c64d1",
   "metadata": {},
   "outputs": [],
   "source": [
    "# Manually filling gradients by evaluating chain rule\n",
    "L.grad = 1 # dL/dL\n",
    "f.grad = 4 # dL/df = d(f*d)/df = d\n",
    "d.grad = -2 # dL/dd = d(f*d)/dd = f\n",
    "c.grad = -2 # dL/dc = (dL/dd)*(dd/dc) = -2 * d(e+c)/dc = -2 * 1 = -2\n",
    "e.grad = -2 # dL/de = (dL/dd)*(dd/de) = -2 * d(e+c)/de = -2 * 1 = -2\n",
    "b.grad = -4 # dL/db = (dL/de)*(de/db) = -2 * d(a*b)/db = -2 * a = -2 * 2 = -4\n",
    "a.grad = 6 # dL/da = (dL/de)*(de/da) = -2 * d(a*b)/da = -2 * b = -2 * -3 = 6"
   ]
  },
  {
   "cell_type": "code",
   "execution_count": 28,
   "id": "d0514c83",
   "metadata": {},
   "outputs": [
    {
     "data": {
      "image/svg+xml": "<?xml version=\"1.0\" encoding=\"UTF-8\" standalone=\"no\"?>\n<!DOCTYPE svg PUBLIC \"-//W3C//DTD SVG 1.1//EN\"\n \"http://www.w3.org/Graphics/SVG/1.1/DTD/svg11.dtd\">\n<!-- Generated by graphviz version 2.50.0 (0)\n -->\n<!-- Pages: 1 -->\n<svg width=\"676pt\" height=\"254pt\"\n viewBox=\"0.00 0.00 676.00 254.00\" xmlns=\"http://www.w3.org/2000/svg\" xmlns:xlink=\"http://www.w3.org/1999/xlink\">\n<g id=\"graph0\" class=\"graph\" transform=\"scale(1 1) rotate(0) translate(4 250)\">\n<polygon fill=\"white\" stroke=\"transparent\" points=\"-4,4 -4,-250 672,-250 672,4 -4,4\"/>\n<!-- 140711151276144 -->\n<g id=\"node1\" class=\"node\">\n<title>140711151276144</title>\n<polygon fill=\"none\" stroke=\"black\" points=\"2,-176.5 2,-245.5 70,-245.5 70,-176.5 2,-176.5\"/>\n<text text-anchor=\"middle\" x=\"36\" y=\"-230.3\" font-family=\"Times,serif\" font-size=\"14.00\">a</text>\n<polyline fill=\"none\" stroke=\"black\" points=\"2,-222.5 70,-222.5 \"/>\n<text text-anchor=\"middle\" x=\"36\" y=\"-207.3\" font-family=\"Times,serif\" font-size=\"14.00\">data: 2</text>\n<polyline fill=\"none\" stroke=\"black\" points=\"2,-199.5 70,-199.5 \"/>\n<text text-anchor=\"middle\" x=\"36\" y=\"-184.3\" font-family=\"Times,serif\" font-size=\"14.00\">grad: 6</text>\n</g>\n<!-- 140711151278928* -->\n<g id=\"node8\" class=\"node\">\n<title>140711151278928*</title>\n<ellipse fill=\"none\" stroke=\"black\" cx=\"135\" cy=\"-167\" rx=\"27\" ry=\"18\"/>\n<text text-anchor=\"middle\" x=\"135\" y=\"-163.3\" font-family=\"Times,serif\" font-size=\"14.00\">*</text>\n</g>\n<!-- 140711151276144&#45;&gt;140711151278928* -->\n<g id=\"edge9\" class=\"edge\">\n<title>140711151276144&#45;&gt;140711151278928*</title>\n<path fill=\"none\" stroke=\"black\" d=\"M70.11,-195.98C80.78,-191.14 92.57,-185.79 103.08,-181.03\"/>\n<polygon fill=\"black\" stroke=\"black\" points=\"104.64,-184.16 112.3,-176.84 101.75,-177.79 104.64,-184.16\"/>\n</g>\n<!-- 140711151278832 -->\n<g id=\"node2\" class=\"node\">\n<title>140711151278832</title>\n<polygon fill=\"none\" stroke=\"black\" points=\"597,-44.5 597,-113.5 668,-113.5 668,-44.5 597,-44.5\"/>\n<text text-anchor=\"middle\" x=\"632.5\" y=\"-98.3\" font-family=\"Times,serif\" font-size=\"14.00\">L</text>\n<polyline fill=\"none\" stroke=\"black\" points=\"597,-90.5 668,-90.5 \"/>\n<text text-anchor=\"middle\" x=\"632.5\" y=\"-75.3\" font-family=\"Times,serif\" font-size=\"14.00\">data: &#45;8</text>\n<polyline fill=\"none\" stroke=\"black\" points=\"597,-67.5 668,-67.5 \"/>\n<text text-anchor=\"middle\" x=\"632.5\" y=\"-52.3\" font-family=\"Times,serif\" font-size=\"14.00\">grad: 1</text>\n</g>\n<!-- 140711151278832* -->\n<g id=\"node3\" class=\"node\">\n<title>140711151278832*</title>\n<ellipse fill=\"none\" stroke=\"black\" cx=\"534\" cy=\"-79\" rx=\"27\" ry=\"18\"/>\n<text text-anchor=\"middle\" x=\"534\" y=\"-75.3\" font-family=\"Times,serif\" font-size=\"14.00\">*</text>\n</g>\n<!-- 140711151278832*&#45;&gt;140711151278832 -->\n<g id=\"edge1\" class=\"edge\">\n<title>140711151278832*&#45;&gt;140711151278832</title>\n<path fill=\"none\" stroke=\"black\" d=\"M561.11,-79C568.98,-79 577.84,-79 586.56,-79\"/>\n<polygon fill=\"black\" stroke=\"black\" points=\"586.66,-82.5 596.66,-79 586.66,-75.5 586.66,-82.5\"/>\n</g>\n<!-- 140713270324480 -->\n<g id=\"node4\" class=\"node\">\n<title>140713270324480</title>\n<polygon fill=\"none\" stroke=\"black\" points=\"399.5,-0.5 399.5,-69.5 470.5,-69.5 470.5,-0.5 399.5,-0.5\"/>\n<text text-anchor=\"middle\" x=\"435\" y=\"-54.3\" font-family=\"Times,serif\" font-size=\"14.00\">f</text>\n<polyline fill=\"none\" stroke=\"black\" points=\"399.5,-46.5 470.5,-46.5 \"/>\n<text text-anchor=\"middle\" x=\"435\" y=\"-31.3\" font-family=\"Times,serif\" font-size=\"14.00\">data: &#45;2</text>\n<polyline fill=\"none\" stroke=\"black\" points=\"399.5,-23.5 470.5,-23.5 \"/>\n<text text-anchor=\"middle\" x=\"435\" y=\"-8.3\" font-family=\"Times,serif\" font-size=\"14.00\">grad: 4</text>\n</g>\n<!-- 140713270324480&#45;&gt;140711151278832* -->\n<g id=\"edge5\" class=\"edge\">\n<title>140713270324480&#45;&gt;140711151278832*</title>\n<path fill=\"none\" stroke=\"black\" d=\"M470.75,-50.76C480.96,-55.4 492.07,-60.43 502.03,-64.95\"/>\n<polygon fill=\"black\" stroke=\"black\" points=\"500.61,-68.15 511.17,-69.1 503.51,-61.78 500.61,-68.15\"/>\n</g>\n<!-- 140711151277344 -->\n<g id=\"node5\" class=\"node\">\n<title>140711151277344</title>\n<polygon fill=\"none\" stroke=\"black\" points=\"0,-88.5 0,-157.5 72,-157.5 72,-88.5 0,-88.5\"/>\n<text text-anchor=\"middle\" x=\"36\" y=\"-142.3\" font-family=\"Times,serif\" font-size=\"14.00\">b</text>\n<polyline fill=\"none\" stroke=\"black\" points=\"0,-134.5 72,-134.5 \"/>\n<text text-anchor=\"middle\" x=\"36\" y=\"-119.3\" font-family=\"Times,serif\" font-size=\"14.00\">data: &#45;3</text>\n<polyline fill=\"none\" stroke=\"black\" points=\"0,-111.5 72,-111.5 \"/>\n<text text-anchor=\"middle\" x=\"36\" y=\"-96.3\" font-family=\"Times,serif\" font-size=\"14.00\">grad: &#45;4</text>\n</g>\n<!-- 140711151277344&#45;&gt;140711151278928* -->\n<g id=\"edge7\" class=\"edge\">\n<title>140711151277344&#45;&gt;140711151278928*</title>\n<path fill=\"none\" stroke=\"black\" d=\"M72.02,-138.89C82.11,-143.46 93.05,-148.43 102.89,-152.89\"/>\n<polygon fill=\"black\" stroke=\"black\" points=\"101.74,-156.21 112.29,-157.15 104.63,-149.83 101.74,-156.21\"/>\n</g>\n<!-- 140711151279408 -->\n<g id=\"node6\" class=\"node\">\n<title>140711151279408</title>\n<polygon fill=\"none\" stroke=\"black\" points=\"198,-44.5 198,-113.5 273,-113.5 273,-44.5 198,-44.5\"/>\n<text text-anchor=\"middle\" x=\"235.5\" y=\"-98.3\" font-family=\"Times,serif\" font-size=\"14.00\">c</text>\n<polyline fill=\"none\" stroke=\"black\" points=\"198,-90.5 273,-90.5 \"/>\n<text text-anchor=\"middle\" x=\"235.5\" y=\"-75.3\" font-family=\"Times,serif\" font-size=\"14.00\">data: 10</text>\n<polyline fill=\"none\" stroke=\"black\" points=\"198,-67.5 273,-67.5 \"/>\n<text text-anchor=\"middle\" x=\"235.5\" y=\"-52.3\" font-family=\"Times,serif\" font-size=\"14.00\">grad: &#45;2</text>\n</g>\n<!-- 140713270324144+ -->\n<g id=\"node10\" class=\"node\">\n<title>140713270324144+</title>\n<ellipse fill=\"none\" stroke=\"black\" cx=\"336\" cy=\"-123\" rx=\"27\" ry=\"18\"/>\n<text text-anchor=\"middle\" x=\"336\" y=\"-119.3\" font-family=\"Times,serif\" font-size=\"14.00\">+</text>\n</g>\n<!-- 140711151279408&#45;&gt;140713270324144+ -->\n<g id=\"edge8\" class=\"edge\">\n<title>140711151279408&#45;&gt;140713270324144+</title>\n<path fill=\"none\" stroke=\"black\" d=\"M273.18,-95.38C283.27,-99.89 294.12,-104.74 303.86,-109.09\"/>\n<polygon fill=\"black\" stroke=\"black\" points=\"302.62,-112.37 313.17,-113.25 305.47,-105.98 302.62,-112.37\"/>\n</g>\n<!-- 140711151278928 -->\n<g id=\"node7\" class=\"node\">\n<title>140711151278928</title>\n<polygon fill=\"none\" stroke=\"black\" points=\"199.5,-132.5 199.5,-201.5 271.5,-201.5 271.5,-132.5 199.5,-132.5\"/>\n<text text-anchor=\"middle\" x=\"235.5\" y=\"-186.3\" font-family=\"Times,serif\" font-size=\"14.00\">e</text>\n<polyline fill=\"none\" stroke=\"black\" points=\"199.5,-178.5 271.5,-178.5 \"/>\n<text text-anchor=\"middle\" x=\"235.5\" y=\"-163.3\" font-family=\"Times,serif\" font-size=\"14.00\">data: &#45;6</text>\n<polyline fill=\"none\" stroke=\"black\" points=\"199.5,-155.5 271.5,-155.5 \"/>\n<text text-anchor=\"middle\" x=\"235.5\" y=\"-140.3\" font-family=\"Times,serif\" font-size=\"14.00\">grad: &#45;2</text>\n</g>\n<!-- 140711151278928&#45;&gt;140713270324144+ -->\n<g id=\"edge4\" class=\"edge\">\n<title>140711151278928&#45;&gt;140713270324144+</title>\n<path fill=\"none\" stroke=\"black\" d=\"M271.5,-151.36C281.98,-146.68 293.4,-141.58 303.62,-137.02\"/>\n<polygon fill=\"black\" stroke=\"black\" points=\"305.29,-140.1 313,-132.83 302.44,-133.71 305.29,-140.1\"/>\n</g>\n<!-- 140711151278928*&#45;&gt;140711151278928 -->\n<g id=\"edge2\" class=\"edge\">\n<title>140711151278928*&#45;&gt;140711151278928</title>\n<path fill=\"none\" stroke=\"black\" d=\"M162.14,-167C170.42,-167 179.83,-167 189.06,-167\"/>\n<polygon fill=\"black\" stroke=\"black\" points=\"189.33,-170.5 199.33,-167 189.33,-163.5 189.33,-170.5\"/>\n</g>\n<!-- 140713270324144 -->\n<g id=\"node9\" class=\"node\">\n<title>140713270324144</title>\n<polygon fill=\"none\" stroke=\"black\" points=\"399,-88.5 399,-157.5 471,-157.5 471,-88.5 399,-88.5\"/>\n<text text-anchor=\"middle\" x=\"435\" y=\"-142.3\" font-family=\"Times,serif\" font-size=\"14.00\">d</text>\n<polyline fill=\"none\" stroke=\"black\" points=\"399,-134.5 471,-134.5 \"/>\n<text text-anchor=\"middle\" x=\"435\" y=\"-119.3\" font-family=\"Times,serif\" font-size=\"14.00\">data: 4</text>\n<polyline fill=\"none\" stroke=\"black\" points=\"399,-111.5 471,-111.5 \"/>\n<text text-anchor=\"middle\" x=\"435\" y=\"-96.3\" font-family=\"Times,serif\" font-size=\"14.00\">grad: &#45;2</text>\n</g>\n<!-- 140713270324144&#45;&gt;140711151278832* -->\n<g id=\"edge6\" class=\"edge\">\n<title>140713270324144&#45;&gt;140711151278832*</title>\n<path fill=\"none\" stroke=\"black\" d=\"M471.02,-107.11C481.11,-102.54 492.05,-97.57 501.89,-93.11\"/>\n<polygon fill=\"black\" stroke=\"black\" points=\"503.63,-96.17 511.29,-88.85 500.74,-89.79 503.63,-96.17\"/>\n</g>\n<!-- 140713270324144+&#45;&gt;140713270324144 -->\n<g id=\"edge3\" class=\"edge\">\n<title>140713270324144+&#45;&gt;140713270324144</title>\n<path fill=\"none\" stroke=\"black\" d=\"M363.25,-123C371.15,-123 380.06,-123 388.83,-123\"/>\n<polygon fill=\"black\" stroke=\"black\" points=\"388.98,-126.5 398.98,-123 388.98,-119.5 388.98,-126.5\"/>\n</g>\n</g>\n</svg>\n",
      "text/plain": [
       "<graphviz.graphs.Digraph at 0x7ffa449fef10>"
      ]
     },
     "execution_count": 28,
     "metadata": {},
     "output_type": "execute_result"
    }
   ],
   "source": [
    "draw_graph(L)"
   ]
  },
  {
   "cell_type": "markdown",
   "id": "29efddfb",
   "metadata": {},
   "source": [
    "## Backpropagation\n",
    "### Essentially chain rule of calculus applied recursively through the computational graph from output to input (backwards)\n",
    "\n",
    "### Loss function is reduced by changing the values along the gradients"
   ]
  },
  {
   "cell_type": "code",
   "execution_count": 93,
   "id": "9ae6cdd6",
   "metadata": {},
   "outputs": [
    {
     "data": {
      "text/plain": [
       "-7.286496"
      ]
     },
     "execution_count": 93,
     "metadata": {},
     "output_type": "execute_result"
    }
   ],
   "source": [
    "# Loss updated by updating the values along the gradients\n",
    "# Nudging inputs in the direction of the gradient to incrase the value of L\n",
    "# We expect a less negative L value\n",
    "a.data += 0.01 * a.grad\n",
    "b.data += 0.01 * b.grad\n",
    "c.data += 0.01 * c.grad\n",
    "f.data += 0.01 * f.grad\n",
    "\n",
    "e = a*b\n",
    "d = e + c\n",
    "L = f*d\n",
    "\n",
    "L.data"
   ]
  },
  {
   "cell_type": "markdown",
   "id": "fddf01b8",
   "metadata": {},
   "source": [
    "### Trying out manual backpropagation on a neuron"
   ]
  },
  {
   "cell_type": "code",
   "execution_count": 49,
   "id": "083915db",
   "metadata": {},
   "outputs": [],
   "source": [
    "# Inputs x1 and x2\n",
    "x1 = Value(2, label=\"x1\")\n",
    "x2 = Value(1, label=\"x2\")\n",
    "# two weights for each input\n",
    "w1 = Value(-3, label=\"w1\")\n",
    "w2 = Value(0, label=\"w2\")\n",
    "# bias of the neuron\n",
    "b = Value(8, label=\"b\")\n",
    "\n",
    "# Applying sum of inputs with weights\n",
    "x1w1 = x1*w1\n",
    "x1w1.label=\"x1w1\"\n",
    "x2w2 = x2*w2\n",
    "x2w2.label=\"x2w2\"\n",
    "x1w1x2w2 = x1w1 + x2w2\n",
    "x1w1x2w2.label = \"x1w1+x2w2\"\n",
    "neuron1 = x1w1x2w2 + b\n",
    "neuron1.label = \"neuron1\"\n",
    "output = neuron1.tanh()\n",
    "output.label = \"output\"\n"
   ]
  },
  {
   "cell_type": "code",
   "execution_count": 51,
   "id": "c48810cb",
   "metadata": {},
   "outputs": [
    {
     "data": {
      "image/svg+xml": "<?xml version=\"1.0\" encoding=\"UTF-8\" standalone=\"no\"?>\n<!DOCTYPE svg PUBLIC \"-//W3C//DTD SVG 1.1//EN\"\n \"http://www.w3.org/Graphics/SVG/1.1/DTD/svg11.dtd\">\n<!-- Generated by graphviz version 2.50.0 (0)\n -->\n<!-- Pages: 1 -->\n<svg width=\"1637pt\" height=\"342pt\"\n viewBox=\"0.00 0.00 1636.69 342.00\" xmlns=\"http://www.w3.org/2000/svg\" xmlns:xlink=\"http://www.w3.org/1999/xlink\">\n<g id=\"graph0\" class=\"graph\" transform=\"scale(1 1) rotate(0) translate(4 338)\">\n<polygon fill=\"white\" stroke=\"transparent\" points=\"-4,4 -4,-338 1632.69,-338 1632.69,4 -4,4\"/>\n<!-- 140712869415952 -->\n<g id=\"node1\" class=\"node\">\n<title>140712869415952</title>\n<polygon fill=\"none\" stroke=\"black\" points=\"72,-264.5 72,-333.5 153,-333.5 153,-264.5 72,-264.5\"/>\n<text text-anchor=\"middle\" x=\"112.5\" y=\"-318.3\" font-family=\"Times,serif\" font-size=\"14.00\">x2</text>\n<polyline fill=\"none\" stroke=\"black\" points=\"72,-310.5 153,-310.5 \"/>\n<text text-anchor=\"middle\" x=\"112.5\" y=\"-295.3\" font-family=\"Times,serif\" font-size=\"14.00\">data: 1</text>\n<polyline fill=\"none\" stroke=\"black\" points=\"72,-287.5 153,-287.5 \"/>\n<text text-anchor=\"middle\" x=\"112.5\" y=\"-272.3\" font-family=\"Times,serif\" font-size=\"14.00\">grad: 0.0</text>\n</g>\n<!-- 140712861311184* -->\n<g id=\"node12\" class=\"node\">\n<title>140712861311184*</title>\n<ellipse fill=\"none\" stroke=\"black\" cx=\"288\" cy=\"-211\" rx=\"27\" ry=\"18\"/>\n<text text-anchor=\"middle\" x=\"288\" y=\"-207.3\" font-family=\"Times,serif\" font-size=\"14.00\">*</text>\n</g>\n<!-- 140712869415952&#45;&gt;140712861311184* -->\n<g id=\"edge11\" class=\"edge\">\n<title>140712869415952&#45;&gt;140712861311184*</title>\n<path fill=\"none\" stroke=\"black\" d=\"M153.24,-285.96C175.01,-278.17 202.13,-267.39 225,-255 237.73,-248.1 250.93,-239.04 261.86,-230.93\"/>\n<polygon fill=\"black\" stroke=\"black\" points=\"264.24,-233.52 270.09,-224.69 260.01,-227.95 264.24,-233.52\"/>\n</g>\n<!-- 140712870112800 -->\n<g id=\"node2\" class=\"node\">\n<title>140712870112800</title>\n<polygon fill=\"none\" stroke=\"black\" points=\"1053,-88.5 1053,-157.5 1278,-157.5 1278,-88.5 1053,-88.5\"/>\n<text text-anchor=\"middle\" x=\"1165.5\" y=\"-142.3\" font-family=\"Times,serif\" font-size=\"14.00\">neuron1</text>\n<polyline fill=\"none\" stroke=\"black\" points=\"1053,-134.5 1278,-134.5 \"/>\n<text text-anchor=\"middle\" x=\"1165.5\" y=\"-119.3\" font-family=\"Times,serif\" font-size=\"14.00\">data: 2</text>\n<polyline fill=\"none\" stroke=\"black\" points=\"1053,-111.5 1278,-111.5 \"/>\n<text text-anchor=\"middle\" x=\"1165.5\" y=\"-96.3\" font-family=\"Times,serif\" font-size=\"14.00\">grad: 0.07065082485316443</text>\n</g>\n<!-- 140712870112512tanh -->\n<g id=\"node14\" class=\"node\">\n<title>140712870112512tanh</title>\n<ellipse fill=\"none\" stroke=\"black\" cx=\"1345.85\" cy=\"-123\" rx=\"31.7\" ry=\"18\"/>\n<text text-anchor=\"middle\" x=\"1345.85\" y=\"-119.3\" font-family=\"Times,serif\" font-size=\"14.00\">tanh</text>\n</g>\n<!-- 140712870112800&#45;&gt;140712870112512tanh -->\n<g id=\"edge8\" class=\"edge\">\n<title>140712870112800&#45;&gt;140712870112512tanh</title>\n<path fill=\"none\" stroke=\"black\" d=\"M1278.18,-123C1287.06,-123 1295.63,-123 1303.48,-123\"/>\n<polygon fill=\"black\" stroke=\"black\" points=\"1303.73,-126.5 1313.73,-123 1303.73,-119.5 1303.73,-126.5\"/>\n</g>\n<!-- 140712870112800+ -->\n<g id=\"node3\" class=\"node\">\n<title>140712870112800+</title>\n<ellipse fill=\"none\" stroke=\"black\" cx=\"990\" cy=\"-123\" rx=\"27\" ry=\"18\"/>\n<text text-anchor=\"middle\" x=\"990\" y=\"-119.3\" font-family=\"Times,serif\" font-size=\"14.00\">+</text>\n</g>\n<!-- 140712870112800+&#45;&gt;140712870112800 -->\n<g id=\"edge1\" class=\"edge\">\n<title>140712870112800+&#45;&gt;140712870112800</title>\n<path fill=\"none\" stroke=\"black\" d=\"M1017.35,-123C1024.8,-123 1033.43,-123 1042.7,-123\"/>\n<polygon fill=\"black\" stroke=\"black\" points=\"1042.98,-126.5 1052.98,-123 1042.98,-119.5 1042.98,-126.5\"/>\n</g>\n<!-- 140712861313056 -->\n<g id=\"node4\" class=\"node\">\n<title>140712861313056</title>\n<polygon fill=\"none\" stroke=\"black\" points=\"702,-132.5 702,-201.5 927,-201.5 927,-132.5 702,-132.5\"/>\n<text text-anchor=\"middle\" x=\"814.5\" y=\"-186.3\" font-family=\"Times,serif\" font-size=\"14.00\">x1w1+x2w2</text>\n<polyline fill=\"none\" stroke=\"black\" points=\"702,-178.5 927,-178.5 \"/>\n<text text-anchor=\"middle\" x=\"814.5\" y=\"-163.3\" font-family=\"Times,serif\" font-size=\"14.00\">data: &#45;6</text>\n<polyline fill=\"none\" stroke=\"black\" points=\"702,-155.5 927,-155.5 \"/>\n<text text-anchor=\"middle\" x=\"814.5\" y=\"-140.3\" font-family=\"Times,serif\" font-size=\"14.00\">grad: 0.07065082485316443</text>\n</g>\n<!-- 140712861313056&#45;&gt;140712870112800+ -->\n<g id=\"edge14\" class=\"edge\">\n<title>140712861313056&#45;&gt;140712870112800+</title>\n<path fill=\"none\" stroke=\"black\" d=\"M927.34,-138.64C937.12,-136.16 946.42,-133.8 954.71,-131.7\"/>\n<polygon fill=\"black\" stroke=\"black\" points=\"955.79,-135.03 964.62,-129.18 954.06,-128.25 955.79,-135.03\"/>\n</g>\n<!-- 140712861313056+ -->\n<g id=\"node5\" class=\"node\">\n<title>140712861313056+</title>\n<ellipse fill=\"none\" stroke=\"black\" cx=\"639\" cy=\"-167\" rx=\"27\" ry=\"18\"/>\n<text text-anchor=\"middle\" x=\"639\" y=\"-163.3\" font-family=\"Times,serif\" font-size=\"14.00\">+</text>\n</g>\n<!-- 140712861313056+&#45;&gt;140712861313056 -->\n<g id=\"edge2\" class=\"edge\">\n<title>140712861313056+&#45;&gt;140712861313056</title>\n<path fill=\"none\" stroke=\"black\" d=\"M666.35,-167C673.8,-167 682.43,-167 691.7,-167\"/>\n<polygon fill=\"black\" stroke=\"black\" points=\"691.98,-170.5 701.98,-167 691.98,-163.5 691.98,-170.5\"/>\n</g>\n<!-- 140712869416000 -->\n<g id=\"node6\" class=\"node\">\n<title>140712869416000</title>\n<polygon fill=\"none\" stroke=\"black\" points=\"0,-176.5 0,-245.5 225,-245.5 225,-176.5 0,-176.5\"/>\n<text text-anchor=\"middle\" x=\"112.5\" y=\"-230.3\" font-family=\"Times,serif\" font-size=\"14.00\">w2</text>\n<polyline fill=\"none\" stroke=\"black\" points=\"0,-222.5 225,-222.5 \"/>\n<text text-anchor=\"middle\" x=\"112.5\" y=\"-207.3\" font-family=\"Times,serif\" font-size=\"14.00\">data: 0</text>\n<polyline fill=\"none\" stroke=\"black\" points=\"0,-199.5 225,-199.5 \"/>\n<text text-anchor=\"middle\" x=\"112.5\" y=\"-184.3\" font-family=\"Times,serif\" font-size=\"14.00\">grad: 0.07065082485316443</text>\n</g>\n<!-- 140712869416000&#45;&gt;140712861311184* -->\n<g id=\"edge12\" class=\"edge\">\n<title>140712869416000&#45;&gt;140712861311184*</title>\n<path fill=\"none\" stroke=\"black\" d=\"M225.34,-211C234.36,-211 242.98,-211 250.76,-211\"/>\n<polygon fill=\"black\" stroke=\"black\" points=\"250.83,-214.5 260.83,-211 250.83,-207.5 250.83,-214.5\"/>\n</g>\n<!-- 140712869416528 -->\n<g id=\"node7\" class=\"node\">\n<title>140712869416528</title>\n<polygon fill=\"none\" stroke=\"black\" points=\"0,-88.5 0,-157.5 225,-157.5 225,-88.5 0,-88.5\"/>\n<text text-anchor=\"middle\" x=\"112.5\" y=\"-142.3\" font-family=\"Times,serif\" font-size=\"14.00\">w1</text>\n<polyline fill=\"none\" stroke=\"black\" points=\"0,-134.5 225,-134.5 \"/>\n<text text-anchor=\"middle\" x=\"112.5\" y=\"-119.3\" font-family=\"Times,serif\" font-size=\"14.00\">data: &#45;3</text>\n<polyline fill=\"none\" stroke=\"black\" points=\"0,-111.5 225,-111.5 \"/>\n<text text-anchor=\"middle\" x=\"112.5\" y=\"-96.3\" font-family=\"Times,serif\" font-size=\"14.00\">grad: 0.14130164970632886</text>\n</g>\n<!-- 140712870072480* -->\n<g id=\"node9\" class=\"node\">\n<title>140712870072480*</title>\n<ellipse fill=\"none\" stroke=\"black\" cx=\"288\" cy=\"-123\" rx=\"27\" ry=\"18\"/>\n<text text-anchor=\"middle\" x=\"288\" y=\"-119.3\" font-family=\"Times,serif\" font-size=\"14.00\">*</text>\n</g>\n<!-- 140712869416528&#45;&gt;140712870072480* -->\n<g id=\"edge10\" class=\"edge\">\n<title>140712869416528&#45;&gt;140712870072480*</title>\n<path fill=\"none\" stroke=\"black\" d=\"M225.34,-123C234.36,-123 242.98,-123 250.76,-123\"/>\n<polygon fill=\"black\" stroke=\"black\" points=\"250.83,-126.5 260.83,-123 250.83,-119.5 250.83,-126.5\"/>\n</g>\n<!-- 140712870072480 -->\n<g id=\"node8\" class=\"node\">\n<title>140712870072480</title>\n<polygon fill=\"none\" stroke=\"black\" points=\"351,-88.5 351,-157.5 576,-157.5 576,-88.5 351,-88.5\"/>\n<text text-anchor=\"middle\" x=\"463.5\" y=\"-142.3\" font-family=\"Times,serif\" font-size=\"14.00\">x1w1</text>\n<polyline fill=\"none\" stroke=\"black\" points=\"351,-134.5 576,-134.5 \"/>\n<text text-anchor=\"middle\" x=\"463.5\" y=\"-119.3\" font-family=\"Times,serif\" font-size=\"14.00\">data: &#45;6</text>\n<polyline fill=\"none\" stroke=\"black\" points=\"351,-111.5 576,-111.5 \"/>\n<text text-anchor=\"middle\" x=\"463.5\" y=\"-96.3\" font-family=\"Times,serif\" font-size=\"14.00\">grad: 0.07065082485316443</text>\n</g>\n<!-- 140712870072480&#45;&gt;140712861313056+ -->\n<g id=\"edge13\" class=\"edge\">\n<title>140712870072480&#45;&gt;140712861313056+</title>\n<path fill=\"none\" stroke=\"black\" d=\"M576.34,-151.36C586.12,-153.84 595.42,-156.2 603.71,-158.3\"/>\n<polygon fill=\"black\" stroke=\"black\" points=\"603.06,-161.75 613.62,-160.82 604.79,-154.97 603.06,-161.75\"/>\n</g>\n<!-- 140712870072480*&#45;&gt;140712870072480 -->\n<g id=\"edge3\" class=\"edge\">\n<title>140712870072480*&#45;&gt;140712870072480</title>\n<path fill=\"none\" stroke=\"black\" d=\"M315.35,-123C322.8,-123 331.43,-123 340.7,-123\"/>\n<polygon fill=\"black\" stroke=\"black\" points=\"340.98,-126.5 350.98,-123 340.98,-119.5 340.98,-126.5\"/>\n</g>\n<!-- 140712870073008 -->\n<g id=\"node10\" class=\"node\">\n<title>140712870073008</title>\n<polygon fill=\"none\" stroke=\"black\" points=\"702,-44.5 702,-113.5 927,-113.5 927,-44.5 702,-44.5\"/>\n<text text-anchor=\"middle\" x=\"814.5\" y=\"-98.3\" font-family=\"Times,serif\" font-size=\"14.00\">b</text>\n<polyline fill=\"none\" stroke=\"black\" points=\"702,-90.5 927,-90.5 \"/>\n<text text-anchor=\"middle\" x=\"814.5\" y=\"-75.3\" font-family=\"Times,serif\" font-size=\"14.00\">data: 8</text>\n<polyline fill=\"none\" stroke=\"black\" points=\"702,-67.5 927,-67.5 \"/>\n<text text-anchor=\"middle\" x=\"814.5\" y=\"-52.3\" font-family=\"Times,serif\" font-size=\"14.00\">grad: 0.07065082485316443</text>\n</g>\n<!-- 140712870073008&#45;&gt;140712870112800+ -->\n<g id=\"edge6\" class=\"edge\">\n<title>140712870073008&#45;&gt;140712870112800+</title>\n<path fill=\"none\" stroke=\"black\" d=\"M927.34,-107.36C937.12,-109.84 946.42,-112.2 954.71,-114.3\"/>\n<polygon fill=\"black\" stroke=\"black\" points=\"954.06,-117.75 964.62,-116.82 955.79,-110.97 954.06,-117.75\"/>\n</g>\n<!-- 140712861311184 -->\n<g id=\"node11\" class=\"node\">\n<title>140712861311184</title>\n<polygon fill=\"none\" stroke=\"black\" points=\"351,-176.5 351,-245.5 576,-245.5 576,-176.5 351,-176.5\"/>\n<text text-anchor=\"middle\" x=\"463.5\" y=\"-230.3\" font-family=\"Times,serif\" font-size=\"14.00\">x2w2</text>\n<polyline fill=\"none\" stroke=\"black\" points=\"351,-222.5 576,-222.5 \"/>\n<text text-anchor=\"middle\" x=\"463.5\" y=\"-207.3\" font-family=\"Times,serif\" font-size=\"14.00\">data: 0</text>\n<polyline fill=\"none\" stroke=\"black\" points=\"351,-199.5 576,-199.5 \"/>\n<text text-anchor=\"middle\" x=\"463.5\" y=\"-184.3\" font-family=\"Times,serif\" font-size=\"14.00\">grad: 0.07065082485316443</text>\n</g>\n<!-- 140712861311184&#45;&gt;140712861313056+ -->\n<g id=\"edge7\" class=\"edge\">\n<title>140712861311184&#45;&gt;140712861313056+</title>\n<path fill=\"none\" stroke=\"black\" d=\"M576.34,-182.64C586.12,-180.16 595.42,-177.8 603.71,-175.7\"/>\n<polygon fill=\"black\" stroke=\"black\" points=\"604.79,-179.03 613.62,-173.18 603.06,-172.25 604.79,-179.03\"/>\n</g>\n<!-- 140712861311184*&#45;&gt;140712861311184 -->\n<g id=\"edge4\" class=\"edge\">\n<title>140712861311184*&#45;&gt;140712861311184</title>\n<path fill=\"none\" stroke=\"black\" d=\"M315.35,-211C322.8,-211 331.43,-211 340.7,-211\"/>\n<polygon fill=\"black\" stroke=\"black\" points=\"340.98,-214.5 350.98,-211 340.98,-207.5 340.98,-214.5\"/>\n</g>\n<!-- 140712870112512 -->\n<g id=\"node13\" class=\"node\">\n<title>140712870112512</title>\n<polygon fill=\"none\" stroke=\"black\" points=\"1413.69,-88.5 1413.69,-157.5 1628.69,-157.5 1628.69,-88.5 1413.69,-88.5\"/>\n<text text-anchor=\"middle\" x=\"1521.19\" y=\"-142.3\" font-family=\"Times,serif\" font-size=\"14.00\">output</text>\n<polyline fill=\"none\" stroke=\"black\" points=\"1413.69,-134.5 1628.69,-134.5 \"/>\n<text text-anchor=\"middle\" x=\"1521.19\" y=\"-119.3\" font-family=\"Times,serif\" font-size=\"14.00\">data: 0.9640275800758169</text>\n<polyline fill=\"none\" stroke=\"black\" points=\"1413.69,-111.5 1628.69,-111.5 \"/>\n<text text-anchor=\"middle\" x=\"1521.19\" y=\"-96.3\" font-family=\"Times,serif\" font-size=\"14.00\">grad: 1.0</text>\n</g>\n<!-- 140712870112512tanh&#45;&gt;140712870112512 -->\n<g id=\"edge5\" class=\"edge\">\n<title>140712870112512tanh&#45;&gt;140712870112512</title>\n<path fill=\"none\" stroke=\"black\" d=\"M1377.84,-123C1385.49,-123 1394.15,-123 1403.32,-123\"/>\n<polygon fill=\"black\" stroke=\"black\" points=\"1403.45,-126.5 1413.45,-123 1403.45,-119.5 1403.45,-126.5\"/>\n</g>\n<!-- 140712869415808 -->\n<g id=\"node15\" class=\"node\">\n<title>140712869415808</title>\n<polygon fill=\"none\" stroke=\"black\" points=\"2,-0.5 2,-69.5 223,-69.5 223,-0.5 2,-0.5\"/>\n<text text-anchor=\"middle\" x=\"112.5\" y=\"-54.3\" font-family=\"Times,serif\" font-size=\"14.00\">x1</text>\n<polyline fill=\"none\" stroke=\"black\" points=\"2,-46.5 223,-46.5 \"/>\n<text text-anchor=\"middle\" x=\"112.5\" y=\"-31.3\" font-family=\"Times,serif\" font-size=\"14.00\">data: 2</text>\n<polyline fill=\"none\" stroke=\"black\" points=\"2,-23.5 223,-23.5 \"/>\n<text text-anchor=\"middle\" x=\"112.5\" y=\"-8.3\" font-family=\"Times,serif\" font-size=\"14.00\">grad: &#45;0.2119524745594933</text>\n</g>\n<!-- 140712869415808&#45;&gt;140712870072480* -->\n<g id=\"edge9\" class=\"edge\">\n<title>140712869415808&#45;&gt;140712870072480*</title>\n<path fill=\"none\" stroke=\"black\" d=\"M206.17,-69.55C212.63,-72.57 218.96,-75.73 225,-79 237.73,-85.9 250.93,-94.96 261.86,-103.07\"/>\n<polygon fill=\"black\" stroke=\"black\" points=\"260.01,-106.05 270.09,-109.31 264.24,-100.48 260.01,-106.05\"/>\n</g>\n</g>\n</svg>\n",
      "text/plain": [
       "<graphviz.graphs.Digraph at 0x7ffa441b6a60>"
      ]
     },
     "execution_count": 51,
     "metadata": {},
     "output_type": "execute_result"
    }
   ],
   "source": [
    "draw_graph(output)\n"
   ]
  },
  {
   "cell_type": "code",
   "execution_count": 50,
   "id": "1e353886",
   "metadata": {},
   "outputs": [],
   "source": [
    "# Filling gradients manually\n",
    "output.grad = 1.0   #do/do=1\n",
    "# output = tanh(neuron)\n",
    "# d(output)/d(neuron) = 1 - output^2\n",
    "neuron1.grad = 1 - output.data**2\n",
    "b.grad = neuron1.grad # Plus sign local gradient is just 1. Hence d(output)/db = d(output)/d(neuron)*d(neuron)/db = d(output)/d(neuron)\n",
    "x1w1x2w2.grad = neuron1.grad # Plus sign simple transfers the same gradient\n",
    "x2w2.grad = x1w1x2w2.grad\n",
    "x1w1.grad = x1w1x2w2.grad\n",
    "\n",
    "x2.grad = w2.data*x2w2.grad # Multiply sign => f(x)=xy. Meaning f'(x)=y. So local gradient is essentially the other variable of the multiplication. That is multiplied with the incoming gradient\n",
    "w2.grad = x2.data*x2w2.grad\n",
    "\n",
    "x1.grad = w1.data*x1w1.grad\n",
    "w1.grad = x1.data*x1w1.grad"
   ]
  },
  {
   "cell_type": "markdown",
   "id": "7fb0b542",
   "metadata": {},
   "source": [
    "Now implementing the gradient calculation using backpropagation in the Value object"
   ]
  },
  {
   "cell_type": "code",
   "execution_count": 198,
   "id": "dfe4f2a7",
   "metadata": {},
   "outputs": [],
   "source": [
    "# Rewriting Value with gradient calculation\n",
    "import numpy as np\n",
    "class Value:\n",
    "    def __init__(self, data, _children=(), _op='', label=''):\n",
    "        self.data = data\n",
    "        self._prev = _children\n",
    "        self.grad = 0.0\n",
    "        self._backward = lambda: None\n",
    "        self._op = _op\n",
    "        self.label = label\n",
    "        \n",
    "    def __repr__(self):\n",
    "        return f\"Value(data={self.data}, label={self.label})\"\n",
    "        \n",
    "    def __add__(self, other):\n",
    "        if np.isscalar(other):\n",
    "            other = Value(other)\n",
    "        out = Value(self.data + other.data, (self, other), '+')\n",
    "        \n",
    "        def _backward():\n",
    "            self.grad += 1.0 * out.grad  # Local gradient is 1 for addition, which is multiplied by the incoming gradient from the output\n",
    "            other.grad += 1.0 * out.grad\n",
    "        out._backward = _backward\n",
    "\n",
    "        return out\n",
    "\n",
    "    def __sub__(self, other:Value):\n",
    "        return self + (-1*other)\n",
    "    \n",
    "    def __rmul__(self, other):\n",
    "        return self*other\n",
    "\n",
    "    def __radd__(self, other):\n",
    "        return self+other\n",
    "    \n",
    "    def __mul__(self, other:Value):\n",
    "        if np.isscalar(other):\n",
    "            other = Value(other)\n",
    "        out = Value(self.data * other.data, (self, other), '*')\n",
    "        \n",
    "        def _backward():\n",
    "            self.grad += other.data*out.grad # Local derivative of multiplication is just the variable which is being multiplied to.\n",
    "            other.grad += self.data*out.grad # Local derivative then multiplied with the incoming gradient from the output\n",
    "        out._backward = _backward\n",
    "\n",
    "        return out\n",
    "    def __truediv__(self, other):\n",
    "        if np.isscalar(other):\n",
    "            other = Value(other)\n",
    "        return self*other**-1\n",
    "    \n",
    "    def __pow__(self, other):\n",
    "        assert isinstance(other, (int, float))\n",
    "        out = Value(self.data**other, (self,), f'**{other}')\n",
    "        def _backward():\n",
    "            self.grad = (other*self.data**(other-1))*out.grad   # Local derivative of power function chained with output grad\n",
    "        out._backward = _backward\n",
    "        return out\n",
    "    def exp(self):\n",
    "        n = self.data\n",
    "        exp_value = math.exp(n)\n",
    "        out = Value(exp_value, (self, ), 'exp')\n",
    "\n",
    "        def __backward():\n",
    "            self.grad = out.data*out.grad   # Local gradient of exponentiation is itself\n",
    "        out._backward = __backward\n",
    "\n",
    "        return out\n",
    "\n",
    "    def tanh(self):\n",
    "        n = self.data\n",
    "        tanh_value = (math.exp(2*n)-1)/(math.exp(2*n)+1)\n",
    "        out = Value(tanh_value, (self,), 'tanh')\n",
    "\n",
    "        def _backward():\n",
    "            self.grad += (1 - out.data**2)*out.grad\n",
    "        out._backward = _backward\n",
    "\n",
    "        return out\n",
    "\n",
    "    def backward(self):\n",
    "        topo = []\n",
    "        def build_topo(v, visited):\n",
    "            if v not in visited:\n",
    "                visited.add(v)\n",
    "                for child in v._prev:\n",
    "                    build_topo(child, visited)\n",
    "                topo.append(v)\n",
    "        build_topo(self, set())\n",
    "        self.grad = 1.0\n",
    "        for node in reversed(topo):\n",
    "            node._backward()\n"
   ]
  },
  {
   "cell_type": "code",
   "execution_count": 115,
   "id": "b47bce2a",
   "metadata": {},
   "outputs": [
    {
     "data": {
      "text/plain": [
       "(Value(data=4, label=),\n",
       " Value(data=4, label=),\n",
       " Value(data=7.38905609893065, label=))"
      ]
     },
     "execution_count": 115,
     "metadata": {},
     "output_type": "execute_result"
    }
   ],
   "source": [
    "a = Value(2)\n",
    "b= \n",
    "2*a,a*2, a.exp()"
   ]
  },
  {
   "cell_type": "code",
   "execution_count": 97,
   "id": "6b450225",
   "metadata": {},
   "outputs": [],
   "source": [
    "# Inputs x1 and x2\n",
    "x1 = Value(2, label=\"x1\")\n",
    "x2 = Value(1, label=\"x2\")\n",
    "# two weights for each input\n",
    "w1 = Value(-3, label=\"w1\")\n",
    "w2 = Value(0, label=\"w2\")\n",
    "# bias of the neuron\n",
    "b = Value(8, label=\"b\")\n",
    "\n",
    "# Applying sum of inputs with weights\n",
    "x1w1 = x1*w1\n",
    "x1w1.label=\"x1w1\"\n",
    "x2w2 = x2*w2\n",
    "x2w2.label=\"x2w2\"\n",
    "x1w1x2w2 = x1w1 + x2w2\n",
    "x1w1x2w2.label = \"x1w1+x2w2\"\n",
    "neuron1 = x1w1x2w2 + b\n",
    "neuron1.label = \"neuron1\"\n",
    "output = neuron1.tanh()\n",
    "output.label = \"output\"\n"
   ]
  },
  {
   "cell_type": "code",
   "execution_count": 98,
   "id": "6d0e2240",
   "metadata": {},
   "outputs": [
    {
     "data": {
      "image/svg+xml": "<?xml version=\"1.0\" encoding=\"UTF-8\" standalone=\"no\"?>\n<!DOCTYPE svg PUBLIC \"-//W3C//DTD SVG 1.1//EN\"\n \"http://www.w3.org/Graphics/SVG/1.1/DTD/svg11.dtd\">\n<!-- Generated by graphviz version 2.50.0 (0)\n -->\n<!-- Pages: 1 -->\n<svg width=\"1085pt\" height=\"342pt\"\n viewBox=\"0.00 0.00 1084.69 342.00\" xmlns=\"http://www.w3.org/2000/svg\" xmlns:xlink=\"http://www.w3.org/1999/xlink\">\n<g id=\"graph0\" class=\"graph\" transform=\"scale(1 1) rotate(0) translate(4 338)\">\n<polygon fill=\"white\" stroke=\"transparent\" points=\"-4,4 -4,-338 1080.69,-338 1080.69,4 -4,4\"/>\n<!-- 140712868459568 -->\n<g id=\"node1\" class=\"node\">\n<title>140712868459568</title>\n<polygon fill=\"none\" stroke=\"black\" points=\"645,-176.5 645,-245.5 726,-245.5 726,-176.5 645,-176.5\"/>\n<text text-anchor=\"middle\" x=\"685.5\" y=\"-230.3\" font-family=\"Times,serif\" font-size=\"14.00\">neuron1</text>\n<polyline fill=\"none\" stroke=\"black\" points=\"645,-222.5 726,-222.5 \"/>\n<text text-anchor=\"middle\" x=\"685.5\" y=\"-207.3\" font-family=\"Times,serif\" font-size=\"14.00\">data: 2</text>\n<polyline fill=\"none\" stroke=\"black\" points=\"645,-199.5 726,-199.5 \"/>\n<text text-anchor=\"middle\" x=\"685.5\" y=\"-184.3\" font-family=\"Times,serif\" font-size=\"14.00\">grad: 0.0</text>\n</g>\n<!-- 140712868460144tanh -->\n<g id=\"node4\" class=\"node\">\n<title>140712868460144tanh</title>\n<ellipse fill=\"none\" stroke=\"black\" cx=\"793.85\" cy=\"-211\" rx=\"31.7\" ry=\"18\"/>\n<text text-anchor=\"middle\" x=\"793.85\" y=\"-207.3\" font-family=\"Times,serif\" font-size=\"14.00\">tanh</text>\n</g>\n<!-- 140712868459568&#45;&gt;140712868460144tanh -->\n<g id=\"edge14\" class=\"edge\">\n<title>140712868459568&#45;&gt;140712868460144tanh</title>\n<path fill=\"none\" stroke=\"black\" d=\"M726.1,-211C734.5,-211 743.38,-211 751.83,-211\"/>\n<polygon fill=\"black\" stroke=\"black\" points=\"751.85,-214.5 761.85,-211 751.85,-207.5 751.85,-214.5\"/>\n</g>\n<!-- 140712868459568+ -->\n<g id=\"node2\" class=\"node\">\n<title>140712868459568+</title>\n<ellipse fill=\"none\" stroke=\"black\" cx=\"582\" cy=\"-211\" rx=\"27\" ry=\"18\"/>\n<text text-anchor=\"middle\" x=\"582\" y=\"-207.3\" font-family=\"Times,serif\" font-size=\"14.00\">+</text>\n</g>\n<!-- 140712868459568+&#45;&gt;140712868459568 -->\n<g id=\"edge1\" class=\"edge\">\n<title>140712868459568+&#45;&gt;140712868459568</title>\n<path fill=\"none\" stroke=\"black\" d=\"M609.14,-211C616.91,-211 625.69,-211 634.45,-211\"/>\n<polygon fill=\"black\" stroke=\"black\" points=\"634.65,-214.5 644.65,-211 634.65,-207.5 634.65,-214.5\"/>\n</g>\n<!-- 140712868460144 -->\n<g id=\"node3\" class=\"node\">\n<title>140712868460144</title>\n<polygon fill=\"none\" stroke=\"black\" points=\"861.69,-176.5 861.69,-245.5 1076.69,-245.5 1076.69,-176.5 861.69,-176.5\"/>\n<text text-anchor=\"middle\" x=\"969.19\" y=\"-230.3\" font-family=\"Times,serif\" font-size=\"14.00\">output</text>\n<polyline fill=\"none\" stroke=\"black\" points=\"861.69,-222.5 1076.69,-222.5 \"/>\n<text text-anchor=\"middle\" x=\"969.19\" y=\"-207.3\" font-family=\"Times,serif\" font-size=\"14.00\">data: 0.9640275800758169</text>\n<polyline fill=\"none\" stroke=\"black\" points=\"861.69,-199.5 1076.69,-199.5 \"/>\n<text text-anchor=\"middle\" x=\"969.19\" y=\"-184.3\" font-family=\"Times,serif\" font-size=\"14.00\">grad: 0.0</text>\n</g>\n<!-- 140712868460144tanh&#45;&gt;140712868460144 -->\n<g id=\"edge2\" class=\"edge\">\n<title>140712868460144tanh&#45;&gt;140712868460144</title>\n<path fill=\"none\" stroke=\"black\" d=\"M825.84,-211C833.49,-211 842.15,-211 851.32,-211\"/>\n<polygon fill=\"black\" stroke=\"black\" points=\"851.45,-214.5 861.45,-211 851.45,-207.5 851.45,-214.5\"/>\n</g>\n<!-- 140712868690720 -->\n<g id=\"node5\" class=\"node\">\n<title>140712868690720</title>\n<polygon fill=\"none\" stroke=\"black\" points=\"0,-264.5 0,-333.5 81,-333.5 81,-264.5 0,-264.5\"/>\n<text text-anchor=\"middle\" x=\"40.5\" y=\"-318.3\" font-family=\"Times,serif\" font-size=\"14.00\">w1</text>\n<polyline fill=\"none\" stroke=\"black\" points=\"0,-310.5 81,-310.5 \"/>\n<text text-anchor=\"middle\" x=\"40.5\" y=\"-295.3\" font-family=\"Times,serif\" font-size=\"14.00\">data: &#45;3</text>\n<polyline fill=\"none\" stroke=\"black\" points=\"0,-287.5 81,-287.5 \"/>\n<text text-anchor=\"middle\" x=\"40.5\" y=\"-272.3\" font-family=\"Times,serif\" font-size=\"14.00\">grad: 0.0</text>\n</g>\n<!-- 140711140408624* -->\n<g id=\"node7\" class=\"node\">\n<title>140711140408624*</title>\n<ellipse fill=\"none\" stroke=\"black\" cx=\"144\" cy=\"-211\" rx=\"27\" ry=\"18\"/>\n<text text-anchor=\"middle\" x=\"144\" y=\"-207.3\" font-family=\"Times,serif\" font-size=\"14.00\">*</text>\n</g>\n<!-- 140712868690720&#45;&gt;140711140408624* -->\n<g id=\"edge6\" class=\"edge\">\n<title>140712868690720&#45;&gt;140711140408624*</title>\n<path fill=\"none\" stroke=\"black\" d=\"M81.03,-264.72C93.84,-253.62 107.66,-241.64 118.98,-231.82\"/>\n<polygon fill=\"black\" stroke=\"black\" points=\"121.48,-234.29 126.74,-225.09 116.89,-229 121.48,-234.29\"/>\n</g>\n<!-- 140711140408624 -->\n<g id=\"node6\" class=\"node\">\n<title>140711140408624</title>\n<polygon fill=\"none\" stroke=\"black\" points=\"207,-176.5 207,-245.5 288,-245.5 288,-176.5 207,-176.5\"/>\n<text text-anchor=\"middle\" x=\"247.5\" y=\"-230.3\" font-family=\"Times,serif\" font-size=\"14.00\">x1w1</text>\n<polyline fill=\"none\" stroke=\"black\" points=\"207,-222.5 288,-222.5 \"/>\n<text text-anchor=\"middle\" x=\"247.5\" y=\"-207.3\" font-family=\"Times,serif\" font-size=\"14.00\">data: &#45;6</text>\n<polyline fill=\"none\" stroke=\"black\" points=\"207,-199.5 288,-199.5 \"/>\n<text text-anchor=\"middle\" x=\"247.5\" y=\"-184.3\" font-family=\"Times,serif\" font-size=\"14.00\">grad: 0.0</text>\n</g>\n<!-- 140712868458896+ -->\n<g id=\"node13\" class=\"node\">\n<title>140712868458896+</title>\n<ellipse fill=\"none\" stroke=\"black\" cx=\"351\" cy=\"-167\" rx=\"27\" ry=\"18\"/>\n<text text-anchor=\"middle\" x=\"351\" y=\"-163.3\" font-family=\"Times,serif\" font-size=\"14.00\">+</text>\n</g>\n<!-- 140711140408624&#45;&gt;140712868458896+ -->\n<g id=\"edge9\" class=\"edge\">\n<title>140711140408624&#45;&gt;140712868458896+</title>\n<path fill=\"none\" stroke=\"black\" d=\"M288.03,-193.86C298.22,-189.45 309.04,-184.76 318.74,-180.55\"/>\n<polygon fill=\"black\" stroke=\"black\" points=\"320.22,-183.72 328,-176.54 317.44,-177.3 320.22,-183.72\"/>\n</g>\n<!-- 140711140408624*&#45;&gt;140711140408624 -->\n<g id=\"edge3\" class=\"edge\">\n<title>140711140408624*&#45;&gt;140711140408624</title>\n<path fill=\"none\" stroke=\"black\" d=\"M171.14,-211C178.91,-211 187.69,-211 196.45,-211\"/>\n<polygon fill=\"black\" stroke=\"black\" points=\"196.65,-214.5 206.65,-211 196.65,-207.5 196.65,-214.5\"/>\n</g>\n<!-- 140712868689184 -->\n<g id=\"node8\" class=\"node\">\n<title>140712868689184</title>\n<polygon fill=\"none\" stroke=\"black\" points=\"0,-88.5 0,-157.5 81,-157.5 81,-88.5 0,-88.5\"/>\n<text text-anchor=\"middle\" x=\"40.5\" y=\"-142.3\" font-family=\"Times,serif\" font-size=\"14.00\">x2</text>\n<polyline fill=\"none\" stroke=\"black\" points=\"0,-134.5 81,-134.5 \"/>\n<text text-anchor=\"middle\" x=\"40.5\" y=\"-119.3\" font-family=\"Times,serif\" font-size=\"14.00\">data: 1</text>\n<polyline fill=\"none\" stroke=\"black\" points=\"0,-111.5 81,-111.5 \"/>\n<text text-anchor=\"middle\" x=\"40.5\" y=\"-96.3\" font-family=\"Times,serif\" font-size=\"14.00\">grad: 0.0</text>\n</g>\n<!-- 140712868459424* -->\n<g id=\"node15\" class=\"node\">\n<title>140712868459424*</title>\n<ellipse fill=\"none\" stroke=\"black\" cx=\"144\" cy=\"-123\" rx=\"27\" ry=\"18\"/>\n<text text-anchor=\"middle\" x=\"144\" y=\"-119.3\" font-family=\"Times,serif\" font-size=\"14.00\">*</text>\n</g>\n<!-- 140712868689184&#45;&gt;140712868459424* -->\n<g id=\"edge11\" class=\"edge\">\n<title>140712868689184&#45;&gt;140712868459424*</title>\n<path fill=\"none\" stroke=\"black\" d=\"M81.03,-123C89.49,-123 98.38,-123 106.7,-123\"/>\n<polygon fill=\"black\" stroke=\"black\" points=\"106.87,-126.5 116.87,-123 106.87,-119.5 106.87,-126.5\"/>\n</g>\n<!-- 140712868689760 -->\n<g id=\"node9\" class=\"node\">\n<title>140712868689760</title>\n<polygon fill=\"none\" stroke=\"black\" points=\"0,-0.5 0,-69.5 81,-69.5 81,-0.5 0,-0.5\"/>\n<text text-anchor=\"middle\" x=\"40.5\" y=\"-54.3\" font-family=\"Times,serif\" font-size=\"14.00\">w2</text>\n<polyline fill=\"none\" stroke=\"black\" points=\"0,-46.5 81,-46.5 \"/>\n<text text-anchor=\"middle\" x=\"40.5\" y=\"-31.3\" font-family=\"Times,serif\" font-size=\"14.00\">data: 0</text>\n<polyline fill=\"none\" stroke=\"black\" points=\"0,-23.5 81,-23.5 \"/>\n<text text-anchor=\"middle\" x=\"40.5\" y=\"-8.3\" font-family=\"Times,serif\" font-size=\"14.00\">grad: 0.0</text>\n</g>\n<!-- 140712868689760&#45;&gt;140712868459424* -->\n<g id=\"edge13\" class=\"edge\">\n<title>140712868689760&#45;&gt;140712868459424*</title>\n<path fill=\"none\" stroke=\"black\" d=\"M81.03,-69.28C93.84,-80.38 107.66,-92.36 118.98,-102.18\"/>\n<polygon fill=\"black\" stroke=\"black\" points=\"116.89,-105 126.74,-108.91 121.48,-99.71 116.89,-105\"/>\n</g>\n<!-- 140712868688752 -->\n<g id=\"node10\" class=\"node\">\n<title>140712868688752</title>\n<polygon fill=\"none\" stroke=\"black\" points=\"0,-176.5 0,-245.5 81,-245.5 81,-176.5 0,-176.5\"/>\n<text text-anchor=\"middle\" x=\"40.5\" y=\"-230.3\" font-family=\"Times,serif\" font-size=\"14.00\">x1</text>\n<polyline fill=\"none\" stroke=\"black\" points=\"0,-222.5 81,-222.5 \"/>\n<text text-anchor=\"middle\" x=\"40.5\" y=\"-207.3\" font-family=\"Times,serif\" font-size=\"14.00\">data: 2</text>\n<polyline fill=\"none\" stroke=\"black\" points=\"0,-199.5 81,-199.5 \"/>\n<text text-anchor=\"middle\" x=\"40.5\" y=\"-184.3\" font-family=\"Times,serif\" font-size=\"14.00\">grad: 0.0</text>\n</g>\n<!-- 140712868688752&#45;&gt;140711140408624* -->\n<g id=\"edge7\" class=\"edge\">\n<title>140712868688752&#45;&gt;140711140408624*</title>\n<path fill=\"none\" stroke=\"black\" d=\"M81.03,-211C89.49,-211 98.38,-211 106.7,-211\"/>\n<polygon fill=\"black\" stroke=\"black\" points=\"106.87,-214.5 116.87,-211 106.87,-207.5 106.87,-214.5\"/>\n</g>\n<!-- 140712868688224 -->\n<g id=\"node11\" class=\"node\">\n<title>140712868688224</title>\n<polygon fill=\"none\" stroke=\"black\" points=\"426,-220.5 426,-289.5 507,-289.5 507,-220.5 426,-220.5\"/>\n<text text-anchor=\"middle\" x=\"466.5\" y=\"-274.3\" font-family=\"Times,serif\" font-size=\"14.00\">b</text>\n<polyline fill=\"none\" stroke=\"black\" points=\"426,-266.5 507,-266.5 \"/>\n<text text-anchor=\"middle\" x=\"466.5\" y=\"-251.3\" font-family=\"Times,serif\" font-size=\"14.00\">data: 8</text>\n<polyline fill=\"none\" stroke=\"black\" points=\"426,-243.5 507,-243.5 \"/>\n<text text-anchor=\"middle\" x=\"466.5\" y=\"-228.3\" font-family=\"Times,serif\" font-size=\"14.00\">grad: 0.0</text>\n</g>\n<!-- 140712868688224&#45;&gt;140712868459568+ -->\n<g id=\"edge12\" class=\"edge\">\n<title>140712868688224&#45;&gt;140712868459568+</title>\n<path fill=\"none\" stroke=\"black\" d=\"M507.2,-239.61C520.85,-234.32 535.95,-228.46 548.92,-223.44\"/>\n<polygon fill=\"black\" stroke=\"black\" points=\"550.31,-226.65 558.36,-219.78 547.77,-220.13 550.31,-226.65\"/>\n</g>\n<!-- 140712868458896 -->\n<g id=\"node12\" class=\"node\">\n<title>140712868458896</title>\n<polygon fill=\"none\" stroke=\"black\" points=\"414,-132.5 414,-201.5 519,-201.5 519,-132.5 414,-132.5\"/>\n<text text-anchor=\"middle\" x=\"466.5\" y=\"-186.3\" font-family=\"Times,serif\" font-size=\"14.00\">x1w1+x2w2</text>\n<polyline fill=\"none\" stroke=\"black\" points=\"414,-178.5 519,-178.5 \"/>\n<text text-anchor=\"middle\" x=\"466.5\" y=\"-163.3\" font-family=\"Times,serif\" font-size=\"14.00\">data: &#45;6</text>\n<polyline fill=\"none\" stroke=\"black\" points=\"414,-155.5 519,-155.5 \"/>\n<text text-anchor=\"middle\" x=\"466.5\" y=\"-140.3\" font-family=\"Times,serif\" font-size=\"14.00\">grad: 0.0</text>\n</g>\n<!-- 140712868458896&#45;&gt;140712868459568+ -->\n<g id=\"edge8\" class=\"edge\">\n<title>140712868458896&#45;&gt;140712868459568+</title>\n<path fill=\"none\" stroke=\"black\" d=\"M519.27,-187.07C529.31,-190.96 539.57,-194.94 548.77,-198.5\"/>\n<polygon fill=\"black\" stroke=\"black\" points=\"547.68,-201.84 558.27,-202.19 550.21,-195.31 547.68,-201.84\"/>\n</g>\n<!-- 140712868458896+&#45;&gt;140712868458896 -->\n<g id=\"edge4\" class=\"edge\">\n<title>140712868458896+&#45;&gt;140712868458896</title>\n<path fill=\"none\" stroke=\"black\" d=\"M378.04,-167C385.74,-167 394.53,-167 403.49,-167\"/>\n<polygon fill=\"black\" stroke=\"black\" points=\"403.63,-170.5 413.63,-167 403.63,-163.5 403.63,-170.5\"/>\n</g>\n<!-- 140712868459424 -->\n<g id=\"node14\" class=\"node\">\n<title>140712868459424</title>\n<polygon fill=\"none\" stroke=\"black\" points=\"207,-88.5 207,-157.5 288,-157.5 288,-88.5 207,-88.5\"/>\n<text text-anchor=\"middle\" x=\"247.5\" y=\"-142.3\" font-family=\"Times,serif\" font-size=\"14.00\">x2w2</text>\n<polyline fill=\"none\" stroke=\"black\" points=\"207,-134.5 288,-134.5 \"/>\n<text text-anchor=\"middle\" x=\"247.5\" y=\"-119.3\" font-family=\"Times,serif\" font-size=\"14.00\">data: 0</text>\n<polyline fill=\"none\" stroke=\"black\" points=\"207,-111.5 288,-111.5 \"/>\n<text text-anchor=\"middle\" x=\"247.5\" y=\"-96.3\" font-family=\"Times,serif\" font-size=\"14.00\">grad: 0.0</text>\n</g>\n<!-- 140712868459424&#45;&gt;140712868458896+ -->\n<g id=\"edge10\" class=\"edge\">\n<title>140712868459424&#45;&gt;140712868458896+</title>\n<path fill=\"none\" stroke=\"black\" d=\"M288.03,-140.14C298.22,-144.55 309.04,-149.24 318.74,-153.45\"/>\n<polygon fill=\"black\" stroke=\"black\" points=\"317.44,-156.7 328,-157.46 320.22,-150.28 317.44,-156.7\"/>\n</g>\n<!-- 140712868459424*&#45;&gt;140712868459424 -->\n<g id=\"edge5\" class=\"edge\">\n<title>140712868459424*&#45;&gt;140712868459424</title>\n<path fill=\"none\" stroke=\"black\" d=\"M171.14,-123C178.91,-123 187.69,-123 196.45,-123\"/>\n<polygon fill=\"black\" stroke=\"black\" points=\"196.65,-126.5 206.65,-123 196.65,-119.5 196.65,-126.5\"/>\n</g>\n</g>\n</svg>\n",
      "text/plain": [
       "<graphviz.graphs.Digraph at 0x7ffa448995e0>"
      ]
     },
     "execution_count": 98,
     "metadata": {},
     "output_type": "execute_result"
    }
   ],
   "source": [
    "draw_graph(output)"
   ]
  },
  {
   "cell_type": "code",
   "execution_count": 63,
   "id": "5c890ed4",
   "metadata": {},
   "outputs": [],
   "source": [
    "output.grad = 1.0\n",
    "output._backward()"
   ]
  },
  {
   "cell_type": "code",
   "execution_count": 64,
   "id": "d3902392",
   "metadata": {},
   "outputs": [],
   "source": [
    "neuron1._backward()"
   ]
  },
  {
   "cell_type": "code",
   "execution_count": 66,
   "id": "c2ce29bd",
   "metadata": {},
   "outputs": [],
   "source": [
    "b._backward()"
   ]
  },
  {
   "cell_type": "code",
   "execution_count": 68,
   "id": "9f113c78",
   "metadata": {},
   "outputs": [],
   "source": [
    "x1w1x2w2._backward()\n",
    "x1w1._backward()\n",
    "x2w2._backward()"
   ]
  },
  {
   "cell_type": "code",
   "execution_count": 91,
   "id": "01921407",
   "metadata": {},
   "outputs": [
    {
     "data": {
      "text/plain": [
       "[Value(data=2, label=x1),\n",
       " Value(data=-3, label=w1),\n",
       " Value(data=-6, label=x1w1),\n",
       " Value(data=1, label=x2),\n",
       " Value(data=0, label=w2),\n",
       " Value(data=0, label=x2w2),\n",
       " Value(data=-6, label=x1w1+x2w2),\n",
       " Value(data=8, label=b),\n",
       " Value(data=2, label=neuron1),\n",
       " Value(data=0.9640275800758169, label=output)]"
      ]
     },
     "execution_count": 91,
     "metadata": {},
     "output_type": "execute_result"
    }
   ],
   "source": [
    "# Topological sort\n",
    "topo = []\n",
    "def build_topo(v, visited):\n",
    "    if v not in visited:\n",
    "        visited.add(v)\n",
    "        for child in v._prev:\n",
    "            build_topo(child, visited)\n",
    "        topo.append(v)\n",
    "build_topo(output, set())\n",
    "topo"
   ]
  },
  {
   "cell_type": "code",
   "execution_count": 94,
   "id": "15f05b55",
   "metadata": {},
   "outputs": [
    {
     "name": "stdout",
     "output_type": "stream",
     "text": [
      "Value(data=0.9640275800758169, label=output)\n",
      "Value(data=2, label=neuron1)\n",
      "Value(data=8, label=b)\n",
      "Value(data=-6, label=x1w1+x2w2)\n",
      "Value(data=0, label=x2w2)\n",
      "Value(data=0, label=w2)\n",
      "Value(data=1, label=x2)\n",
      "Value(data=-6, label=x1w1)\n",
      "Value(data=-3, label=w1)\n",
      "Value(data=2, label=x1)\n"
     ]
    }
   ],
   "source": [
    "# Topological sort for the computational graph\n",
    "# Applying backward in the reversed order to make sure the further layer backward is called before\n",
    "output.grad=1\n",
    "topo = []\n",
    "build_topo(output, set())\n",
    "for node in reversed(topo):\n",
    "    node._backward()"
   ]
  },
  {
   "cell_type": "code",
   "execution_count": 99,
   "id": "720b5384",
   "metadata": {},
   "outputs": [],
   "source": [
    "# Doing backprop\n",
    "output.backward()"
   ]
  },
  {
   "cell_type": "code",
   "execution_count": 100,
   "id": "74f11124",
   "metadata": {},
   "outputs": [
    {
     "data": {
      "image/svg+xml": "<?xml version=\"1.0\" encoding=\"UTF-8\" standalone=\"no\"?>\n<!DOCTYPE svg PUBLIC \"-//W3C//DTD SVG 1.1//EN\"\n \"http://www.w3.org/Graphics/SVG/1.1/DTD/svg11.dtd\">\n<!-- Generated by graphviz version 2.50.0 (0)\n -->\n<!-- Pages: 1 -->\n<svg width=\"1637pt\" height=\"342pt\"\n viewBox=\"0.00 0.00 1636.69 342.00\" xmlns=\"http://www.w3.org/2000/svg\" xmlns:xlink=\"http://www.w3.org/1999/xlink\">\n<g id=\"graph0\" class=\"graph\" transform=\"scale(1 1) rotate(0) translate(4 338)\">\n<polygon fill=\"white\" stroke=\"transparent\" points=\"-4,4 -4,-338 1632.69,-338 1632.69,4 -4,4\"/>\n<!-- 140712868459568 -->\n<g id=\"node1\" class=\"node\">\n<title>140712868459568</title>\n<polygon fill=\"none\" stroke=\"black\" points=\"1053,-176.5 1053,-245.5 1278,-245.5 1278,-176.5 1053,-176.5\"/>\n<text text-anchor=\"middle\" x=\"1165.5\" y=\"-230.3\" font-family=\"Times,serif\" font-size=\"14.00\">neuron1</text>\n<polyline fill=\"none\" stroke=\"black\" points=\"1053,-222.5 1278,-222.5 \"/>\n<text text-anchor=\"middle\" x=\"1165.5\" y=\"-207.3\" font-family=\"Times,serif\" font-size=\"14.00\">data: 2</text>\n<polyline fill=\"none\" stroke=\"black\" points=\"1053,-199.5 1278,-199.5 \"/>\n<text text-anchor=\"middle\" x=\"1165.5\" y=\"-184.3\" font-family=\"Times,serif\" font-size=\"14.00\">grad: 0.07065082485316443</text>\n</g>\n<!-- 140712868460144tanh -->\n<g id=\"node4\" class=\"node\">\n<title>140712868460144tanh</title>\n<ellipse fill=\"none\" stroke=\"black\" cx=\"1345.85\" cy=\"-211\" rx=\"31.7\" ry=\"18\"/>\n<text text-anchor=\"middle\" x=\"1345.85\" y=\"-207.3\" font-family=\"Times,serif\" font-size=\"14.00\">tanh</text>\n</g>\n<!-- 140712868459568&#45;&gt;140712868460144tanh -->\n<g id=\"edge14\" class=\"edge\">\n<title>140712868459568&#45;&gt;140712868460144tanh</title>\n<path fill=\"none\" stroke=\"black\" d=\"M1278.18,-211C1287.06,-211 1295.63,-211 1303.48,-211\"/>\n<polygon fill=\"black\" stroke=\"black\" points=\"1303.73,-214.5 1313.73,-211 1303.73,-207.5 1303.73,-214.5\"/>\n</g>\n<!-- 140712868459568+ -->\n<g id=\"node2\" class=\"node\">\n<title>140712868459568+</title>\n<ellipse fill=\"none\" stroke=\"black\" cx=\"990\" cy=\"-211\" rx=\"27\" ry=\"18\"/>\n<text text-anchor=\"middle\" x=\"990\" y=\"-207.3\" font-family=\"Times,serif\" font-size=\"14.00\">+</text>\n</g>\n<!-- 140712868459568+&#45;&gt;140712868459568 -->\n<g id=\"edge1\" class=\"edge\">\n<title>140712868459568+&#45;&gt;140712868459568</title>\n<path fill=\"none\" stroke=\"black\" d=\"M1017.35,-211C1024.8,-211 1033.43,-211 1042.7,-211\"/>\n<polygon fill=\"black\" stroke=\"black\" points=\"1042.98,-214.5 1052.98,-211 1042.98,-207.5 1042.98,-214.5\"/>\n</g>\n<!-- 140712868460144 -->\n<g id=\"node3\" class=\"node\">\n<title>140712868460144</title>\n<polygon fill=\"none\" stroke=\"black\" points=\"1413.69,-176.5 1413.69,-245.5 1628.69,-245.5 1628.69,-176.5 1413.69,-176.5\"/>\n<text text-anchor=\"middle\" x=\"1521.19\" y=\"-230.3\" font-family=\"Times,serif\" font-size=\"14.00\">output</text>\n<polyline fill=\"none\" stroke=\"black\" points=\"1413.69,-222.5 1628.69,-222.5 \"/>\n<text text-anchor=\"middle\" x=\"1521.19\" y=\"-207.3\" font-family=\"Times,serif\" font-size=\"14.00\">data: 0.9640275800758169</text>\n<polyline fill=\"none\" stroke=\"black\" points=\"1413.69,-199.5 1628.69,-199.5 \"/>\n<text text-anchor=\"middle\" x=\"1521.19\" y=\"-184.3\" font-family=\"Times,serif\" font-size=\"14.00\">grad: 1.0</text>\n</g>\n<!-- 140712868460144tanh&#45;&gt;140712868460144 -->\n<g id=\"edge2\" class=\"edge\">\n<title>140712868460144tanh&#45;&gt;140712868460144</title>\n<path fill=\"none\" stroke=\"black\" d=\"M1377.84,-211C1385.49,-211 1394.15,-211 1403.32,-211\"/>\n<polygon fill=\"black\" stroke=\"black\" points=\"1403.45,-214.5 1413.45,-211 1403.45,-207.5 1403.45,-214.5\"/>\n</g>\n<!-- 140712868690720 -->\n<g id=\"node5\" class=\"node\">\n<title>140712868690720</title>\n<polygon fill=\"none\" stroke=\"black\" points=\"0,-264.5 0,-333.5 225,-333.5 225,-264.5 0,-264.5\"/>\n<text text-anchor=\"middle\" x=\"112.5\" y=\"-318.3\" font-family=\"Times,serif\" font-size=\"14.00\">w1</text>\n<polyline fill=\"none\" stroke=\"black\" points=\"0,-310.5 225,-310.5 \"/>\n<text text-anchor=\"middle\" x=\"112.5\" y=\"-295.3\" font-family=\"Times,serif\" font-size=\"14.00\">data: &#45;3</text>\n<polyline fill=\"none\" stroke=\"black\" points=\"0,-287.5 225,-287.5 \"/>\n<text text-anchor=\"middle\" x=\"112.5\" y=\"-272.3\" font-family=\"Times,serif\" font-size=\"14.00\">grad: 0.14130164970632886</text>\n</g>\n<!-- 140711140408624* -->\n<g id=\"node7\" class=\"node\">\n<title>140711140408624*</title>\n<ellipse fill=\"none\" stroke=\"black\" cx=\"288\" cy=\"-211\" rx=\"27\" ry=\"18\"/>\n<text text-anchor=\"middle\" x=\"288\" y=\"-207.3\" font-family=\"Times,serif\" font-size=\"14.00\">*</text>\n</g>\n<!-- 140712868690720&#45;&gt;140711140408624* -->\n<g id=\"edge6\" class=\"edge\">\n<title>140712868690720&#45;&gt;140711140408624*</title>\n<path fill=\"none\" stroke=\"black\" d=\"M206.17,-264.45C212.63,-261.43 218.96,-258.27 225,-255 237.73,-248.1 250.93,-239.04 261.86,-230.93\"/>\n<polygon fill=\"black\" stroke=\"black\" points=\"264.24,-233.52 270.09,-224.69 260.01,-227.95 264.24,-233.52\"/>\n</g>\n<!-- 140711140408624 -->\n<g id=\"node6\" class=\"node\">\n<title>140711140408624</title>\n<polygon fill=\"none\" stroke=\"black\" points=\"351,-176.5 351,-245.5 576,-245.5 576,-176.5 351,-176.5\"/>\n<text text-anchor=\"middle\" x=\"463.5\" y=\"-230.3\" font-family=\"Times,serif\" font-size=\"14.00\">x1w1</text>\n<polyline fill=\"none\" stroke=\"black\" points=\"351,-222.5 576,-222.5 \"/>\n<text text-anchor=\"middle\" x=\"463.5\" y=\"-207.3\" font-family=\"Times,serif\" font-size=\"14.00\">data: &#45;6</text>\n<polyline fill=\"none\" stroke=\"black\" points=\"351,-199.5 576,-199.5 \"/>\n<text text-anchor=\"middle\" x=\"463.5\" y=\"-184.3\" font-family=\"Times,serif\" font-size=\"14.00\">grad: 0.07065082485316443</text>\n</g>\n<!-- 140712868458896+ -->\n<g id=\"node13\" class=\"node\">\n<title>140712868458896+</title>\n<ellipse fill=\"none\" stroke=\"black\" cx=\"639\" cy=\"-167\" rx=\"27\" ry=\"18\"/>\n<text text-anchor=\"middle\" x=\"639\" y=\"-163.3\" font-family=\"Times,serif\" font-size=\"14.00\">+</text>\n</g>\n<!-- 140711140408624&#45;&gt;140712868458896+ -->\n<g id=\"edge9\" class=\"edge\">\n<title>140711140408624&#45;&gt;140712868458896+</title>\n<path fill=\"none\" stroke=\"black\" d=\"M576.34,-182.64C586.12,-180.16 595.42,-177.8 603.71,-175.7\"/>\n<polygon fill=\"black\" stroke=\"black\" points=\"604.79,-179.03 613.62,-173.18 603.06,-172.25 604.79,-179.03\"/>\n</g>\n<!-- 140711140408624*&#45;&gt;140711140408624 -->\n<g id=\"edge3\" class=\"edge\">\n<title>140711140408624*&#45;&gt;140711140408624</title>\n<path fill=\"none\" stroke=\"black\" d=\"M315.35,-211C322.8,-211 331.43,-211 340.7,-211\"/>\n<polygon fill=\"black\" stroke=\"black\" points=\"340.98,-214.5 350.98,-211 340.98,-207.5 340.98,-214.5\"/>\n</g>\n<!-- 140712868689184 -->\n<g id=\"node8\" class=\"node\">\n<title>140712868689184</title>\n<polygon fill=\"none\" stroke=\"black\" points=\"72,-88.5 72,-157.5 153,-157.5 153,-88.5 72,-88.5\"/>\n<text text-anchor=\"middle\" x=\"112.5\" y=\"-142.3\" font-family=\"Times,serif\" font-size=\"14.00\">x2</text>\n<polyline fill=\"none\" stroke=\"black\" points=\"72,-134.5 153,-134.5 \"/>\n<text text-anchor=\"middle\" x=\"112.5\" y=\"-119.3\" font-family=\"Times,serif\" font-size=\"14.00\">data: 1</text>\n<polyline fill=\"none\" stroke=\"black\" points=\"72,-111.5 153,-111.5 \"/>\n<text text-anchor=\"middle\" x=\"112.5\" y=\"-96.3\" font-family=\"Times,serif\" font-size=\"14.00\">grad: 0.0</text>\n</g>\n<!-- 140712868459424* -->\n<g id=\"node15\" class=\"node\">\n<title>140712868459424*</title>\n<ellipse fill=\"none\" stroke=\"black\" cx=\"288\" cy=\"-123\" rx=\"27\" ry=\"18\"/>\n<text text-anchor=\"middle\" x=\"288\" y=\"-119.3\" font-family=\"Times,serif\" font-size=\"14.00\">*</text>\n</g>\n<!-- 140712868689184&#45;&gt;140712868459424* -->\n<g id=\"edge11\" class=\"edge\">\n<title>140712868689184&#45;&gt;140712868459424*</title>\n<path fill=\"none\" stroke=\"black\" d=\"M153.3,-123C182.58,-123 222.06,-123 250.52,-123\"/>\n<polygon fill=\"black\" stroke=\"black\" points=\"250.84,-126.5 260.84,-123 250.84,-119.5 250.84,-126.5\"/>\n</g>\n<!-- 140712868689760 -->\n<g id=\"node9\" class=\"node\">\n<title>140712868689760</title>\n<polygon fill=\"none\" stroke=\"black\" points=\"0,-0.5 0,-69.5 225,-69.5 225,-0.5 0,-0.5\"/>\n<text text-anchor=\"middle\" x=\"112.5\" y=\"-54.3\" font-family=\"Times,serif\" font-size=\"14.00\">w2</text>\n<polyline fill=\"none\" stroke=\"black\" points=\"0,-46.5 225,-46.5 \"/>\n<text text-anchor=\"middle\" x=\"112.5\" y=\"-31.3\" font-family=\"Times,serif\" font-size=\"14.00\">data: 0</text>\n<polyline fill=\"none\" stroke=\"black\" points=\"0,-23.5 225,-23.5 \"/>\n<text text-anchor=\"middle\" x=\"112.5\" y=\"-8.3\" font-family=\"Times,serif\" font-size=\"14.00\">grad: 0.07065082485316443</text>\n</g>\n<!-- 140712868689760&#45;&gt;140712868459424* -->\n<g id=\"edge13\" class=\"edge\">\n<title>140712868689760&#45;&gt;140712868459424*</title>\n<path fill=\"none\" stroke=\"black\" d=\"M206.17,-69.55C212.63,-72.57 218.96,-75.73 225,-79 237.73,-85.9 250.93,-94.96 261.86,-103.07\"/>\n<polygon fill=\"black\" stroke=\"black\" points=\"260.01,-106.05 270.09,-109.31 264.24,-100.48 260.01,-106.05\"/>\n</g>\n<!-- 140712868688752 -->\n<g id=\"node10\" class=\"node\">\n<title>140712868688752</title>\n<polygon fill=\"none\" stroke=\"black\" points=\"2,-176.5 2,-245.5 223,-245.5 223,-176.5 2,-176.5\"/>\n<text text-anchor=\"middle\" x=\"112.5\" y=\"-230.3\" font-family=\"Times,serif\" font-size=\"14.00\">x1</text>\n<polyline fill=\"none\" stroke=\"black\" points=\"2,-222.5 223,-222.5 \"/>\n<text text-anchor=\"middle\" x=\"112.5\" y=\"-207.3\" font-family=\"Times,serif\" font-size=\"14.00\">data: 2</text>\n<polyline fill=\"none\" stroke=\"black\" points=\"2,-199.5 223,-199.5 \"/>\n<text text-anchor=\"middle\" x=\"112.5\" y=\"-184.3\" font-family=\"Times,serif\" font-size=\"14.00\">grad: &#45;0.2119524745594933</text>\n</g>\n<!-- 140712868688752&#45;&gt;140711140408624* -->\n<g id=\"edge7\" class=\"edge\">\n<title>140712868688752&#45;&gt;140711140408624*</title>\n<path fill=\"none\" stroke=\"black\" d=\"M223.38,-211C233.12,-211 242.44,-211 250.8,-211\"/>\n<polygon fill=\"black\" stroke=\"black\" points=\"250.83,-214.5 260.83,-211 250.83,-207.5 250.83,-214.5\"/>\n</g>\n<!-- 140712868688224 -->\n<g id=\"node11\" class=\"node\">\n<title>140712868688224</title>\n<polygon fill=\"none\" stroke=\"black\" points=\"702,-220.5 702,-289.5 927,-289.5 927,-220.5 702,-220.5\"/>\n<text text-anchor=\"middle\" x=\"814.5\" y=\"-274.3\" font-family=\"Times,serif\" font-size=\"14.00\">b</text>\n<polyline fill=\"none\" stroke=\"black\" points=\"702,-266.5 927,-266.5 \"/>\n<text text-anchor=\"middle\" x=\"814.5\" y=\"-251.3\" font-family=\"Times,serif\" font-size=\"14.00\">data: 8</text>\n<polyline fill=\"none\" stroke=\"black\" points=\"702,-243.5 927,-243.5 \"/>\n<text text-anchor=\"middle\" x=\"814.5\" y=\"-228.3\" font-family=\"Times,serif\" font-size=\"14.00\">grad: 0.07065082485316443</text>\n</g>\n<!-- 140712868688224&#45;&gt;140712868459568+ -->\n<g id=\"edge12\" class=\"edge\">\n<title>140712868688224&#45;&gt;140712868459568+</title>\n<path fill=\"none\" stroke=\"black\" d=\"M927.34,-226.64C937.12,-224.16 946.42,-221.8 954.71,-219.7\"/>\n<polygon fill=\"black\" stroke=\"black\" points=\"955.79,-223.03 964.62,-217.18 954.06,-216.25 955.79,-223.03\"/>\n</g>\n<!-- 140712868458896 -->\n<g id=\"node12\" class=\"node\">\n<title>140712868458896</title>\n<polygon fill=\"none\" stroke=\"black\" points=\"702,-132.5 702,-201.5 927,-201.5 927,-132.5 702,-132.5\"/>\n<text text-anchor=\"middle\" x=\"814.5\" y=\"-186.3\" font-family=\"Times,serif\" font-size=\"14.00\">x1w1+x2w2</text>\n<polyline fill=\"none\" stroke=\"black\" points=\"702,-178.5 927,-178.5 \"/>\n<text text-anchor=\"middle\" x=\"814.5\" y=\"-163.3\" font-family=\"Times,serif\" font-size=\"14.00\">data: &#45;6</text>\n<polyline fill=\"none\" stroke=\"black\" points=\"702,-155.5 927,-155.5 \"/>\n<text text-anchor=\"middle\" x=\"814.5\" y=\"-140.3\" font-family=\"Times,serif\" font-size=\"14.00\">grad: 0.07065082485316443</text>\n</g>\n<!-- 140712868458896&#45;&gt;140712868459568+ -->\n<g id=\"edge8\" class=\"edge\">\n<title>140712868458896&#45;&gt;140712868459568+</title>\n<path fill=\"none\" stroke=\"black\" d=\"M927.34,-195.36C937.12,-197.84 946.42,-200.2 954.71,-202.3\"/>\n<polygon fill=\"black\" stroke=\"black\" points=\"954.06,-205.75 964.62,-204.82 955.79,-198.97 954.06,-205.75\"/>\n</g>\n<!-- 140712868458896+&#45;&gt;140712868458896 -->\n<g id=\"edge4\" class=\"edge\">\n<title>140712868458896+&#45;&gt;140712868458896</title>\n<path fill=\"none\" stroke=\"black\" d=\"M666.35,-167C673.8,-167 682.43,-167 691.7,-167\"/>\n<polygon fill=\"black\" stroke=\"black\" points=\"691.98,-170.5 701.98,-167 691.98,-163.5 691.98,-170.5\"/>\n</g>\n<!-- 140712868459424 -->\n<g id=\"node14\" class=\"node\">\n<title>140712868459424</title>\n<polygon fill=\"none\" stroke=\"black\" points=\"351,-88.5 351,-157.5 576,-157.5 576,-88.5 351,-88.5\"/>\n<text text-anchor=\"middle\" x=\"463.5\" y=\"-142.3\" font-family=\"Times,serif\" font-size=\"14.00\">x2w2</text>\n<polyline fill=\"none\" stroke=\"black\" points=\"351,-134.5 576,-134.5 \"/>\n<text text-anchor=\"middle\" x=\"463.5\" y=\"-119.3\" font-family=\"Times,serif\" font-size=\"14.00\">data: 0</text>\n<polyline fill=\"none\" stroke=\"black\" points=\"351,-111.5 576,-111.5 \"/>\n<text text-anchor=\"middle\" x=\"463.5\" y=\"-96.3\" font-family=\"Times,serif\" font-size=\"14.00\">grad: 0.07065082485316443</text>\n</g>\n<!-- 140712868459424&#45;&gt;140712868458896+ -->\n<g id=\"edge10\" class=\"edge\">\n<title>140712868459424&#45;&gt;140712868458896+</title>\n<path fill=\"none\" stroke=\"black\" d=\"M576.34,-151.36C586.12,-153.84 595.42,-156.2 603.71,-158.3\"/>\n<polygon fill=\"black\" stroke=\"black\" points=\"603.06,-161.75 613.62,-160.82 604.79,-154.97 603.06,-161.75\"/>\n</g>\n<!-- 140712868459424*&#45;&gt;140712868459424 -->\n<g id=\"edge5\" class=\"edge\">\n<title>140712868459424*&#45;&gt;140712868459424</title>\n<path fill=\"none\" stroke=\"black\" d=\"M315.35,-123C322.8,-123 331.43,-123 340.7,-123\"/>\n<polygon fill=\"black\" stroke=\"black\" points=\"340.98,-126.5 350.98,-123 340.98,-119.5 340.98,-126.5\"/>\n</g>\n</g>\n</svg>\n",
      "text/plain": [
       "<graphviz.graphs.Digraph at 0x7ffa44899670>"
      ]
     },
     "execution_count": 100,
     "metadata": {},
     "output_type": "execute_result"
    }
   ],
   "source": [
    "draw_graph(output)"
   ]
  },
  {
   "cell_type": "code",
   "execution_count": 111,
   "id": "e8482ef2",
   "metadata": {},
   "outputs": [
    {
     "data": {
      "image/svg+xml": "<?xml version=\"1.0\" encoding=\"UTF-8\" standalone=\"no\"?>\n<!DOCTYPE svg PUBLIC \"-//W3C//DTD SVG 1.1//EN\"\n \"http://www.w3.org/Graphics/SVG/1.1/DTD/svg11.dtd\">\n<!-- Generated by graphviz version 2.50.0 (0)\n -->\n<!-- Pages: 1 -->\n<svg width=\"296pt\" height=\"78pt\"\n viewBox=\"0.00 0.00 296.00 78.00\" xmlns=\"http://www.w3.org/2000/svg\" xmlns:xlink=\"http://www.w3.org/1999/xlink\">\n<g id=\"graph0\" class=\"graph\" transform=\"scale(1 1) rotate(0) translate(4 74)\">\n<polygon fill=\"white\" stroke=\"transparent\" points=\"-4,4 -4,-74 292,-74 292,4 -4,4\"/>\n<!-- 140712869735920 -->\n<g id=\"node1\" class=\"node\">\n<title>140712869735920</title>\n<polygon fill=\"none\" stroke=\"black\" points=\"0,-0.5 0,-69.5 81,-69.5 81,-0.5 0,-0.5\"/>\n<text text-anchor=\"middle\" x=\"40.5\" y=\"-54.3\" font-family=\"Times,serif\" font-size=\"14.00\">a</text>\n<polyline fill=\"none\" stroke=\"black\" points=\"0,-46.5 81,-46.5 \"/>\n<text text-anchor=\"middle\" x=\"40.5\" y=\"-31.3\" font-family=\"Times,serif\" font-size=\"14.00\">data: 3</text>\n<polyline fill=\"none\" stroke=\"black\" points=\"0,-23.5 81,-23.5 \"/>\n<text text-anchor=\"middle\" x=\"40.5\" y=\"-8.3\" font-family=\"Times,serif\" font-size=\"14.00\">grad: 2.0</text>\n</g>\n<!-- 140712869734384+ -->\n<g id=\"node3\" class=\"node\">\n<title>140712869734384+</title>\n<ellipse fill=\"none\" stroke=\"black\" cx=\"144\" cy=\"-35\" rx=\"27\" ry=\"18\"/>\n<text text-anchor=\"middle\" x=\"144\" y=\"-31.3\" font-family=\"Times,serif\" font-size=\"14.00\">+</text>\n</g>\n<!-- 140712869735920&#45;&gt;140712869734384+ -->\n<g id=\"edge2\" class=\"edge\">\n<title>140712869735920&#45;&gt;140712869734384+</title>\n<path fill=\"none\" stroke=\"black\" d=\"M81.03,-35C89.49,-35 98.38,-35 106.7,-35\"/>\n<polygon fill=\"black\" stroke=\"black\" points=\"106.87,-38.5 116.87,-35 106.87,-31.5 106.87,-38.5\"/>\n</g>\n<!-- 140712869734384 -->\n<g id=\"node2\" class=\"node\">\n<title>140712869734384</title>\n<polygon fill=\"none\" stroke=\"black\" points=\"207,-0.5 207,-69.5 288,-69.5 288,-0.5 207,-0.5\"/>\n<text text-anchor=\"middle\" x=\"247.5\" y=\"-54.3\" font-family=\"Times,serif\" font-size=\"14.00\">b</text>\n<polyline fill=\"none\" stroke=\"black\" points=\"207,-46.5 288,-46.5 \"/>\n<text text-anchor=\"middle\" x=\"247.5\" y=\"-31.3\" font-family=\"Times,serif\" font-size=\"14.00\">data: 6</text>\n<polyline fill=\"none\" stroke=\"black\" points=\"207,-23.5 288,-23.5 \"/>\n<text text-anchor=\"middle\" x=\"247.5\" y=\"-8.3\" font-family=\"Times,serif\" font-size=\"14.00\">grad: 1.0</text>\n</g>\n<!-- 140712869734384+&#45;&gt;140712869734384 -->\n<g id=\"edge1\" class=\"edge\">\n<title>140712869734384+&#45;&gt;140712869734384</title>\n<path fill=\"none\" stroke=\"black\" d=\"M171.14,-35C178.91,-35 187.69,-35 196.45,-35\"/>\n<polygon fill=\"black\" stroke=\"black\" points=\"196.65,-38.5 206.65,-35 196.65,-31.5 196.65,-38.5\"/>\n</g>\n</g>\n</svg>\n",
      "text/plain": [
       "<graphviz.graphs.Digraph at 0x7ffa64371f70>"
      ]
     },
     "execution_count": 111,
     "metadata": {},
     "output_type": "execute_result"
    }
   ],
   "source": [
    "# Case where same variable is used twice\n",
    "a = Value(3, label='a')\n",
    "b= a + a\n",
    "b.label = \"b\"\n",
    "b.backward()\n",
    "draw_graph(b)"
   ]
  },
  {
   "cell_type": "code",
   "execution_count": 122,
   "id": "d61a02e1",
   "metadata": {},
   "outputs": [],
   "source": [
    "# Inputs x1 and x2\n",
    "x1 = Value(2, label=\"x1\")\n",
    "x2 = Value(1, label=\"x2\")\n",
    "# two weights for each input\n",
    "w1 = Value(-3, label=\"w1\")\n",
    "w2 = Value(0, label=\"w2\")\n",
    "# bias of the neuron\n",
    "b = Value(8, label=\"b\")\n",
    "\n",
    "# Applying sum of inputs with weights\n",
    "x1w1 = x1*w1\n",
    "x1w1.label=\"x1w1\"\n",
    "x2w2 = x2*w2\n",
    "x2w2.label=\"x2w2\"\n",
    "x1w1x2w2 = x1w1 + x2w2\n",
    "x1w1x2w2.label = \"x1w1+x2w2\"\n",
    "neuron1 = x1w1x2w2 + b\n",
    "neuron1.label = \"neuron1\"\n",
    "# Replacing tanh with the composite operations\n",
    "e = (2*neuron1).exp()\n",
    "output = (e-1)/(e+1)\n",
    "output.label = \"output\"\n",
    "output.backward()\n"
   ]
  },
  {
   "cell_type": "code",
   "execution_count": 123,
   "id": "63aa2210",
   "metadata": {},
   "outputs": [
    {
     "data": {
      "image/svg+xml": "<?xml version=\"1.0\" encoding=\"UTF-8\" standalone=\"no\"?>\n<!DOCTYPE svg PUBLIC \"-//W3C//DTD SVG 1.1//EN\"\n \"http://www.w3.org/Graphics/SVG/1.1/DTD/svg11.dtd\">\n<!-- Generated by graphviz version 2.50.0 (0)\n -->\n<!-- Pages: 1 -->\n<svg width=\"3239pt\" height=\"386pt\"\n viewBox=\"0.00 0.00 3238.60 386.00\" xmlns=\"http://www.w3.org/2000/svg\" xmlns:xlink=\"http://www.w3.org/1999/xlink\">\n<g id=\"graph0\" class=\"graph\" transform=\"scale(1 1) rotate(0) translate(4 382)\">\n<polygon fill=\"white\" stroke=\"transparent\" points=\"-4,4 -4,-382 3234.6,-382 3234.6,4 -4,4\"/>\n<!-- 140712868217856 -->\n<g id=\"node1\" class=\"node\">\n<title>140712868217856</title>\n<polygon fill=\"none\" stroke=\"black\" points=\"356,-88.5 356,-157.5 581,-157.5 581,-88.5 356,-88.5\"/>\n<text text-anchor=\"middle\" x=\"468.5\" y=\"-142.3\" font-family=\"Times,serif\" font-size=\"14.00\">x2w2</text>\n<polyline fill=\"none\" stroke=\"black\" points=\"356,-134.5 581,-134.5 \"/>\n<text text-anchor=\"middle\" x=\"468.5\" y=\"-119.3\" font-family=\"Times,serif\" font-size=\"14.00\">data: 0</text>\n<polyline fill=\"none\" stroke=\"black\" points=\"356,-111.5 581,-111.5 \"/>\n<text text-anchor=\"middle\" x=\"468.5\" y=\"-96.3\" font-family=\"Times,serif\" font-size=\"14.00\">grad: 0.07065082485316435</text>\n</g>\n<!-- 140712868220256+ -->\n<g id=\"node23\" class=\"node\">\n<title>140712868220256+</title>\n<ellipse fill=\"none\" stroke=\"black\" cx=\"644\" cy=\"-167\" rx=\"27\" ry=\"18\"/>\n<text text-anchor=\"middle\" x=\"644\" y=\"-163.3\" font-family=\"Times,serif\" font-size=\"14.00\">+</text>\n</g>\n<!-- 140712868217856&#45;&gt;140712868220256+ -->\n<g id=\"edge19\" class=\"edge\">\n<title>140712868217856&#45;&gt;140712868220256+</title>\n<path fill=\"none\" stroke=\"black\" d=\"M581.34,-151.36C591.12,-153.84 600.42,-156.2 608.71,-158.3\"/>\n<polygon fill=\"black\" stroke=\"black\" points=\"608.06,-161.75 618.62,-160.82 609.79,-154.97 608.06,-161.75\"/>\n</g>\n<!-- 140712868217856* -->\n<g id=\"node2\" class=\"node\">\n<title>140712868217856*</title>\n<ellipse fill=\"none\" stroke=\"black\" cx=\"293\" cy=\"-123\" rx=\"27\" ry=\"18\"/>\n<text text-anchor=\"middle\" x=\"293\" y=\"-119.3\" font-family=\"Times,serif\" font-size=\"14.00\">*</text>\n</g>\n<!-- 140712868217856*&#45;&gt;140712868217856 -->\n<g id=\"edge1\" class=\"edge\">\n<title>140712868217856*&#45;&gt;140712868217856</title>\n<path fill=\"none\" stroke=\"black\" d=\"M320.35,-123C327.8,-123 336.43,-123 345.7,-123\"/>\n<polygon fill=\"black\" stroke=\"black\" points=\"345.98,-126.5 355.98,-123 345.98,-119.5 345.98,-126.5\"/>\n</g>\n<!-- 140712868219488 -->\n<g id=\"node3\" class=\"node\">\n<title>140712868219488</title>\n<polygon fill=\"none\" stroke=\"black\" points=\"1760.6,-220.5 1760.6,-289.5 2003.6,-289.5 2003.6,-220.5 1760.6,-220.5\"/>\n<text text-anchor=\"middle\" x=\"1882.1\" y=\"-274.3\" font-family=\"Times,serif\" font-size=\"14.00\"> </text>\n<polyline fill=\"none\" stroke=\"black\" points=\"1760.6,-266.5 2003.6,-266.5 \"/>\n<text text-anchor=\"middle\" x=\"1882.1\" y=\"-251.3\" font-family=\"Times,serif\" font-size=\"14.00\">data: 54.598150033144236</text>\n<polyline fill=\"none\" stroke=\"black\" points=\"1760.6,-243.5 2003.6,-243.5 \"/>\n<text text-anchor=\"middle\" x=\"1882.1\" y=\"-228.3\" font-family=\"Times,serif\" font-size=\"14.00\">grad: 0.0006470074976008822</text>\n</g>\n<!-- 140712868219536+ -->\n<g id=\"node8\" class=\"node\">\n<title>140712868219536+</title>\n<ellipse fill=\"none\" stroke=\"black\" cx=\"2066.6\" cy=\"-219\" rx=\"27\" ry=\"18\"/>\n<text text-anchor=\"middle\" x=\"2066.6\" y=\"-215.3\" font-family=\"Times,serif\" font-size=\"14.00\">+</text>\n</g>\n<!-- 140712868219488&#45;&gt;140712868219536+ -->\n<g id=\"edge26\" class=\"edge\">\n<title>140712868219488&#45;&gt;140712868219536+</title>\n<path fill=\"none\" stroke=\"black\" d=\"M2003.81,-231.19C2013.3,-229.32 2022.32,-227.54 2030.39,-225.95\"/>\n<polygon fill=\"black\" stroke=\"black\" points=\"2031.27,-229.34 2040.4,-223.97 2029.91,-222.47 2031.27,-229.34\"/>\n</g>\n<!-- 140712870207248+ -->\n<g id=\"node21\" class=\"node\">\n<title>140712870207248+</title>\n<ellipse fill=\"none\" stroke=\"black\" cx=\"2066.6\" cy=\"-290\" rx=\"27\" ry=\"18\"/>\n<text text-anchor=\"middle\" x=\"2066.6\" y=\"-286.3\" font-family=\"Times,serif\" font-size=\"14.00\">+</text>\n</g>\n<!-- 140712868219488&#45;&gt;140712870207248+ -->\n<g id=\"edge18\" class=\"edge\">\n<title>140712868219488&#45;&gt;140712870207248+</title>\n<path fill=\"none\" stroke=\"black\" d=\"M2003.81,-278.15C2013.3,-279.97 2022.32,-281.7 2030.39,-283.25\"/>\n<polygon fill=\"black\" stroke=\"black\" points=\"2029.92,-286.72 2040.4,-285.17 2031.24,-279.85 2029.92,-286.72\"/>\n</g>\n<!-- 140712868219488exp -->\n<g id=\"node4\" class=\"node\">\n<title>140712868219488exp</title>\n<ellipse fill=\"none\" stroke=\"black\" cx=\"1697.3\" cy=\"-255\" rx=\"27.1\" ry=\"18\"/>\n<text text-anchor=\"middle\" x=\"1697.3\" y=\"-251.3\" font-family=\"Times,serif\" font-size=\"14.00\">exp</text>\n</g>\n<!-- 140712868219488exp&#45;&gt;140712868219488 -->\n<g id=\"edge2\" class=\"edge\">\n<title>140712868219488exp&#45;&gt;140712868219488</title>\n<path fill=\"none\" stroke=\"black\" d=\"M1724.88,-255C1732.3,-255 1740.89,-255 1750.15,-255\"/>\n<polygon fill=\"black\" stroke=\"black\" points=\"1750.44,-258.5 1760.44,-255 1750.44,-251.5 1750.44,-258.5\"/>\n</g>\n<!-- 140712868216944 -->\n<g id=\"node5\" class=\"node\">\n<title>140712868216944</title>\n<polygon fill=\"none\" stroke=\"black\" points=\"1058,-264.5 1058,-333.5 1283,-333.5 1283,-264.5 1058,-264.5\"/>\n<text text-anchor=\"middle\" x=\"1170.5\" y=\"-318.3\" font-family=\"Times,serif\" font-size=\"14.00\"> </text>\n<polyline fill=\"none\" stroke=\"black\" points=\"1058,-310.5 1283,-310.5 \"/>\n<text text-anchor=\"middle\" x=\"1170.5\" y=\"-295.3\" font-family=\"Times,serif\" font-size=\"14.00\">data: 2</text>\n<polyline fill=\"none\" stroke=\"black\" points=\"1058,-287.5 1283,-287.5 \"/>\n<text text-anchor=\"middle\" x=\"1170.5\" y=\"-272.3\" font-family=\"Times,serif\" font-size=\"14.00\">grad: 0.07065082485316435</text>\n</g>\n<!-- 140712868219296* -->\n<g id=\"node27\" class=\"node\">\n<title>140712868219296*</title>\n<ellipse fill=\"none\" stroke=\"black\" cx=\"1346\" cy=\"-255\" rx=\"27\" ry=\"18\"/>\n<text text-anchor=\"middle\" x=\"1346\" y=\"-251.3\" font-family=\"Times,serif\" font-size=\"14.00\">*</text>\n</g>\n<!-- 140712868216944&#45;&gt;140712868219296* -->\n<g id=\"edge22\" class=\"edge\">\n<title>140712868216944&#45;&gt;140712868219296*</title>\n<path fill=\"none\" stroke=\"black\" d=\"M1283.34,-270.64C1293.12,-268.16 1302.42,-265.8 1310.71,-263.7\"/>\n<polygon fill=\"black\" stroke=\"black\" points=\"1311.79,-267.03 1320.62,-261.18 1310.06,-260.25 1311.79,-267.03\"/>\n</g>\n<!-- 140712868219008 -->\n<g id=\"node6\" class=\"node\">\n<title>140712868219008</title>\n<polygon fill=\"none\" stroke=\"black\" points=\"1769.6,-132.5 1769.6,-201.5 1994.6,-201.5 1994.6,-132.5 1769.6,-132.5\"/>\n<text text-anchor=\"middle\" x=\"1882.1\" y=\"-186.3\" font-family=\"Times,serif\" font-size=\"14.00\"> </text>\n<polyline fill=\"none\" stroke=\"black\" points=\"1769.6,-178.5 1994.6,-178.5 \"/>\n<text text-anchor=\"middle\" x=\"1882.1\" y=\"-163.3\" font-family=\"Times,serif\" font-size=\"14.00\">data: &#45;1</text>\n<polyline fill=\"none\" stroke=\"black\" points=\"1769.6,-155.5 1994.6,-155.5 \"/>\n<text text-anchor=\"middle\" x=\"1882.1\" y=\"-140.3\" font-family=\"Times,serif\" font-size=\"14.00\">grad: 0.01798620996209156</text>\n</g>\n<!-- 140712868219008&#45;&gt;140712868219536+ -->\n<g id=\"edge11\" class=\"edge\">\n<title>140712868219008&#45;&gt;140712868219536+</title>\n<path fill=\"none\" stroke=\"black\" d=\"M1994.77,-198.82C2008.12,-202.62 2020.85,-206.25 2031.75,-209.36\"/>\n<polygon fill=\"black\" stroke=\"black\" points=\"2031.01,-212.79 2041.59,-212.16 2032.93,-206.05 2031.01,-212.79\"/>\n</g>\n<!-- 140712868219536 -->\n<g id=\"node7\" class=\"node\">\n<title>140712868219536</title>\n<polygon fill=\"none\" stroke=\"black\" points=\"2404.6,-184.5 2404.6,-253.5 2629.6,-253.5 2629.6,-184.5 2404.6,-184.5\"/>\n<text text-anchor=\"middle\" x=\"2517.1\" y=\"-238.3\" font-family=\"Times,serif\" font-size=\"14.00\"> </text>\n<polyline fill=\"none\" stroke=\"black\" points=\"2404.6,-230.5 2629.6,-230.5 \"/>\n<text text-anchor=\"middle\" x=\"2517.1\" y=\"-215.3\" font-family=\"Times,serif\" font-size=\"14.00\">data: 53.598150033144236</text>\n<polyline fill=\"none\" stroke=\"black\" points=\"2404.6,-207.5 2629.6,-207.5 \"/>\n<text text-anchor=\"middle\" x=\"2517.1\" y=\"-192.3\" font-family=\"Times,serif\" font-size=\"14.00\">grad: 0.01798620996209156</text>\n</g>\n<!-- 140712868048656* -->\n<g id=\"node15\" class=\"node\">\n<title>140712868048656*</title>\n<ellipse fill=\"none\" stroke=\"black\" cx=\"2952.6\" cy=\"-254\" rx=\"27\" ry=\"18\"/>\n<text text-anchor=\"middle\" x=\"2952.6\" y=\"-250.3\" font-family=\"Times,serif\" font-size=\"14.00\">*</text>\n</g>\n<!-- 140712868219536&#45;&gt;140712868048656* -->\n<g id=\"edge25\" class=\"edge\">\n<title>140712868219536&#45;&gt;140712868048656*</title>\n<path fill=\"none\" stroke=\"black\" d=\"M2629.69,-223.81C2703.59,-227.65 2802.57,-234.08 2889.6,-244 2898.32,-244.99 2907.68,-246.35 2916.43,-247.75\"/>\n<polygon fill=\"black\" stroke=\"black\" points=\"2915.89,-251.21 2926.33,-249.38 2917.03,-244.3 2915.89,-251.21\"/>\n</g>\n<!-- 140712868219536+&#45;&gt;140712868219536 -->\n<g id=\"edge3\" class=\"edge\">\n<title>140712868219536+&#45;&gt;140712868219536</title>\n<path fill=\"none\" stroke=\"black\" d=\"M2093.65,-219C2150.91,-219 2290.85,-219 2394.05,-219\"/>\n<polygon fill=\"black\" stroke=\"black\" points=\"2394.24,-222.5 2404.24,-219 2394.24,-215.5 2394.24,-222.5\"/>\n</g>\n<!-- 140712868220064 -->\n<g id=\"node9\" class=\"node\">\n<title>140712868220064</title>\n<polygon fill=\"none\" stroke=\"black\" points=\"7,-264.5 7,-333.5 223,-333.5 223,-264.5 7,-264.5\"/>\n<text text-anchor=\"middle\" x=\"115\" y=\"-318.3\" font-family=\"Times,serif\" font-size=\"14.00\">w1</text>\n<polyline fill=\"none\" stroke=\"black\" points=\"7,-310.5 223,-310.5 \"/>\n<text text-anchor=\"middle\" x=\"115\" y=\"-295.3\" font-family=\"Times,serif\" font-size=\"14.00\">data: &#45;3</text>\n<polyline fill=\"none\" stroke=\"black\" points=\"7,-287.5 223,-287.5 \"/>\n<text text-anchor=\"middle\" x=\"115\" y=\"-272.3\" font-family=\"Times,serif\" font-size=\"14.00\">grad: 0.1413016497063287</text>\n</g>\n<!-- 140712868219776* -->\n<g id=\"node25\" class=\"node\">\n<title>140712868219776*</title>\n<ellipse fill=\"none\" stroke=\"black\" cx=\"293\" cy=\"-211\" rx=\"27\" ry=\"18\"/>\n<text text-anchor=\"middle\" x=\"293\" y=\"-207.3\" font-family=\"Times,serif\" font-size=\"14.00\">*</text>\n</g>\n<!-- 140712868220064&#45;&gt;140712868219776* -->\n<g id=\"edge12\" class=\"edge\">\n<title>140712868220064&#45;&gt;140712868219776*</title>\n<path fill=\"none\" stroke=\"black\" d=\"M211.06,-264.41C217.56,-261.4 223.93,-258.26 230,-255 242.75,-248.15 255.96,-239.09 266.89,-230.98\"/>\n<polygon fill=\"black\" stroke=\"black\" points=\"269.27,-233.57 275.12,-224.73 265.03,-227.99 269.27,-233.57\"/>\n</g>\n<!-- 140712870207152 -->\n<g id=\"node10\" class=\"node\">\n<title>140712870207152</title>\n<polygon fill=\"none\" stroke=\"black\" points=\"2665.6,-253.5 2665.6,-322.5 2889.6,-322.5 2889.6,-253.5 2665.6,-253.5\"/>\n<text text-anchor=\"middle\" x=\"2777.6\" y=\"-307.3\" font-family=\"Times,serif\" font-size=\"14.00\"> </text>\n<polyline fill=\"none\" stroke=\"black\" points=\"2665.6,-299.5 2889.6,-299.5 \"/>\n<text text-anchor=\"middle\" x=\"2777.6\" y=\"-284.3\" font-family=\"Times,serif\" font-size=\"14.00\">data: 0.01798620996209156</text>\n<polyline fill=\"none\" stroke=\"black\" points=\"2665.6,-276.5 2889.6,-276.5 \"/>\n<text text-anchor=\"middle\" x=\"2777.6\" y=\"-261.3\" font-family=\"Times,serif\" font-size=\"14.00\">grad: 53.598150033144236</text>\n</g>\n<!-- 140712870207152&#45;&gt;140712868048656* -->\n<g id=\"edge24\" class=\"edge\">\n<title>140712870207152&#45;&gt;140712868048656*</title>\n<path fill=\"none\" stroke=\"black\" d=\"M2889.63,-266.18C2899.25,-264.29 2908.43,-262.48 2916.64,-260.87\"/>\n<polygon fill=\"black\" stroke=\"black\" points=\"2917.34,-264.3 2926.47,-258.94 2915.99,-257.43 2917.34,-264.3\"/>\n</g>\n<!-- 140712870207152**&#45;1 -->\n<g id=\"node11\" class=\"node\">\n<title>140712870207152**&#45;1</title>\n<ellipse fill=\"none\" stroke=\"black\" cx=\"2517.1\" cy=\"-290\" rx=\"28.7\" ry=\"18\"/>\n<text text-anchor=\"middle\" x=\"2517.1\" y=\"-286.3\" font-family=\"Times,serif\" font-size=\"14.00\">**&#45;1</text>\n</g>\n<!-- 140712870207152**&#45;1&#45;&gt;140712870207152 -->\n<g id=\"edge4\" class=\"edge\">\n<title>140712870207152**&#45;1&#45;&gt;140712870207152</title>\n<path fill=\"none\" stroke=\"black\" d=\"M2545.76,-289.79C2572.35,-289.58 2614.44,-289.25 2655.44,-288.94\"/>\n<polygon fill=\"black\" stroke=\"black\" points=\"2655.58,-292.44 2665.55,-288.86 2655.52,-285.44 2655.58,-292.44\"/>\n</g>\n<!-- 140712868220112 -->\n<g id=\"node12\" class=\"node\">\n<title>140712868220112</title>\n<polygon fill=\"none\" stroke=\"black\" points=\"2.5,-88.5 2.5,-157.5 227.5,-157.5 227.5,-88.5 2.5,-88.5\"/>\n<text text-anchor=\"middle\" x=\"115\" y=\"-142.3\" font-family=\"Times,serif\" font-size=\"14.00\">w2</text>\n<polyline fill=\"none\" stroke=\"black\" points=\"2.5,-134.5 227.5,-134.5 \"/>\n<text text-anchor=\"middle\" x=\"115\" y=\"-119.3\" font-family=\"Times,serif\" font-size=\"14.00\">data: 0</text>\n<polyline fill=\"none\" stroke=\"black\" points=\"2.5,-111.5 227.5,-111.5 \"/>\n<text text-anchor=\"middle\" x=\"115\" y=\"-96.3\" font-family=\"Times,serif\" font-size=\"14.00\">grad: 0.07065082485316435</text>\n</g>\n<!-- 140712868220112&#45;&gt;140712868217856* -->\n<g id=\"edge21\" class=\"edge\">\n<title>140712868220112&#45;&gt;140712868217856*</title>\n<path fill=\"none\" stroke=\"black\" d=\"M227.96,-123C237.88,-123 247.35,-123 255.83,-123\"/>\n<polygon fill=\"black\" stroke=\"black\" points=\"256,-126.5 266,-123 256,-119.5 256,-126.5\"/>\n</g>\n<!-- 140712868217568 -->\n<g id=\"node13\" class=\"node\">\n<title>140712868217568</title>\n<polygon fill=\"none\" stroke=\"black\" points=\"0,-176.5 0,-245.5 230,-245.5 230,-176.5 0,-176.5\"/>\n<text text-anchor=\"middle\" x=\"115\" y=\"-230.3\" font-family=\"Times,serif\" font-size=\"14.00\">x1</text>\n<polyline fill=\"none\" stroke=\"black\" points=\"0,-222.5 230,-222.5 \"/>\n<text text-anchor=\"middle\" x=\"115\" y=\"-207.3\" font-family=\"Times,serif\" font-size=\"14.00\">data: 2</text>\n<polyline fill=\"none\" stroke=\"black\" points=\"0,-199.5 230,-199.5 \"/>\n<text text-anchor=\"middle\" x=\"115\" y=\"-184.3\" font-family=\"Times,serif\" font-size=\"14.00\">grad: &#45;0.21195247455949304</text>\n</g>\n<!-- 140712868217568&#45;&gt;140712868219776* -->\n<g id=\"edge14\" class=\"edge\">\n<title>140712868217568&#45;&gt;140712868219776*</title>\n<path fill=\"none\" stroke=\"black\" d=\"M230.44,-211C239.47,-211 248.09,-211 255.87,-211\"/>\n<polygon fill=\"black\" stroke=\"black\" points=\"255.91,-214.5 265.91,-211 255.91,-207.5 255.91,-214.5\"/>\n</g>\n<!-- 140712868048656 -->\n<g id=\"node14\" class=\"node\">\n<title>140712868048656</title>\n<polygon fill=\"none\" stroke=\"black\" points=\"3015.6,-219.5 3015.6,-288.5 3230.6,-288.5 3230.6,-219.5 3015.6,-219.5\"/>\n<text text-anchor=\"middle\" x=\"3123.1\" y=\"-273.3\" font-family=\"Times,serif\" font-size=\"14.00\">output</text>\n<polyline fill=\"none\" stroke=\"black\" points=\"3015.6,-265.5 3230.6,-265.5 \"/>\n<text text-anchor=\"middle\" x=\"3123.1\" y=\"-250.3\" font-family=\"Times,serif\" font-size=\"14.00\">data: 0.9640275800758169</text>\n<polyline fill=\"none\" stroke=\"black\" points=\"3015.6,-242.5 3230.6,-242.5 \"/>\n<text text-anchor=\"middle\" x=\"3123.1\" y=\"-227.3\" font-family=\"Times,serif\" font-size=\"14.00\">grad: 1.0</text>\n</g>\n<!-- 140712868048656*&#45;&gt;140712868048656 -->\n<g id=\"edge5\" class=\"edge\">\n<title>140712868048656*&#45;&gt;140712868048656</title>\n<path fill=\"none\" stroke=\"black\" d=\"M2979.92,-254C2987.33,-254 2995.9,-254 3005.08,-254\"/>\n<polygon fill=\"black\" stroke=\"black\" points=\"3005.26,-257.5 3015.26,-254 3005.26,-250.5 3005.26,-257.5\"/>\n</g>\n<!-- 140712868219680 -->\n<g id=\"node16\" class=\"node\">\n<title>140712868219680</title>\n<polygon fill=\"none\" stroke=\"black\" points=\"1058,-176.5 1058,-245.5 1283,-245.5 1283,-176.5 1058,-176.5\"/>\n<text text-anchor=\"middle\" x=\"1170.5\" y=\"-230.3\" font-family=\"Times,serif\" font-size=\"14.00\">neuron1</text>\n<polyline fill=\"none\" stroke=\"black\" points=\"1058,-222.5 1283,-222.5 \"/>\n<text text-anchor=\"middle\" x=\"1170.5\" y=\"-207.3\" font-family=\"Times,serif\" font-size=\"14.00\">data: 2</text>\n<polyline fill=\"none\" stroke=\"black\" points=\"1058,-199.5 1283,-199.5 \"/>\n<text text-anchor=\"middle\" x=\"1170.5\" y=\"-184.3\" font-family=\"Times,serif\" font-size=\"14.00\">grad: 0.07065082485316435</text>\n</g>\n<!-- 140712868219680&#45;&gt;140712868219296* -->\n<g id=\"edge20\" class=\"edge\">\n<title>140712868219680&#45;&gt;140712868219296*</title>\n<path fill=\"none\" stroke=\"black\" d=\"M1283.34,-239.36C1293.12,-241.84 1302.42,-244.2 1310.71,-246.3\"/>\n<polygon fill=\"black\" stroke=\"black\" points=\"1310.06,-249.75 1320.62,-248.82 1311.79,-242.97 1310.06,-249.75\"/>\n</g>\n<!-- 140712868219680+ -->\n<g id=\"node17\" class=\"node\">\n<title>140712868219680+</title>\n<ellipse fill=\"none\" stroke=\"black\" cx=\"995\" cy=\"-211\" rx=\"27\" ry=\"18\"/>\n<text text-anchor=\"middle\" x=\"995\" y=\"-207.3\" font-family=\"Times,serif\" font-size=\"14.00\">+</text>\n</g>\n<!-- 140712868219680+&#45;&gt;140712868219680 -->\n<g id=\"edge6\" class=\"edge\">\n<title>140712868219680+&#45;&gt;140712868219680</title>\n<path fill=\"none\" stroke=\"black\" d=\"M1022.35,-211C1029.8,-211 1038.43,-211 1047.7,-211\"/>\n<polygon fill=\"black\" stroke=\"black\" points=\"1047.98,-214.5 1057.98,-211 1047.98,-207.5 1047.98,-214.5\"/>\n</g>\n<!-- 140712868217616 -->\n<g id=\"node18\" class=\"node\">\n<title>140712868217616</title>\n<polygon fill=\"none\" stroke=\"black\" points=\"74.5,-0.5 74.5,-69.5 155.5,-69.5 155.5,-0.5 74.5,-0.5\"/>\n<text text-anchor=\"middle\" x=\"115\" y=\"-54.3\" font-family=\"Times,serif\" font-size=\"14.00\">x2</text>\n<polyline fill=\"none\" stroke=\"black\" points=\"74.5,-46.5 155.5,-46.5 \"/>\n<text text-anchor=\"middle\" x=\"115\" y=\"-31.3\" font-family=\"Times,serif\" font-size=\"14.00\">data: 1</text>\n<polyline fill=\"none\" stroke=\"black\" points=\"74.5,-23.5 155.5,-23.5 \"/>\n<text text-anchor=\"middle\" x=\"115\" y=\"-8.3\" font-family=\"Times,serif\" font-size=\"14.00\">grad: 0.0</text>\n</g>\n<!-- 140712868217616&#45;&gt;140712868217856* -->\n<g id=\"edge17\" class=\"edge\">\n<title>140712868217616&#45;&gt;140712868217856*</title>\n<path fill=\"none\" stroke=\"black\" d=\"M155.59,-47.55C178.02,-55.33 206.26,-66.25 230,-79 242.75,-85.85 255.96,-94.91 266.89,-103.02\"/>\n<polygon fill=\"black\" stroke=\"black\" points=\"265.03,-106.01 275.12,-109.27 269.27,-100.43 265.03,-106.01\"/>\n</g>\n<!-- 140712868220208 -->\n<g id=\"node19\" class=\"node\">\n<title>140712868220208</title>\n<polygon fill=\"none\" stroke=\"black\" points=\"707,-220.5 707,-289.5 932,-289.5 932,-220.5 707,-220.5\"/>\n<text text-anchor=\"middle\" x=\"819.5\" y=\"-274.3\" font-family=\"Times,serif\" font-size=\"14.00\">b</text>\n<polyline fill=\"none\" stroke=\"black\" points=\"707,-266.5 932,-266.5 \"/>\n<text text-anchor=\"middle\" x=\"819.5\" y=\"-251.3\" font-family=\"Times,serif\" font-size=\"14.00\">data: 8</text>\n<polyline fill=\"none\" stroke=\"black\" points=\"707,-243.5 932,-243.5 \"/>\n<text text-anchor=\"middle\" x=\"819.5\" y=\"-228.3\" font-family=\"Times,serif\" font-size=\"14.00\">grad: 0.07065082485316435</text>\n</g>\n<!-- 140712868220208&#45;&gt;140712868219680+ -->\n<g id=\"edge13\" class=\"edge\">\n<title>140712868220208&#45;&gt;140712868219680+</title>\n<path fill=\"none\" stroke=\"black\" d=\"M932.34,-226.64C942.12,-224.16 951.42,-221.8 959.71,-219.7\"/>\n<polygon fill=\"black\" stroke=\"black\" points=\"960.79,-223.03 969.62,-217.18 959.06,-216.25 960.79,-223.03\"/>\n</g>\n<!-- 140712870207248 -->\n<g id=\"node20\" class=\"node\">\n<title>140712870207248</title>\n<polygon fill=\"none\" stroke=\"black\" points=\"2129.6,-255.5 2129.6,-324.5 2368.6,-324.5 2368.6,-255.5 2129.6,-255.5\"/>\n<text text-anchor=\"middle\" x=\"2249.1\" y=\"-309.3\" font-family=\"Times,serif\" font-size=\"14.00\"> </text>\n<polyline fill=\"none\" stroke=\"black\" points=\"2129.6,-301.5 2368.6,-301.5 \"/>\n<text text-anchor=\"middle\" x=\"2249.1\" y=\"-286.3\" font-family=\"Times,serif\" font-size=\"14.00\">data: 55.598150033144236</text>\n<polyline fill=\"none\" stroke=\"black\" points=\"2129.6,-278.5 2368.6,-278.5 \"/>\n<text text-anchor=\"middle\" x=\"2249.1\" y=\"-263.3\" font-family=\"Times,serif\" font-size=\"14.00\">grad: &#45;0.017339202464490677</text>\n</g>\n<!-- 140712870207248&#45;&gt;140712870207152**&#45;1 -->\n<g id=\"edge16\" class=\"edge\">\n<title>140712870207248&#45;&gt;140712870207152**&#45;1</title>\n<path fill=\"none\" stroke=\"black\" d=\"M2368.7,-290C2408.31,-290 2449.64,-290 2478.42,-290\"/>\n<polygon fill=\"black\" stroke=\"black\" points=\"2478.43,-293.5 2488.43,-290 2478.43,-286.5 2478.43,-293.5\"/>\n</g>\n<!-- 140712870207248+&#45;&gt;140712870207248 -->\n<g id=\"edge7\" class=\"edge\">\n<title>140712870207248+&#45;&gt;140712870207248</title>\n<path fill=\"none\" stroke=\"black\" d=\"M2093.84,-290C2101.24,-290 2109.81,-290 2119.06,-290\"/>\n<polygon fill=\"black\" stroke=\"black\" points=\"2119.34,-293.5 2129.34,-290 2119.34,-286.5 2119.34,-293.5\"/>\n</g>\n<!-- 140712868220256 -->\n<g id=\"node22\" class=\"node\">\n<title>140712868220256</title>\n<polygon fill=\"none\" stroke=\"black\" points=\"707,-132.5 707,-201.5 932,-201.5 932,-132.5 707,-132.5\"/>\n<text text-anchor=\"middle\" x=\"819.5\" y=\"-186.3\" font-family=\"Times,serif\" font-size=\"14.00\">x1w1+x2w2</text>\n<polyline fill=\"none\" stroke=\"black\" points=\"707,-178.5 932,-178.5 \"/>\n<text text-anchor=\"middle\" x=\"819.5\" y=\"-163.3\" font-family=\"Times,serif\" font-size=\"14.00\">data: &#45;6</text>\n<polyline fill=\"none\" stroke=\"black\" points=\"707,-155.5 932,-155.5 \"/>\n<text text-anchor=\"middle\" x=\"819.5\" y=\"-140.3\" font-family=\"Times,serif\" font-size=\"14.00\">grad: 0.07065082485316435</text>\n</g>\n<!-- 140712868220256&#45;&gt;140712868219680+ -->\n<g id=\"edge27\" class=\"edge\">\n<title>140712868220256&#45;&gt;140712868219680+</title>\n<path fill=\"none\" stroke=\"black\" d=\"M932.34,-195.36C942.12,-197.84 951.42,-200.2 959.71,-202.3\"/>\n<polygon fill=\"black\" stroke=\"black\" points=\"959.06,-205.75 969.62,-204.82 960.79,-198.97 959.06,-205.75\"/>\n</g>\n<!-- 140712868220256+&#45;&gt;140712868220256 -->\n<g id=\"edge8\" class=\"edge\">\n<title>140712868220256+&#45;&gt;140712868220256</title>\n<path fill=\"none\" stroke=\"black\" d=\"M671.35,-167C678.8,-167 687.43,-167 696.7,-167\"/>\n<polygon fill=\"black\" stroke=\"black\" points=\"696.98,-170.5 706.98,-167 696.98,-163.5 696.98,-170.5\"/>\n</g>\n<!-- 140712868219776 -->\n<g id=\"node24\" class=\"node\">\n<title>140712868219776</title>\n<polygon fill=\"none\" stroke=\"black\" points=\"356,-176.5 356,-245.5 581,-245.5 581,-176.5 356,-176.5\"/>\n<text text-anchor=\"middle\" x=\"468.5\" y=\"-230.3\" font-family=\"Times,serif\" font-size=\"14.00\">x1w1</text>\n<polyline fill=\"none\" stroke=\"black\" points=\"356,-222.5 581,-222.5 \"/>\n<text text-anchor=\"middle\" x=\"468.5\" y=\"-207.3\" font-family=\"Times,serif\" font-size=\"14.00\">data: &#45;6</text>\n<polyline fill=\"none\" stroke=\"black\" points=\"356,-199.5 581,-199.5 \"/>\n<text text-anchor=\"middle\" x=\"468.5\" y=\"-184.3\" font-family=\"Times,serif\" font-size=\"14.00\">grad: 0.07065082485316435</text>\n</g>\n<!-- 140712868219776&#45;&gt;140712868220256+ -->\n<g id=\"edge28\" class=\"edge\">\n<title>140712868219776&#45;&gt;140712868220256+</title>\n<path fill=\"none\" stroke=\"black\" d=\"M581.34,-182.64C591.12,-180.16 600.42,-177.8 608.71,-175.7\"/>\n<polygon fill=\"black\" stroke=\"black\" points=\"609.79,-179.03 618.62,-173.18 608.06,-172.25 609.79,-179.03\"/>\n</g>\n<!-- 140712868219776*&#45;&gt;140712868219776 -->\n<g id=\"edge9\" class=\"edge\">\n<title>140712868219776*&#45;&gt;140712868219776</title>\n<path fill=\"none\" stroke=\"black\" d=\"M320.35,-211C327.8,-211 336.43,-211 345.7,-211\"/>\n<polygon fill=\"black\" stroke=\"black\" points=\"345.98,-214.5 355.98,-211 345.98,-207.5 345.98,-214.5\"/>\n</g>\n<!-- 140712868219296 -->\n<g id=\"node26\" class=\"node\">\n<title>140712868219296</title>\n<polygon fill=\"none\" stroke=\"black\" points=\"1409,-220.5 1409,-289.5 1634,-289.5 1634,-220.5 1409,-220.5\"/>\n<text text-anchor=\"middle\" x=\"1521.5\" y=\"-274.3\" font-family=\"Times,serif\" font-size=\"14.00\"> </text>\n<polyline fill=\"none\" stroke=\"black\" points=\"1409,-266.5 1634,-266.5 \"/>\n<text text-anchor=\"middle\" x=\"1521.5\" y=\"-251.3\" font-family=\"Times,serif\" font-size=\"14.00\">data: 4</text>\n<polyline fill=\"none\" stroke=\"black\" points=\"1409,-243.5 1634,-243.5 \"/>\n<text text-anchor=\"middle\" x=\"1521.5\" y=\"-228.3\" font-family=\"Times,serif\" font-size=\"14.00\">grad: 0.03532541242658217</text>\n</g>\n<!-- 140712868219296&#45;&gt;140712868219488exp -->\n<g id=\"edge23\" class=\"edge\">\n<title>140712868219296&#45;&gt;140712868219488exp</title>\n<path fill=\"none\" stroke=\"black\" d=\"M1634.04,-255C1643.13,-255 1651.83,-255 1659.69,-255\"/>\n<polygon fill=\"black\" stroke=\"black\" points=\"1659.85,-258.5 1669.85,-255 1659.85,-251.5 1659.85,-258.5\"/>\n</g>\n<!-- 140712868219296*&#45;&gt;140712868219296 -->\n<g id=\"edge10\" class=\"edge\">\n<title>140712868219296*&#45;&gt;140712868219296</title>\n<path fill=\"none\" stroke=\"black\" d=\"M1373.35,-255C1380.8,-255 1389.43,-255 1398.7,-255\"/>\n<polygon fill=\"black\" stroke=\"black\" points=\"1398.98,-258.5 1408.98,-255 1398.98,-251.5 1398.98,-258.5\"/>\n</g>\n<!-- 140712868218240 -->\n<g id=\"node28\" class=\"node\">\n<title>140712868218240</title>\n<polygon fill=\"none\" stroke=\"black\" points=\"1762.6,-308.5 1762.6,-377.5 2001.6,-377.5 2001.6,-308.5 1762.6,-308.5\"/>\n<text text-anchor=\"middle\" x=\"1882.1\" y=\"-362.3\" font-family=\"Times,serif\" font-size=\"14.00\"> </text>\n<polyline fill=\"none\" stroke=\"black\" points=\"1762.6,-354.5 2001.6,-354.5 \"/>\n<text text-anchor=\"middle\" x=\"1882.1\" y=\"-339.3\" font-family=\"Times,serif\" font-size=\"14.00\">data: 1</text>\n<polyline fill=\"none\" stroke=\"black\" points=\"1762.6,-331.5 2001.6,-331.5 \"/>\n<text text-anchor=\"middle\" x=\"1882.1\" y=\"-316.3\" font-family=\"Times,serif\" font-size=\"14.00\">grad: &#45;0.017339202464490677</text>\n</g>\n<!-- 140712868218240&#45;&gt;140712870207248+ -->\n<g id=\"edge15\" class=\"edge\">\n<title>140712868218240&#45;&gt;140712870207248+</title>\n<path fill=\"none\" stroke=\"black\" d=\"M2001.77,-308.54C2012.65,-305.38 2022.96,-302.38 2031.99,-299.76\"/>\n<polygon fill=\"black\" stroke=\"black\" points=\"2032.98,-303.12 2041.61,-296.97 2031.03,-296.39 2032.98,-303.12\"/>\n</g>\n</g>\n</svg>\n",
      "text/plain": [
       "<graphviz.graphs.Digraph at 0x7ffa5c7e2640>"
      ]
     },
     "execution_count": 123,
     "metadata": {},
     "output_type": "execute_result"
    }
   ],
   "source": [
    "draw_graph(output)"
   ]
  },
  {
   "cell_type": "code",
   "execution_count": 124,
   "id": "e63aea14",
   "metadata": {},
   "outputs": [
    {
     "ename": "ModuleNotFoundError",
     "evalue": "No module named 'torch'",
     "output_type": "error",
     "traceback": [
      "\u001b[0;31m---------------------------------------------------------------------------\u001b[0m",
      "\u001b[0;31mModuleNotFoundError\u001b[0m                       Traceback (most recent call last)",
      "Cell \u001b[0;32mIn [124], line 1\u001b[0m\n\u001b[0;32m----> 1\u001b[0m \u001b[39mimport\u001b[39;00m \u001b[39mtorch\u001b[39;00m\n",
      "\u001b[0;31mModuleNotFoundError\u001b[0m: No module named 'torch'"
     ]
    }
   ],
   "source": [
    "import torch"
   ]
  },
  {
   "cell_type": "code",
   "execution_count": 215,
   "id": "6f96b169",
   "metadata": {},
   "outputs": [],
   "source": [
    "import random\n",
    "class Neuron:\n",
    "\n",
    "    def __init__(self, nin) -> None:\n",
    "        self.w = [Value(random.uniform(-1,1)) for i in range(nin)]\n",
    "        self.b = Value(random.uniform(-1,1))\n",
    "\n",
    "    def __call__(self, x):\n",
    "        activation = sum((wi*xi for wi, xi in zip(self.w, x)), self.b)\n",
    "        output = activation.tanh()\n",
    "\n",
    "        return output\n",
    "\n",
    "    def parameters(self):\n",
    "        return self.w + [self.b]\n",
    "\n",
    "class Layer:\n",
    "\n",
    "    def __init__(self, nin, nout):\n",
    "        self.neurons = [Neuron(nin) for i in range(nout)]\n",
    "\n",
    "    def __call__(self, x):\n",
    "        output = [n(x) for n in self.neurons]\n",
    "\n",
    "        return output[0] if len(output)==1 else output\n",
    "    \n",
    "    def parameters(self):\n",
    "        params = []\n",
    "        for neuron in self.neurons:\n",
    "            params.extend(neuron.parameters())\n",
    "        return params\n",
    "class MLP:\n",
    "    def __init__(self , nin, nouts):\n",
    "        sizes = [nin] + nouts\n",
    "        self.layers = [Layer(sizes[i], sizes[i+1]) for i in range(len(nouts))]\n",
    "    \n",
    "    def __call__(self, x):\n",
    "        for layer in self.layers:\n",
    "            x = layer(x)\n",
    "        return x\n",
    "\n",
    "    def parameters(self):\n",
    "        return [p for layer in self.layers for p in layer.parameters()]"
   ]
  },
  {
   "cell_type": "code",
   "execution_count": 144,
   "id": "f426e89d",
   "metadata": {},
   "outputs": [
    {
     "name": "stdout",
     "output_type": "stream",
     "text": [
      "Value(data=0.12723607706778714, label=)\n"
     ]
    },
    {
     "data": {
      "text/plain": [
       "[Value(data=0.9985539440699399, label=),\n",
       " Value(data=-0.991490522984193, label=),\n",
       " Value(data=0.9369397547381831, label=)]"
      ]
     },
     "execution_count": 144,
     "metadata": {},
     "output_type": "execute_result"
    }
   ],
   "source": [
    "x=[3,1,5]\n",
    "n = Neuron(2)\n",
    "print(n(x))\n",
    "layer = Layer(2,3)\n",
    "layer(x)"
   ]
  },
  {
   "cell_type": "code",
   "execution_count": 216,
   "id": "0849c568",
   "metadata": {},
   "outputs": [
    {
     "data": {
      "text/plain": [
       "Value(data=0.66914110352818, label=)"
      ]
     },
     "execution_count": 216,
     "metadata": {},
     "output_type": "execute_result"
    }
   ],
   "source": [
    "x=[3,1,5]\n",
    "mlp = MLP(3,[4,4,1])\n",
    "mlp(x)"
   ]
  },
  {
   "cell_type": "code",
   "execution_count": 218,
   "id": "294d5be7",
   "metadata": {},
   "outputs": [
    {
     "data": {
      "text/plain": [
       "41"
      ]
     },
     "execution_count": 218,
     "metadata": {},
     "output_type": "execute_result"
    }
   ],
   "source": [
    "len(mlp.parameters())"
   ]
  },
  {
   "cell_type": "code",
   "execution_count": null,
   "id": "7ca3b3f0",
   "metadata": {},
   "outputs": [],
   "source": [
    "draw_graph(mlp(x))"
   ]
  },
  {
   "cell_type": "code",
   "execution_count": 219,
   "id": "b5963ec5",
   "metadata": {},
   "outputs": [
    {
     "data": {
      "text/plain": [
       "[Value(data=0.1258855864459483, label=),\n",
       " Value(data=0.2394823467185708, label=),\n",
       " Value(data=0.4921335207457344, label=),\n",
       " Value(data=-0.3818688046454872, label=)]"
      ]
     },
     "execution_count": 219,
     "metadata": {},
     "output_type": "execute_result"
    }
   ],
   "source": [
    "xs = [\n",
    "    [2,3,-1],\n",
    "    [3,-1,0.5],\n",
    "    [0.5,1,1],\n",
    "    [1,1,-1]\n",
    "]\n",
    "ys = [1,-1,-1,1]\n",
    "ypred = [mlp(x) for x in xs]\n",
    "ypred"
   ]
  },
  {
   "cell_type": "code",
   "execution_count": 220,
   "id": "352c25b4",
   "metadata": {},
   "outputs": [
    {
     "name": "stdout",
     "output_type": "stream",
     "text": [
      "Total loss:  Value(data=6.4364163327953285, label=)\n"
     ]
    }
   ],
   "source": [
    "loss = sum((yout-ygt)**2 for ygt, yout in zip(ys, ypred))\n",
    "print(\"Total loss: \", loss)"
   ]
  },
  {
   "cell_type": "code",
   "execution_count": 221,
   "id": "2bfdfe8b",
   "metadata": {},
   "outputs": [],
   "source": [
    "loss.backward()"
   ]
  },
  {
   "cell_type": "code",
   "execution_count": 222,
   "id": "b089ee42",
   "metadata": {},
   "outputs": [
    {
     "data": {
      "text/plain": [
       "-1.7360476136273109"
      ]
     },
     "execution_count": 222,
     "metadata": {},
     "output_type": "execute_result"
    }
   ],
   "source": [
    "mlp.layers[0].neurons[0].w[0].grad"
   ]
  },
  {
   "cell_type": "code",
   "execution_count": null,
   "id": "2d4c0c37",
   "metadata": {},
   "outputs": [],
   "source": [
    "draw_graph(loss)"
   ]
  },
  {
   "cell_type": "code",
   "execution_count": 237,
   "id": "d38291cc",
   "metadata": {},
   "outputs": [],
   "source": [
    "# Update parameters as per gradients\n",
    "step_size = 0.1\n",
    "for p in mlp.parameters():\n",
    "    p.data = p.data - step_size*p.grad"
   ]
  },
  {
   "cell_type": "code",
   "execution_count": 238,
   "id": "fc7c0e72",
   "metadata": {},
   "outputs": [
    {
     "name": "stdout",
     "output_type": "stream",
     "text": [
      "Total loss:  Value(data=0.007567977670526687, label=)\n"
     ]
    }
   ],
   "source": [
    "ypred = [mlp(x) for x in xs]    # Forward pass again\n",
    "loss = sum((yout-ygt)**2 for ygt, yout in zip(ys, ypred))\n",
    "print(\"Total loss: \", loss)\n",
    "# You can see that the loss has reduced"
   ]
  },
  {
   "cell_type": "code",
   "execution_count": 236,
   "id": "05d63129",
   "metadata": {},
   "outputs": [],
   "source": [
    "loss.backward()\n"
   ]
  },
  {
   "cell_type": "code",
   "execution_count": 239,
   "id": "abdcfeac",
   "metadata": {},
   "outputs": [
    {
     "data": {
      "text/plain": [
       "[Value(data=0.9689819447010576, label=),\n",
       " Value(data=-0.9867424938835844, label=),\n",
       " Value(data=-0.9243885712518098, label=),\n",
       " Value(data=0.9732977849190558, label=)]"
      ]
     },
     "execution_count": 239,
     "metadata": {},
     "output_type": "execute_result"
    }
   ],
   "source": [
    "ypred\n",
    "\n",
    "# You can see that the prediction values are very close the ygt"
   ]
  },
  {
   "cell_type": "code",
   "execution_count": 246,
   "id": "4c2834f7",
   "metadata": {},
   "outputs": [
    {
     "name": "stdout",
     "output_type": "stream",
     "text": [
      "0 5.170397197808121\n",
      "10 0.7972030950406601\n",
      "20 0.08820565050896358\n",
      "30 0.043249671270311714\n",
      "40 0.028083690048198464\n",
      "50 0.020627704446065175\n",
      "60 0.016233494537739902\n",
      "70 0.01335010927093641\n",
      "80 0.011318530765773056\n",
      "90 0.00981274789194498\n"
     ]
    }
   ],
   "source": [
    "# Entire Trainin loop\n",
    "# Get the data\n",
    "xs = [\n",
    "    [2,3,-1],\n",
    "    [3,-1,0.5],\n",
    "    [0.5,1,1],\n",
    "    [1,1,-1]\n",
    "]\n",
    "ys = [1,-1,-1,1]\n",
    "\n",
    "# Define the model\n",
    "mlp = MLP(3,[4,4,1])\n",
    "\n",
    "step_size = 0.05\n",
    "for k in range(100):\n",
    "    # forward pass\n",
    "    ypred = [mlp(x) for x in xs]    # Forward pass again\n",
    "    loss = sum((yout-ygt)**2 for ygt, yout in zip(ys, ypred))\n",
    "\n",
    "    # Flush the gradients. Set gradients to zero\n",
    "    # Similar to pytorch zero_grad\n",
    "    for p in mlp.parameters():\n",
    "        p.grad = 0\n",
    "\n",
    "    # Backward pass\n",
    "    loss.backward()\n",
    "\n",
    "    #Update\n",
    "    for p in mlp.parameters():\n",
    "        p.data = p.data - step_size*p.grad\n",
    "\n",
    "    if k%10==0:\n",
    "        print(k, loss.data)\n",
    "    "
   ]
  },
  {
   "cell_type": "code",
   "execution_count": 247,
   "id": "48099eff",
   "metadata": {},
   "outputs": [
    {
     "data": {
      "text/plain": [
       "[Value(data=0.9467523704629046, label=),\n",
       " Value(data=-0.9469226494893991, label=),\n",
       " Value(data=-0.9694594280279316, label=),\n",
       " Value(data=0.953394530686906, label=)]"
      ]
     },
     "execution_count": 247,
     "metadata": {},
     "output_type": "execute_result"
    }
   ],
   "source": [
    "ypred"
   ]
  }
 ],
 "metadata": {
  "kernelspec": {
   "display_name": "Python 3.8.13 ('base')",
   "language": "python",
   "name": "python3"
  },
  "language_info": {
   "codemirror_mode": {
    "name": "ipython",
    "version": 3
   },
   "file_extension": ".py",
   "mimetype": "text/x-python",
   "name": "python",
   "nbconvert_exporter": "python",
   "pygments_lexer": "ipython3",
   "version": "3.8.13"
  },
  "vscode": {
   "interpreter": {
    "hash": "4a6019118f1d77b1ce8abb069b846b7cf20095258d7169bf4bdb74e293240c2f"
   }
  }
 },
 "nbformat": 4,
 "nbformat_minor": 5
}
