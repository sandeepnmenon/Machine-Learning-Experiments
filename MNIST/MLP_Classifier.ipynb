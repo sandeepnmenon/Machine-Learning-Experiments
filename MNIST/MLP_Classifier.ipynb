{
 "cells": [
  {
   "cell_type": "code",
   "execution_count": 1,
   "metadata": {
    "collapsed": true
   },
   "outputs": [],
   "source": [
    "#Keras Model"
   ]
  },
  {
   "cell_type": "code",
   "execution_count": 1,
   "metadata": {},
   "outputs": [
    {
     "name": "stderr",
     "output_type": "stream",
     "text": [
      "Using TensorFlow backend.\n"
     ]
    }
   ],
   "source": [
    "from keras.datasets import mnist\n",
    "from keras.models import load_model,Model\n",
    "from keras.layers import Dense,Input,Activation\n",
    "from keras.utils import plot_model\n",
    "from keras.utils.np_utils import to_categorical\n",
    "from keras.callbacks import TensorBoard,ModelCheckpoint\n",
    "\n"
   ]
  },
  {
   "cell_type": "code",
   "execution_count": 2,
   "metadata": {
    "collapsed": true
   },
   "outputs": [],
   "source": [
    "#Loading the data\n",
    "(x_train, y_train), (x_test, y_test) = mnist.load_data()\n",
    "NUM_CLASSES = 10\n",
    "NUM_TUPLES = x_train.shape[0]"
   ]
  },
  {
   "cell_type": "code",
   "execution_count": 3,
   "metadata": {},
   "outputs": [],
   "source": [
    "#Preprocessing Steps\n",
    "\n",
    "#Reshaping images into single dimension arrays\n",
    "x_train = x_train.reshape(x_train.shape[0], 784).astype('float32')\n",
    "x_test = x_test.reshape(x_test.shape[0], 784).astype('float32')\n",
    "\n",
    "#Normalising the data\n",
    "x_train /= 255.\n",
    "x_test /= 255.\n",
    "\n",
    "#Converting labels to categorical datastructure\n",
    "y_train = to_categorical(y_train,NUM_CLASSES)\n",
    "y_test = to_categorical(y_test,NUM_CLASSES)\n",
    "\n",
    "#Splitting training set into validation set\n",
    "train_size = int(NUM_TUPLES*0.8)\n",
    "x_validation = x_train[train_size:]\n",
    "y_validation = y_train[train_size:]\n",
    "x_train = x_train[0:train_size]\n",
    "y_train = y_train[0:train_size]"
   ]
  },
  {
   "cell_type": "code",
   "execution_count": 6,
   "metadata": {},
   "outputs": [
    {
     "data": {
      "text/plain": [
       "(12000, 784)"
      ]
     },
     "execution_count": 6,
     "metadata": {},
     "output_type": "execute_result"
    }
   ],
   "source": [
    "x_validation.shape"
   ]
  },
  {
   "cell_type": "code",
   "execution_count": 24,
   "metadata": {
    "collapsed": true
   },
   "outputs": [],
   "source": [
    "def MNN_Classifier():\n",
    "    \n",
    "    input_layer = Input(shape=(784,))\n",
    "    \n",
    "    il = Dense(128,activation='relu')(input_layer)\n",
    "    hl1 = Dense(64,activation='relu')(il)\n",
    "\n",
    "    \n",
    "    ol = Dense(10,activation='softmax')(hl1)\n",
    "    \n",
    "    classifier = Model(inputs=input_layer,outputs=ol)\n",
    "    \n",
    "    classifier.compile(optimizer='adam',loss='categorical_crossentropy',metrics = ['accuracy'])\n",
    "    \n",
    "    return classifier\n",
    "    "
   ]
  },
  {
   "cell_type": "code",
   "execution_count": 25,
   "metadata": {},
   "outputs": [
    {
     "name": "stdout",
     "output_type": "stream",
     "text": [
      "_________________________________________________________________\n",
      "Layer (type)                 Output Shape              Param #   \n",
      "=================================================================\n",
      "input_5 (InputLayer)         (None, 784)               0         \n",
      "_________________________________________________________________\n",
      "dense_15 (Dense)             (None, 128)               100480    \n",
      "_________________________________________________________________\n",
      "dense_16 (Dense)             (None, 64)                8256      \n",
      "_________________________________________________________________\n",
      "dense_17 (Dense)             (None, 10)                650       \n",
      "=================================================================\n",
      "Total params: 109,386\n",
      "Trainable params: 109,386\n",
      "Non-trainable params: 0\n",
      "_________________________________________________________________\n"
     ]
    }
   ],
   "source": [
    "mnist_classifier = MNN_Classifier()\n",
    "mnist_classifier.summary()"
   ]
  },
  {
   "cell_type": "code",
   "execution_count": 26,
   "metadata": {
    "scrolled": true
   },
   "outputs": [
    {
     "name": "stdout",
     "output_type": "stream",
     "text": [
      "Train on 48000 samples, validate on 12000 samples\n",
      "Epoch 1/10\n",
      "48000/48000 [==============================] - 7s 138us/step - loss: 0.2779 - acc: 0.9191 - val_loss: 0.1535 - val_acc: 0.9526\n",
      "Epoch 2/10\n",
      "48000/48000 [==============================] - 7s 141us/step - loss: 0.1156 - acc: 0.9648 - val_loss: 0.1069 - val_acc: 0.9681\n",
      "Epoch 3/10\n",
      "48000/48000 [==============================] - 6s 127us/step - loss: 0.0790 - acc: 0.9748 - val_loss: 0.1044 - val_acc: 0.9667\n",
      "Epoch 4/10\n",
      "48000/48000 [==============================] - 6s 130us/step - loss: 0.0583 - acc: 0.9818 - val_loss: 0.0884 - val_acc: 0.9746\n",
      "Epoch 5/10\n",
      "48000/48000 [==============================] - 7s 136us/step - loss: 0.0469 - acc: 0.9847 - val_loss: 0.1054 - val_acc: 0.9698\n",
      "Epoch 6/10\n",
      "48000/48000 [==============================] - 6s 133us/step - loss: 0.0365 - acc: 0.9883 - val_loss: 0.1091 - val_acc: 0.9698\n",
      "Epoch 7/10\n",
      "48000/48000 [==============================] - 7s 149us/step - loss: 0.0319 - acc: 0.9896 - val_loss: 0.1034 - val_acc: 0.9711\n",
      "Epoch 8/10\n",
      "48000/48000 [==============================] - 7s 148us/step - loss: 0.0283 - acc: 0.9907 - val_loss: 0.1174 - val_acc: 0.9688\n",
      "Epoch 9/10\n",
      "48000/48000 [==============================] - 7s 149us/step - loss: 0.0209 - acc: 0.9929 - val_loss: 0.1132 - val_acc: 0.9747\n",
      "Epoch 10/10\n",
      "48000/48000 [==============================] - 7s 155us/step - loss: 0.0186 - acc: 0.9937 - val_loss: 0.1137 - val_acc: 0.9746\n"
     ]
    }
   ],
   "source": [
    "train_history = mnist_classifier.fit(x_train,y_train,batch_size=32,epochs = 10,verbose=True,shuffle=True,\n",
    "                                     validation_data = (x_validation,y_validation))"
   ]
  },
  {
   "cell_type": "code",
   "execution_count": 27,
   "metadata": {},
   "outputs": [
    {
     "name": "stdout",
     "output_type": "stream",
     "text": [
      "10000/10000 [==============================] - 0s 49us/step\n"
     ]
    }
   ],
   "source": [
    "test_losses = mnist_classifier.evaluate(x_test,y_test,batch_size=32,verbose=True)"
   ]
  },
  {
   "cell_type": "code",
   "execution_count": 28,
   "metadata": {},
   "outputs": [
    {
     "data": {
      "text/plain": [
       "[0.098194243281825772, 0.97650000000000003]"
      ]
     },
     "execution_count": 28,
     "metadata": {},
     "output_type": "execute_result"
    }
   ],
   "source": [
    "test_losses"
   ]
  },
  {
   "cell_type": "code",
   "execution_count": null,
   "metadata": {
    "collapsed": true
   },
   "outputs": [],
   "source": []
  }
 ],
 "metadata": {
  "kernelspec": {
   "display_name": "Python 2",
   "language": "python",
   "name": "python2"
  },
  "language_info": {
   "codemirror_mode": {
    "name": "ipython",
    "version": 2
   },
   "file_extension": ".py",
   "mimetype": "text/x-python",
   "name": "python",
   "nbconvert_exporter": "python",
   "pygments_lexer": "ipython2",
   "version": "2.7.11"
  }
 },
 "nbformat": 4,
 "nbformat_minor": 2
}
