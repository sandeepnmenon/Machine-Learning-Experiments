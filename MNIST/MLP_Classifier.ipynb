{
 "cells": [
  {
   "cell_type": "code",
   "execution_count": 1,
   "metadata": {
    "collapsed": true
   },
   "outputs": [],
   "source": [
    "#Keras Model"
   ]
  },
  {
   "cell_type": "code",
   "execution_count": 11,
   "metadata": {},
   "outputs": [],
   "source": [
    "from keras.datasets import mnist\n",
    "from keras.models import load_model,Model\n",
    "from keras.layers import Dense,Input,Activation\n",
    "from keras.utils import plot_model\n",
    "from keras.utils.np_utils import to_categorical\n",
    "from keras.callbacks import TensorBoard,ModelCheckpoint\n",
    "\n",
    "import matplotlib.pyplot as plt"
   ]
  },
  {
   "cell_type": "code",
   "execution_count": 2,
   "metadata": {
    "collapsed": true
   },
   "outputs": [],
   "source": [
    "#Loading the data\n",
    "(x_train, y_train), (x_test, y_test) = mnist.load_data()\n",
    "NUM_CLASSES = 10\n",
    "NUM_TUPLES = x_train.shape[0]"
   ]
  },
  {
   "cell_type": "code",
   "execution_count": 3,
   "metadata": {
    "collapsed": true
   },
   "outputs": [],
   "source": [
    "#Preprocessing Steps\n",
    "\n",
    "#Reshaping images into single dimension arrays\n",
    "x_train = x_train.reshape(x_train.shape[0], 784).astype('float32')\n",
    "x_test = x_test.reshape(x_test.shape[0], 784).astype('float32')\n",
    "\n",
    "#Normalising the data\n",
    "x_train /= 255.\n",
    "x_test /= 255.\n",
    "\n",
    "#Converting labels to categorical datastructure\n",
    "y_train = to_categorical(y_train,NUM_CLASSES)\n",
    "y_test = to_categorical(y_test,NUM_CLASSES)\n",
    "\n",
    "#Splitting training set into validation set\n",
    "train_size = int(NUM_TUPLES*0.8)\n",
    "x_validation = x_train[train_size:]\n",
    "y_validation = y_train[train_size:]\n",
    "x_train = x_train[0:train_size]\n",
    "y_train = y_train[0:train_size]"
   ]
  },
  {
   "cell_type": "code",
   "execution_count": 4,
   "metadata": {},
   "outputs": [
    {
     "data": {
      "text/plain": [
       "(12000, 784)"
      ]
     },
     "execution_count": 4,
     "metadata": {},
     "output_type": "execute_result"
    }
   ],
   "source": [
    "x_validation.shape"
   ]
  },
  {
   "cell_type": "code",
   "execution_count": 14,
   "metadata": {
    "collapsed": true
   },
   "outputs": [],
   "source": [
    "def MNN_Classifier(no_of_hidden_layer_neurons,optimizer,activation):\n",
    "    \n",
    "    input_layer = Input(shape=(784,))\n",
    "    \n",
    "    il = Dense(no_of_hidden_layer_neurons,activation=activation)(input_layer)\n",
    "    #hl1 = Dense(64,activation='relu')(il)\n",
    "\n",
    "    \n",
    "    ol = Dense(10,activation='softmax')(il)\n",
    "    \n",
    "    classifier = Model(inputs=input_layer,outputs=ol)\n",
    "    \n",
    "    classifier.compile(optimizer = optimizer,loss='categorical_crossentropy', metrics = ['accuracy'])\n",
    "    \n",
    "    return classifier\n",
    "    "
   ]
  },
  {
   "cell_type": "code",
   "execution_count": 17,
   "metadata": {},
   "outputs": [
    {
     "name": "stdout",
     "output_type": "stream",
     "text": [
      "_________________________________________________________________\n",
      "Layer (type)                 Output Shape              Param #   \n",
      "=================================================================\n",
      "input_4 (InputLayer)         (None, 784)               0         \n",
      "_________________________________________________________________\n",
      "dense_7 (Dense)              (None, 784)               615440    \n",
      "_________________________________________________________________\n",
      "dense_8 (Dense)              (None, 10)                7850      \n",
      "=================================================================\n",
      "Total params: 623,290\n",
      "Trainable params: 623,290\n",
      "Non-trainable params: 0\n",
      "_________________________________________________________________\n"
     ]
    }
   ],
   "source": [
    "mnist_classifier = MNN_Classifier(784,'adam','relu')\n",
    "mnist_classifier.summary()"
   ]
  },
  {
   "cell_type": "code",
   "execution_count": 7,
   "metadata": {
    "scrolled": true
   },
   "outputs": [
    {
     "name": "stdout",
     "output_type": "stream",
     "text": [
      "Train on 48000 samples, validate on 12000 samples\n",
      "Epoch 1/10\n",
      "48000/48000 [==============================] - 32s 667us/step - loss: 0.2106 - acc: 0.9372 - val_loss: 0.1110 - val_acc: 0.9657\n",
      "Epoch 2/10\n",
      "48000/48000 [==============================] - 33s 695us/step - loss: 0.0844 - acc: 0.9742 - val_loss: 0.0939 - val_acc: 0.9713\n",
      "Epoch 3/10\n",
      "48000/48000 [==============================] - 35s 725us/step - loss: 0.0544 - acc: 0.9831 - val_loss: 0.0843 - val_acc: 0.9750\n",
      "Epoch 4/10\n",
      "48000/48000 [==============================] - 31s 644us/step - loss: 0.0375 - acc: 0.9873 - val_loss: 0.0757 - val_acc: 0.9768\n",
      "Epoch 5/10\n",
      "48000/48000 [==============================] - 30s 629us/step - loss: 0.0272 - acc: 0.9911 - val_loss: 0.0872 - val_acc: 0.9782\n",
      "Epoch 6/10\n",
      "48000/48000 [==============================] - 34s 704us/step - loss: 0.0218 - acc: 0.9929 - val_loss: 0.0789 - val_acc: 0.9795\n",
      "Epoch 7/10\n",
      "48000/48000 [==============================] - 36s 750us/step - loss: 0.0169 - acc: 0.9943 - val_loss: 0.0832 - val_acc: 0.9779\n",
      "Epoch 8/10\n",
      "48000/48000 [==============================] - 35s 723us/step - loss: 0.0155 - acc: 0.9947 - val_loss: 0.0853 - val_acc: 0.9791\n",
      "Epoch 9/10\n",
      "48000/48000 [==============================] - 37s 769us/step - loss: 0.0105 - acc: 0.9963 - val_loss: 0.0891 - val_acc: 0.9795\n",
      "Epoch 10/10\n",
      "48000/48000 [==============================] - 30s 635us/step - loss: 0.0127 - acc: 0.9957 - val_loss: 0.1035 - val_acc: 0.9777\n"
     ]
    }
   ],
   "source": [
    "train_history = mnist_classifier.fit(x_train,y_train,batch_size=32,epochs = 10,verbose=True,shuffle=True,\n",
    "                                     validation_data = (x_validation,y_validation))"
   ]
  },
  {
   "cell_type": "code",
   "execution_count": 8,
   "metadata": {},
   "outputs": [
    {
     "name": "stdout",
     "output_type": "stream",
     "text": [
      "10000/10000 [==============================] - 1s 105us/step\n"
     ]
    }
   ],
   "source": [
    "test_losses = mnist_classifier.evaluate(x_test,y_test,batch_size=32,verbose=True)"
   ]
  },
  {
   "cell_type": "code",
   "execution_count": 10,
   "metadata": {},
   "outputs": [
    {
     "name": "stdout",
     "output_type": "stream",
     "text": [
      "Testing Accuracy : 97.96\n"
     ]
    }
   ],
   "source": [
    "print \"Testing Accuracy : \" + str(test_losses[1]*100)"
   ]
  },
  {
   "cell_type": "code",
   "execution_count": 12,
   "metadata": {},
   "outputs": [
    {
     "data": {
      "image/png": "[encoded data removed]",
      "text/plain": [
       "<matplotlib.figure.Figure at 0x7f48d2254310>"
      ]
     },
     "metadata": {},
     "output_type": "display_data"
    },
    {
     "data": {
      "image/png": "[encoded data removed]",
      "text/plain": [
       "<matplotlib.figure.Figure at 0x7f48d2270f90>"
      ]
     },
     "metadata": {},
     "output_type": "display_data"
    }
   ],
   "source": [
    "#Plotting Results\n",
    "#Accuracy vs Epochs\n",
    "plt.plot(train_history.history['acc'])\n",
    "plt.plot(train_history.history['val_acc'])\n",
    "plt.title('model accuracy')\n",
    "plt.ylabel('accuracy')\n",
    "plt.xlabel('epoch')\n",
    "plt.legend(['train', 'validation'], loc='upper left')\n",
    "plt.show()\n",
    "\n",
    "#Loss vs Epochs\n",
    "plt.plot(train_history.history['loss'])\n",
    "plt.plot(train_history.history['val_loss'])\n",
    "plt.title('model loss')\n",
    "plt.ylabel('loss')\n",
    "plt.xlabel('epoch')\n",
    "plt.legend(['train', 'validation'], loc='upper left')\n",
    "plt.show()"
   ]
  },
  {
   "cell_type": "code",
   "execution_count": 18,
   "metadata": {
    "scrolled": true
   },
   "outputs": [
    {
     "name": "stdout",
     "output_type": "stream",
     "text": [
      "Train on 48000 samples, validate on 12000 samples\n",
      "Epoch 1/10\n",
      "48000/48000 [==============================] - 28s 585us/step - loss: 0.2126 - acc: 0.9364 - val_loss: 0.1154 - val_acc: 0.9645\n",
      "Epoch 2/10\n",
      "48000/48000 [==============================] - 28s 584us/step - loss: 0.0845 - acc: 0.9743 - val_loss: 0.0912 - val_acc: 0.9719\n",
      "Epoch 3/10\n",
      "48000/48000 [==============================] - 32s 658us/step - loss: 0.0544 - acc: 0.9825 - val_loss: 0.0805 - val_acc: 0.9770\n",
      "Epoch 4/10\n",
      "48000/48000 [==============================] - 29s 598us/step - loss: 0.0377 - acc: 0.9877 - val_loss: 0.0878 - val_acc: 0.9738\n",
      "Epoch 5/10\n",
      "48000/48000 [==============================] - 32s 661us/step - loss: 0.0268 - acc: 0.9907 - val_loss: 0.0973 - val_acc: 0.9742\n",
      "Epoch 6/10\n",
      "48000/48000 [==============================] - 29s 606us/step - loss: 0.0214 - acc: 0.9927 - val_loss: 0.0803 - val_acc: 0.9788\n",
      "Epoch 7/10\n",
      "48000/48000 [==============================] - 29s 613us/step - loss: 0.0159 - acc: 0.9949 - val_loss: 0.1087 - val_acc: 0.9741\n",
      "Epoch 8/10\n",
      "48000/48000 [==============================] - 32s 670us/step - loss: 0.0151 - acc: 0.9952 - val_loss: 0.0916 - val_acc: 0.9783\n",
      "Epoch 9/10\n",
      "48000/48000 [==============================] - 31s 653us/step - loss: 0.0116 - acc: 0.9962 - val_loss: 0.0972 - val_acc: 0.9772\n",
      "Epoch 10/10\n",
      "48000/48000 [==============================] - 34s 710us/step - loss: 0.0133 - acc: 0.9955 - val_loss: 0.1077 - val_acc: 0.9774\n"
     ]
    }
   ],
   "source": [
    "mnist_classifier1 = MNN_Classifier(256,'adam','relu')\n",
    "train_history1 = mnist_classifier.fit(x_train,y_train,batch_size=32,epochs = 10,verbose=True,shuffle=True,\n",
    "                                     validation_data = (x_validation,y_validation))"
   ]
  },
  {
   "cell_type": "code",
   "execution_count": 19,
   "metadata": {},
   "outputs": [
    {
     "name": "stdout",
     "output_type": "stream",
     "text": [
      "Train on 48000 samples, validate on 12000 samples\n",
      "Epoch 1/10\n",
      "48000/48000 [==============================] - 37s 771us/step - loss: 0.0109 - acc: 0.9960 - val_loss: 0.0966 - val_acc: 0.9788\n",
      "Epoch 2/10\n",
      "48000/48000 [==============================] - 37s 764us/step - loss: 0.0100 - acc: 0.9970 - val_loss: 0.1126 - val_acc: 0.9763\n",
      "Epoch 3/10\n",
      "48000/48000 [==============================] - 36s 747us/step - loss: 0.0080 - acc: 0.9974 - val_loss: 0.1003 - val_acc: 0.9778\n",
      "Epoch 4/10\n",
      "48000/48000 [==============================] - 28s 583us/step - loss: 0.0092 - acc: 0.9965 - val_loss: 0.1315 - val_acc: 0.9753\n",
      "Epoch 5/10\n",
      "48000/48000 [==============================] - 28s 582us/step - loss: 0.0082 - acc: 0.9971 - val_loss: 0.0998 - val_acc: 0.9807\n",
      "Epoch 6/10\n",
      "48000/48000 [==============================] - 28s 586us/step - loss: 0.0068 - acc: 0.9977 - val_loss: 0.1203 - val_acc: 0.9788\n",
      "Epoch 7/10\n",
      "48000/48000 [==============================] - 28s 580us/step - loss: 0.0066 - acc: 0.9976 - val_loss: 0.1156 - val_acc: 0.9792\n",
      "Epoch 8/10\n",
      "48000/48000 [==============================] - 30s 634us/step - loss: 0.0080 - acc: 0.9975 - val_loss: 0.1290 - val_acc: 0.9782\n",
      "Epoch 9/10\n",
      "48000/48000 [==============================] - 30s 631us/step - loss: 0.0077 - acc: 0.9978 - val_loss: 0.1151 - val_acc: 0.9798\n",
      "Epoch 10/10\n",
      "48000/48000 [==============================] - 29s 600us/step - loss: 0.0061 - acc: 0.9980 - val_loss: 0.1307 - val_acc: 0.9778\n"
     ]
    }
   ],
   "source": [
    "mnist_classifier2 = MNN_Classifier(128,'adam','relu')\n",
    "train_history2 = mnist_classifier.fit(x_train,y_train,batch_size=32,epochs = 10,verbose=True,shuffle=True,\n",
    "                                     validation_data = (x_validation,y_validation))"
   ]
  },
  {
   "cell_type": "code",
   "execution_count": 20,
   "metadata": {},
   "outputs": [
    {
     "name": "stdout",
     "output_type": "stream",
     "text": [
      "Train on 48000 samples, validate on 12000 samples\n",
      "Epoch 1/10\n",
      "48000/48000 [==============================] - 31s 637us/step - loss: 0.0060 - acc: 0.9984 - val_loss: 0.1517 - val_acc: 0.9757\n",
      "Epoch 2/10\n",
      "48000/48000 [==============================] - 40s 826us/step - loss: 0.0060 - acc: 0.9980 - val_loss: 0.1353 - val_acc: 0.9765\n",
      "Epoch 3/10\n",
      "48000/48000 [==============================] - 41s 854us/step - loss: 0.0066 - acc: 0.9983 - val_loss: 0.1128 - val_acc: 0.9807\n",
      "Epoch 4/10\n",
      "48000/48000 [==============================] - 41s 852us/step - loss: 0.0073 - acc: 0.9979 - val_loss: 0.1679 - val_acc: 0.9746\n",
      "Epoch 5/10\n",
      "48000/48000 [==============================] - 41s 864us/step - loss: 0.0089 - acc: 0.9976 - val_loss: 0.1285 - val_acc: 0.9789\n",
      "Epoch 6/10\n",
      "48000/48000 [==============================] - 41s 851us/step - loss: 0.0057 - acc: 0.9982 - val_loss: 0.1284 - val_acc: 0.9800\n",
      "Epoch 7/10\n",
      "48000/48000 [==============================] - 43s 886us/step - loss: 0.0045 - acc: 0.9986 - val_loss: 0.1481 - val_acc: 0.9778\n",
      "Epoch 8/10\n",
      "48000/48000 [==============================] - 43s 886us/step - loss: 0.0035 - acc: 0.9991 - val_loss: 0.1181 - val_acc: 0.9823\n",
      "Epoch 9/10\n",
      "48000/48000 [==============================] - 44s 923us/step - loss: 0.0079 - acc: 0.9979 - val_loss: 0.1400 - val_acc: 0.9795\n",
      "Epoch 10/10\n",
      "48000/48000 [==============================] - 44s 913us/step - loss: 0.0041 - acc: 0.9988 - val_loss: 0.1344 - val_acc: 0.9807\n"
     ]
    }
   ],
   "source": [
    "mnist_classifier3 = MNN_Classifier(64,'adam','relu')\n",
    "train_history3 = mnist_classifier.fit(x_train,y_train,batch_size=32,epochs = 10,verbose=True,shuffle=True,\n",
    "                                     validation_data = (x_validation,y_validation))"
   ]
  },
  {
   "cell_type": "code",
   "execution_count": null,
   "metadata": {
    "collapsed": true
   },
   "outputs": [],
   "source": [
    "#Accuracy comparison for different number of hidden layer neurons\n",
    "plt.plot(train_history.history['val_acc'])\n",
    "plt.plot(train_history1.history['val_acc'])\n",
    "plt.plot(train_history2.history['val_acc'])\n",
    "plt.plot(train_history3.history['val_acc'])\n",
    "\n",
    "plt.title('Accuracy comparison for different number of hidden layer neurons')\n",
    "plt.ylabel('accuracy')\n",
    "plt.xlabel('epoch')\n",
    "plt.legend(['784', '256','128','64'], loc='upper left')\n",
    "plt.show()\n"
   ]
  }
 ],
 "metadata": {
  "kernelspec": {
   "display_name": "Python 2",
   "language": "python",
   "name": "python2"
  },
  "language_info": {
   "codemirror_mode": {
    "name": "ipython",
    "version": 2
   },
   "file_extension": ".py",
   "mimetype": "text/x-python",
   "name": "python",
   "nbconvert_exporter": "python",
   "pygments_lexer": "ipython2",
   "version": "2.7.11"
  }
 },
 "nbformat": 4,
 "nbformat_minor": 2
}
