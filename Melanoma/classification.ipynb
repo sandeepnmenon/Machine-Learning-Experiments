{
 "cells": [
  {
   "cell_type": "code",
   "execution_count": 8,
   "metadata": {},
   "outputs": [],
   "source": [
    "import cv2\n",
    "import numpy as np\n",
    "import os\n",
    "from IPython.display import clear_output\n",
    "from sklearn.metrics import confusion_matrix, f1_score, precision_score, recall_score\n",
    "import matplotlib.pyplot as plt "
   ]
  },
  {
   "cell_type": "code",
   "execution_count": 9,
   "metadata": {},
   "outputs": [],
   "source": [
    "def load_images_from_folder(folder,count=None,size=None):\n",
    "    images = []\n",
    "    i = 0\n",
    "    for filename in os.listdir(folder):\n",
    "        img = cv2.imread(os.path.join(folder,filename))\n",
    "        if img is not None:\n",
    "            i += 1\n",
    "            if i%50 == 0:\n",
    "                clear_output()\n",
    "                print (i)\n",
    "            if count is not None:\n",
    "                if count == 0:\n",
    "                       break\n",
    "                else:\n",
    "                    count -= 1\n",
    "            \n",
    "            if size is not None:\n",
    "                img = cv2.resize(img,size,interpolation = cv2.INTER_CUBIC)\n",
    "            images.append((filename,img))\n",
    "\n",
    "    return images"
   ]
  },
  {
   "cell_type": "code",
   "execution_count": 4,
   "metadata": {},
   "outputs": [
    {
     "name": "stdout",
     "output_type": "stream",
     "text": [
      "350\n"
     ]
    }
   ],
   "source": [
    "melanoma = load_images_from_folder('./data/melanoma',None,(256,128))"
   ]
  },
  {
   "cell_type": "code",
   "execution_count": 5,
   "metadata": {},
   "outputs": [
    {
     "name": "stdout",
     "output_type": "stream",
     "text": [
      "1600\n"
     ]
    }
   ],
   "source": [
    "others = load_images_from_folder('./data/others',None,(256,128))"
   ]
  },
  {
   "cell_type": "code",
   "execution_count": 3,
   "metadata": {},
   "outputs": [],
   "source": [
    "def make_melanoma_classification_dataset(data,gt_path):\n",
    "    classification_dataset = []\n",
    "    \n",
    "    for filename in os.listdir(gt_path):\n",
    "        for data_list in data:\n",
    "            entry = [row[1] for row in data_list if row[0][:-4] in filename[:-4]]\n",
    "            if entry:\n",
    "                gt_img = cv2.imread(os.path.join(gt_path,filename),0)\n",
    "                gt_img = cv2.resize(gt_img,(entry[0].shape[1],entry[0].shape[0]),interpolation = cv2.INTER_CUBIC)\n",
    "                #gt_img = gt_img.reshape((gt_img.shape[0],gt_img.shape[1],1))\n",
    "                \n",
    "                mask = gt_img < 150\n",
    "                train_img = entry[0]\n",
    "                train_img[mask] = 0\n",
    "                \n",
    "                label = int(len(data_list) < 500)\n",
    "                classification_dataset.append((train_img,label))\n",
    "                \n",
    "                    \n",
    "\n",
    "    return classification_dataset\n",
    "        \n",
    "        "
   ]
  },
  {
   "cell_type": "code",
   "execution_count": 7,
   "metadata": {},
   "outputs": [],
   "source": [
    "dataset = make_melanoma_classification_dataset([melanoma,others],'./data/gt/')"
   ]
  },
  {
   "cell_type": "code",
   "execution_count": 8,
   "metadata": {},
   "outputs": [],
   "source": [
    "#Splitting for training and testing\n",
    "train_size = int(len(dataset)*0.8)\n",
    "\n",
    "x_train = np.array([row[0]/255. for row in dataset[0:train_size]])\n",
    "y_train = np.array([row[1] for row in dataset[0:train_size]])\n",
    "\n",
    "x_test = np.array([row[0]/255. for row in dataset[train_size:]])\n",
    "y_test = np.array([row[1] for row in dataset[train_size:]])"
   ]
  },
  {
   "cell_type": "code",
   "execution_count": null,
   "metadata": {},
   "outputs": [],
   "source": [
    "\"\"\"\n",
    "np.save('x_train',x_train)\n",
    "np.save('y_train',y_train)\n",
    "np.save('x_test',x_test)\n",
    "np.save('y_test',y_test)\n",
    "\"\"\"\n",
    "\n",
    "x_train = np.load('x_train.npy')\n",
    "x_test = np.load('x_test.npy')\n",
    "y_train = np.load('y_train.npy')\n",
    "y_test = np.load('y_test.npy')\n"
   ]
  },
  {
   "cell_type": "code",
   "execution_count": 6,
   "metadata": {},
   "outputs": [
    {
     "data": {
      "text/plain": [
       "True"
      ]
     },
     "execution_count": 6,
     "metadata": {},
     "output_type": "execute_result"
    }
   ],
   "source": [
    "cv2.imwrite('test.png',x_test[320]*255.)"
   ]
  },
  {
   "cell_type": "code",
   "execution_count": 4,
   "metadata": {},
   "outputs": [
    {
     "data": {
      "text/plain": [
       "(1600, 128, 256, 3)"
      ]
     },
     "execution_count": 4,
     "metadata": {},
     "output_type": "execute_result"
    }
   ],
   "source": [
    "x_train.shape"
   ]
  },
  {
   "cell_type": "code",
   "execution_count": null,
   "metadata": {},
   "outputs": [],
   "source": [
    "from keras.layers import *\n",
    "from keras.models import Model,load_model\n",
    "from keras.callbacks import ModelCheckpoint,TensorBoard\n",
    "from keras.optimizers import Adam\n",
    "from keras.losses import binary_crossentropy\n",
    "from keras.utils import plot_model\n",
    "from sklearn.utils import class_weight\n",
    "from keras.applications import vgg16\n",
    "\n",
    "import tensorflow as tf\n",
    "import keras.backend as K"
   ]
  },
  {
   "cell_type": "code",
   "execution_count": null,
   "metadata": {},
   "outputs": [],
   "source": [
    "def get_model_memory_usage(batch_size, model):\n",
    "    from keras import backend as K\n",
    "\n",
    "    shapes_mem_count = 0\n",
    "    for l in model.layers:\n",
    "        single_layer_mem = 1\n",
    "        for s in l.output_shape:\n",
    "            if s is None:\n",
    "                continue\n",
    "            single_layer_mem *= s\n",
    "        shapes_mem_count += single_layer_mem\n",
    "\n",
    "    trainable_count = int(np.sum([K.count_params(p) for p in set(model.trainable_weights)]))\n",
    "    non_trainable_count = int(np.sum([K.count_params(p) for p in set(model.non_trainable_weights)]))\n",
    "\n",
    "    total_memory = 4*batch_size*(shapes_mem_count + trainable_count + non_trainable_count)\n",
    "    gbytes = round(total_memory / (1024 ** 3), 3)\n",
    "    mbytes = round(total_memory / (1024 ** 2), 3)\n",
    "    \n",
    "    print('trainable_count', trainable_count, 'non_trainable_count', non_trainable_count, 'gbytes', gbytes, 'mbytes', mbytes)\n"
   ]
  },
  {
   "cell_type": "code",
   "execution_count": null,
   "metadata": {},
   "outputs": [],
   "source": [
    "def get_basic_conv_network(input_shape = (None,None,3),num_classes = 1):\n",
    "    inputs = Input(shape=input_shape)\n",
    "    \n",
    "    conv1 = Conv2D(32, (4, 4), padding='same', activation = 'tanh')(inputs)\n",
    "    pool1 = MaxPooling2D(pool_size = (3, 3))(conv1)\n",
    "    \n",
    "    conv2 = Conv2D(32, (4, 4), padding='same', activation = 'tanh')(pool1)\n",
    "    pool2 = MaxPooling2D(pool_size = (3, 3))(conv2)\n",
    "    \n",
    "    conv3 = Conv2D(64, (4, 4), padding='same', activation = 'tanh')(pool2)\n",
    "    pool3 = MaxPooling2D(pool_size = (3, 3))(conv3)\n",
    "    \n",
    "    flat_vector = Flatten()(pool3)\n",
    "    \n",
    "    dense1 = Dense(units = 256, activation = 'tanh')(flat_vector)\n",
    "    dropout1 = Dropout(0.5)(dense1)\n",
    "    \n",
    "    out = Dense(units = 1, activation = 'sigmoid')(dropout1)\n",
    "    \n",
    "    model = Model(inputs=inputs, outputs=out)\n",
    "    \n",
    "    return model"
   ]
  },
  {
   "cell_type": "code",
   "execution_count": 18,
   "metadata": {},
   "outputs": [
    {
     "name": "stdout",
     "output_type": "stream",
     "text": [
      "trainable_count 641153 non_trainable_count 0 gbytes 0.061 mbytes 62.844\n"
     ]
    }
   ],
   "source": [
    "model = get_basic_conv_network(input_shape=(128,256,3))\n",
    "model.compile(optimizer = 'adam',loss='binary_crossentropy',metrics = ['accuracy'])\n",
    "get_model_memory_usage(8, model)\n"
   ]
  },
  {
   "cell_type": "code",
   "execution_count": 19,
   "metadata": {},
   "outputs": [
    {
     "name": "stdout",
     "output_type": "stream",
     "text": [
      "_________________________________________________________________\n",
      "Layer (type)                 Output Shape              Param #   \n",
      "=================================================================\n",
      "input_2 (InputLayer)         (None, 128, 256, 3)       0         \n",
      "_________________________________________________________________\n",
      "conv2d_4 (Conv2D)            (None, 128, 256, 32)      1568      \n",
      "_________________________________________________________________\n",
      "max_pooling2d_4 (MaxPooling2 (None, 42, 85, 32)        0         \n",
      "_________________________________________________________________\n",
      "conv2d_5 (Conv2D)            (None, 42, 85, 32)        16416     \n",
      "_________________________________________________________________\n",
      "max_pooling2d_5 (MaxPooling2 (None, 14, 28, 32)        0         \n",
      "_________________________________________________________________\n",
      "conv2d_6 (Conv2D)            (None, 14, 28, 64)        32832     \n",
      "_________________________________________________________________\n",
      "max_pooling2d_6 (MaxPooling2 (None, 4, 9, 64)          0         \n",
      "_________________________________________________________________\n",
      "flatten_2 (Flatten)          (None, 2304)              0         \n",
      "_________________________________________________________________\n",
      "dense_3 (Dense)              (None, 256)               590080    \n",
      "_________________________________________________________________\n",
      "dropout_2 (Dropout)          (None, 256)               0         \n",
      "_________________________________________________________________\n",
      "dense_4 (Dense)              (None, 1)                 257       \n",
      "=================================================================\n",
      "Total params: 641,153\n",
      "Trainable params: 641,153\n",
      "Non-trainable params: 0\n",
      "_________________________________________________________________\n"
     ]
    }
   ],
   "source": [
    "model.summary()"
   ]
  },
  {
   "cell_type": "code",
   "execution_count": 20,
   "metadata": {},
   "outputs": [],
   "source": [
    "model_checkpoint = ModelCheckpoint('./basic_conv.hdf5',save_best_only=True)\n",
    "tb = TensorBoard(log_dir='./Graph/basic_conv/')"
   ]
  },
  {
   "cell_type": "code",
   "execution_count": 30,
   "metadata": {
    "scrolled": true
   },
   "outputs": [
    {
     "name": "stdout",
     "output_type": "stream",
     "text": [
      "Train on 1600 samples, validate on 400 samples\n",
      "Epoch 1/10\n",
      "1600/1600 [==============================] - 17s 10ms/step - loss: 0.1324 - acc: 0.9506 - val_loss: 1.0595 - val_acc: 0.7375\n",
      "Epoch 2/10\n",
      "1600/1600 [==============================] - 16s 10ms/step - loss: 0.0885 - acc: 0.9688 - val_loss: 0.9329 - val_acc: 0.6950\n",
      "Epoch 3/10\n",
      "1600/1600 [==============================] - 17s 10ms/step - loss: 0.0774 - acc: 0.9719 - val_loss: 1.3715 - val_acc: 0.7225\n",
      "Epoch 4/10\n",
      "1600/1600 [==============================] - 17s 10ms/step - loss: 0.0474 - acc: 0.9831 - val_loss: 1.4776 - val_acc: 0.7075\n",
      "Epoch 5/10\n",
      "1600/1600 [==============================] - 16s 10ms/step - loss: 0.0289 - acc: 0.9912 - val_loss: 1.7667 - val_acc: 0.7275\n",
      "Epoch 6/10\n",
      "1600/1600 [==============================] - 16s 10ms/step - loss: 0.0302 - acc: 0.9912 - val_loss: 1.3543 - val_acc: 0.6975\n",
      "Epoch 7/10\n",
      "1600/1600 [==============================] - 16s 10ms/step - loss: 0.0115 - acc: 0.9963 - val_loss: 1.4371 - val_acc: 0.7000\n",
      "Epoch 8/10\n",
      "1600/1600 [==============================] - 16s 10ms/step - loss: 0.0042 - acc: 1.0000 - val_loss: 1.6238 - val_acc: 0.7175\n",
      "Epoch 9/10\n",
      "1600/1600 [==============================] - 16s 10ms/step - loss: 0.0011 - acc: 1.0000 - val_loss: 1.7077 - val_acc: 0.7225\n",
      "Epoch 10/10\n",
      "1600/1600 [==============================] - 16s 10ms/step - loss: 7.5668e-04 - acc: 1.0000 - val_loss: 1.7804 - val_acc: 0.7200\n"
     ]
    }
   ],
   "source": [
    "history = model.fit(x_train,y_train,epochs=10,batch_size=16,class_weight=(0.5,2.2),validation_data = (x_test,y_test),callbacks=[model_checkpoint,tb])"
   ]
  },
  {
   "cell_type": "code",
   "execution_count": 101,
   "metadata": {},
   "outputs": [
    {
     "data": {
      "text/plain": [
       "(1600, 128, 256, 3)"
      ]
     },
     "execution_count": 101,
     "metadata": {},
     "output_type": "execute_result"
    }
   ],
   "source": [
    "x_train.shape"
   ]
  },
  {
   "cell_type": "code",
   "execution_count": 21,
   "metadata": {},
   "outputs": [
    {
     "name": "stdout",
     "output_type": "stream",
     "text": [
      "400/400 [==============================] - 3s 9ms/step\n"
     ]
    }
   ],
   "source": [
    "model = load_model('basic_conv.hdf5')\n",
    "y_pred = model.predict(x_test,verbose=1)"
   ]
  },
  {
   "cell_type": "code",
   "execution_count": 22,
   "metadata": {},
   "outputs": [],
   "source": [
    "y_pred_class = y_pred > 0.5"
   ]
  },
  {
   "cell_type": "code",
   "execution_count": 34,
   "metadata": {},
   "outputs": [
    {
     "data": {
      "text/plain": [
       "(array([0, 1]), array([1333,  267], dtype=int64))"
      ]
     },
     "execution_count": 34,
     "metadata": {},
     "output_type": "execute_result"
    }
   ],
   "source": [
    "np.unique(y_train,return_counts=True)"
   ]
  },
  {
   "cell_type": "code",
   "execution_count": 24,
   "metadata": {},
   "outputs": [
    {
     "data": {
      "text/plain": [
       "(array([0, 1]), array([293, 107], dtype=int64))"
      ]
     },
     "execution_count": 24,
     "metadata": {},
     "output_type": "execute_result"
    }
   ],
   "source": [
    "np.unique(y_test,return_counts=True)"
   ]
  },
  {
   "cell_type": "code",
   "execution_count": 29,
   "metadata": {},
   "outputs": [
    {
     "name": "stdout",
     "output_type": "stream",
     "text": [
      "F1 Score %f  0.25609756097560976\n",
      "Precision Score %f 0.3684210526315789\n",
      "Recall Score %f 0.19626168224299065\n"
     ]
    }
   ],
   "source": [
    "print (\"F1 Score %f \",f1_score(y_test,y_pred_class))\n",
    "print (\"Precision Score %f\",precision_score(y_test,y_pred_class))\n",
    "print (\"Recall Score %f\",recall_score(y_test,y_pred_class))"
   ]
  },
  {
   "cell_type": "code",
   "execution_count": 26,
   "metadata": {},
   "outputs": [
    {
     "name": "stdout",
     "output_type": "stream",
     "text": [
      "Confusion matrix, without normalization\n",
      "[[257  36]\n",
      " [ 86  21]]\n",
      "Normalized confusion matrix\n",
      "[[0.88 0.12]\n",
      " [0.8  0.2 ]]\n"
     ]
    },
    {
     "data": {
      "image/png": "[encoded data removed]",
      "text/plain": [
       "<Figure size 432x288 with 2 Axes>"
      ]
     },
     "metadata": {},
     "output_type": "display_data"
    },
    {
     "data": {
      "image/png": "[encoded data removed]",
      "text/plain": [
       "<Figure size 432x288 with 2 Axes>"
      ]
     },
     "metadata": {},
     "output_type": "display_data"
    }
   ],
   "source": [
    "import itertools\n",
    "def plot_confusion_matrix(cm, classes,\n",
    "                          normalize=False,\n",
    "                          title='Confusion matrix',\n",
    "                          cmap=plt.cm.Blues):\n",
    "    \"\"\"\n",
    "    This function prints and plots the confusion matrix.\n",
    "    Normalization can be applied by setting `normalize=True`.\n",
    "    \"\"\"\n",
    "    if normalize:\n",
    "        cm = cm.astype('float') / cm.sum(axis=1)[:, np.newaxis]\n",
    "        print(\"Normalized confusion matrix\")\n",
    "    else:\n",
    "        print('Confusion matrix, without normalization')\n",
    "\n",
    "    print(cm)\n",
    "\n",
    "    plt.imshow(cm, interpolation='nearest', cmap=cmap)\n",
    "    plt.title(title)\n",
    "    plt.colorbar()\n",
    "    tick_marks = np.arange(len(classes))\n",
    "    plt.xticks(tick_marks, classes, rotation=45)\n",
    "    plt.yticks(tick_marks, classes)\n",
    "\n",
    "    fmt = '.2f' if normalize else 'd'\n",
    "    thresh = cm.max() / 2.\n",
    "    for i, j in itertools.product(range(cm.shape[0]), range(cm.shape[1])):\n",
    "        plt.text(j, i, format(cm[i, j], fmt),\n",
    "                 horizontalalignment=\"center\",\n",
    "                 color=\"white\" if cm[i, j] > thresh else \"black\")\n",
    "\n",
    "    plt.tight_layout()\n",
    "    plt.ylabel('True label')\n",
    "    plt.xlabel('Predicted label')\n",
    "\n",
    "\n",
    "class_names = [\"Melanoma\",\"Others\"]\n",
    "# Compute confusion matrix\n",
    "cnf_matrix = confusion_matrix(y_test, y_pred_class)\n",
    "np.set_printoptions(precision=2)\n",
    "\n",
    "# Plot non-normalized confusion matrix\n",
    "plt.figure()\n",
    "plot_confusion_matrix(cnf_matrix, classes=class_names,\n",
    "                      title='Confusion matrix, without normalization')\n",
    "\n",
    "# Plot normalized confusion matrix\n",
    "plt.figure()\n",
    "plot_confusion_matrix(cnf_matrix, classes=class_names, normalize=True,\n",
    "                      title='Normalized confusion matrix')\n",
    "\n",
    "plt.show()"
   ]
  },
  {
   "cell_type": "code",
   "execution_count": 23,
   "metadata": {},
   "outputs": [
    {
     "data": {
      "text/plain": [
       "array([[281,  12],\n",
       "       [103,   4]], dtype=int64)"
      ]
     },
     "execution_count": 23,
     "metadata": {},
     "output_type": "execute_result"
    }
   ],
   "source": [
    "confusion_matrix(y_test,y_pred_class)"
   ]
  },
  {
   "cell_type": "code",
   "execution_count": null,
   "metadata": {},
   "outputs": [],
   "source": [
    "#VGG16\n",
    "\n",
    "model_vgg = vgg16.VGG16(include_top=False,weights=None)\n",
    "\n",
    "#Create your own input format (here 3x200x200)\n",
    "inputs = Input(shape=(128,256,3),name = 'image_input')\n",
    "\n",
    "#Use the generated model \n",
    "output_vgg16_conv = model_vgg(inputs)\n",
    "\n",
    "#Add the fully-connected layers \n",
    "x = Flatten(name='flatten')(output_vgg16_conv)\n",
    "x = Dense(1024, activation='relu', name='fc2')(x)\n",
    "x = Dense(1, activation='sigmoid', name='predictions')(x)\n",
    "\n",
    "#Create your own model \n",
    "model_vgg = Model(input=inputs, output=x)\n",
    "model_vgg.compile('adam',loss='binary_crossentropy',metrics = ['accuracy'])\n",
    "#get_model_memory_usage(8, model_vgg)\n"
   ]
  },
  {
   "cell_type": "code",
   "execution_count": null,
   "metadata": {},
   "outputs": [],
   "source": [
    "model_checkpoint = ModelCheckpoint('./vgg_classification.hdf5',save_best_only=True)\n",
    "tb = TensorBoard(log_dir='./Graph/vgg_classification/')\n",
    "history = model_vgg.fit(x_train,y_train,epochs=10,batch_size=4,class_weight=(0.5,2.4),validation_data = (x_test,y_test),callbacks=[model_checkpoint,tb])"
   ]
  },
  {
   "cell_type": "code",
   "execution_count": null,
   "metadata": {},
   "outputs": [],
   "source": []
  }
 ],
 "metadata": {
  "kernelspec": {
   "display_name": "Python 3",
   "language": "python",
   "name": "python3"
  },
  "language_info": {
   "codemirror_mode": {
    "name": "ipython",
    "version": 3
   },
   "file_extension": ".py",
   "mimetype": "text/x-python",
   "name": "python",
   "nbconvert_exporter": "python",
   "pygments_lexer": "ipython3",
   "version": "3.5.2"
  }
 },
 "nbformat": 4,
 "nbformat_minor": 2
}
